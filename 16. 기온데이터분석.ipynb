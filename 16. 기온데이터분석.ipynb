{
 "cells": [
  {
   "cell_type": "markdown",
   "id": "d770f1d7-1a86-4d04-bcbe-b0a62da31be4",
   "metadata": {},
   "source": [
    "- 유효한 데이터\n",
    "- 유즈케이스 있는지 찾아보기\n",
    "- 진입장벽 : 돌겠네!"
   ]
  },
  {
   "cell_type": "code",
   "execution_count": 1,
   "id": "00676647-3670-470c-84d6-7675f7d5b482",
   "metadata": {},
   "outputs": [],
   "source": [
    "# 치매 이야기\n",
    "# 서울대병원을 가면 ... 육군대위치매노인이 다시 전땅끄로 돌아온다\n",
    "# 귀담아 들어라 강사의 말을"
   ]
  },
  {
   "cell_type": "markdown",
   "id": "35d95647-d41c-4f41-8970-9a1f7af1f9fe",
   "metadata": {},
   "source": [
    "- https://data.kma.go.kr/stcs/grnd/grndTaList.do?pgmNo=70\n",
    "- ta_20251028161527.csv 다운"
   ]
  },
  {
   "cell_type": "code",
   "execution_count": 2,
   "id": "61fe161b-9438-4d97-99b9-83ded60e65d8",
   "metadata": {},
   "outputs": [],
   "source": [
    "import pandas as pd\n",
    "import numpy as np\n",
    "import matplotlib.pyplot as plt"
   ]
  },
  {
   "cell_type": "code",
   "execution_count": 3,
   "id": "3999c129-5c86-4651-a32f-74c92b8c926d",
   "metadata": {},
   "outputs": [],
   "source": [
    "# windows 용 한글 폰트 오류 해결\n",
    "from matplotlib import font_manager, rc\n",
    "\n",
    "font_path = \"C:/Windows/Fonts/malgun.ttf\"\n",
    "font_name = font_manager.FontProperties(fname = font_path).get_name()\n",
    "rc(\"font\", family = font_name)"
   ]
  },
  {
   "cell_type": "code",
   "execution_count": 4,
   "id": "296000b0-438f-47af-9732-b01fddf7af64",
   "metadata": {},
   "outputs": [],
   "source": [
    "df = pd.read_csv(\"./data/seoul.csv\", encoding = 'cp949', skiprows=6)"
   ]
  },
  {
   "cell_type": "code",
   "execution_count": 5,
   "id": "03a35e52-d358-41d6-b498-bc115ed66b7c",
   "metadata": {},
   "outputs": [
    {
     "data": {
      "text/plain": [
       "날짜          object\n",
       "지점           int64\n",
       "평균기온(℃)    float64\n",
       "최저기온(℃)    float64\n",
       "최고기온(℃)    float64\n",
       "dtype: object"
      ]
     },
     "execution_count": 5,
     "metadata": {},
     "output_type": "execute_result"
    }
   ],
   "source": [
    "df.dtypes"
   ]
  },
  {
   "cell_type": "code",
   "execution_count": 6,
   "id": "e8da7087-ef21-46cb-8ebb-9ceb5f0f5bb0",
   "metadata": {},
   "outputs": [
    {
     "data": {
      "text/plain": [
       "날짜           0\n",
       "지점           0\n",
       "평균기온(℃)    756\n",
       "최저기온(℃)    759\n",
       "최고기온(℃)    759\n",
       "dtype: int64"
      ]
     },
     "execution_count": 6,
     "metadata": {},
     "output_type": "execute_result"
    }
   ],
   "source": [
    "df.isna().sum()"
   ]
  },
  {
   "cell_type": "code",
   "execution_count": 7,
   "id": "69551882-66b8-4564-abb2-dd6bcafffbb0",
   "metadata": {},
   "outputs": [
    {
     "data": {
      "text/html": [
       "<div>\n",
       "<style scoped>\n",
       "    .dataframe tbody tr th:only-of-type {\n",
       "        vertical-align: middle;\n",
       "    }\n",
       "\n",
       "    .dataframe tbody tr th {\n",
       "        vertical-align: top;\n",
       "    }\n",
       "\n",
       "    .dataframe thead th {\n",
       "        text-align: right;\n",
       "    }\n",
       "</style>\n",
       "<table border=\"1\" class=\"dataframe\">\n",
       "  <thead>\n",
       "    <tr style=\"text-align: right;\">\n",
       "      <th></th>\n",
       "      <th>날짜</th>\n",
       "      <th>지점</th>\n",
       "      <th>평균기온(℃)</th>\n",
       "      <th>최저기온(℃)</th>\n",
       "      <th>최고기온(℃)</th>\n",
       "    </tr>\n",
       "  </thead>\n",
       "  <tbody>\n",
       "    <tr>\n",
       "      <th>0</th>\n",
       "      <td>\\t1907-10-01</td>\n",
       "      <td>108</td>\n",
       "      <td>13.5</td>\n",
       "      <td>7.9</td>\n",
       "      <td>20.7</td>\n",
       "    </tr>\n",
       "    <tr>\n",
       "      <th>1</th>\n",
       "      <td>\\t1907-10-02</td>\n",
       "      <td>108</td>\n",
       "      <td>16.2</td>\n",
       "      <td>7.9</td>\n",
       "      <td>22.0</td>\n",
       "    </tr>\n",
       "    <tr>\n",
       "      <th>2</th>\n",
       "      <td>\\t1907-10-03</td>\n",
       "      <td>108</td>\n",
       "      <td>16.2</td>\n",
       "      <td>13.1</td>\n",
       "      <td>21.3</td>\n",
       "    </tr>\n",
       "    <tr>\n",
       "      <th>3</th>\n",
       "      <td>\\t1907-10-04</td>\n",
       "      <td>108</td>\n",
       "      <td>16.5</td>\n",
       "      <td>11.2</td>\n",
       "      <td>22.0</td>\n",
       "    </tr>\n",
       "    <tr>\n",
       "      <th>4</th>\n",
       "      <td>\\t1907-10-05</td>\n",
       "      <td>108</td>\n",
       "      <td>17.6</td>\n",
       "      <td>10.9</td>\n",
       "      <td>25.4</td>\n",
       "    </tr>\n",
       "  </tbody>\n",
       "</table>\n",
       "</div>"
      ],
      "text/plain": [
       "             날짜   지점  평균기온(℃)  최저기온(℃)  최고기온(℃)\n",
       "0  \\t1907-10-01  108     13.5      7.9     20.7\n",
       "1  \\t1907-10-02  108     16.2      7.9     22.0\n",
       "2  \\t1907-10-03  108     16.2     13.1     21.3\n",
       "3  \\t1907-10-04  108     16.5     11.2     22.0\n",
       "4  \\t1907-10-05  108     17.6     10.9     25.4"
      ]
     },
     "execution_count": 7,
     "metadata": {},
     "output_type": "execute_result"
    }
   ],
   "source": [
    "df.head()"
   ]
  },
  {
   "cell_type": "code",
   "execution_count": 8,
   "id": "5e50bc72-59b9-4a78-812f-e91859647a55",
   "metadata": {},
   "outputs": [
    {
     "data": {
      "text/plain": [
       "날짜          object\n",
       "지점           int64\n",
       "평균기온(℃)    float64\n",
       "최저기온(℃)    float64\n",
       "최고기온(℃)    float64\n",
       "dtype: object"
      ]
     },
     "execution_count": 8,
     "metadata": {},
     "output_type": "execute_result"
    }
   ],
   "source": [
    "df.dtypes"
   ]
  },
  {
   "cell_type": "code",
   "execution_count": 9,
   "id": "16c09a88-e7a2-4f61-a0c4-5841c155555f",
   "metadata": {},
   "outputs": [],
   "source": [
    "# strip\n",
    "df[\"날짜\"] = df[\"날짜\"].str.strip()"
   ]
  },
  {
   "cell_type": "code",
   "execution_count": 10,
   "id": "bd4477ff-978f-4add-ac1a-0b110749fd9f",
   "metadata": {},
   "outputs": [
    {
     "data": {
      "text/html": [
       "<div>\n",
       "<style scoped>\n",
       "    .dataframe tbody tr th:only-of-type {\n",
       "        vertical-align: middle;\n",
       "    }\n",
       "\n",
       "    .dataframe tbody tr th {\n",
       "        vertical-align: top;\n",
       "    }\n",
       "\n",
       "    .dataframe thead th {\n",
       "        text-align: right;\n",
       "    }\n",
       "</style>\n",
       "<table border=\"1\" class=\"dataframe\">\n",
       "  <thead>\n",
       "    <tr style=\"text-align: right;\">\n",
       "      <th></th>\n",
       "      <th>날짜</th>\n",
       "      <th>지점</th>\n",
       "      <th>평균기온(℃)</th>\n",
       "      <th>최저기온(℃)</th>\n",
       "      <th>최고기온(℃)</th>\n",
       "    </tr>\n",
       "  </thead>\n",
       "  <tbody>\n",
       "    <tr>\n",
       "      <th>0</th>\n",
       "      <td>1907-10-01</td>\n",
       "      <td>108</td>\n",
       "      <td>13.5</td>\n",
       "      <td>7.9</td>\n",
       "      <td>20.7</td>\n",
       "    </tr>\n",
       "    <tr>\n",
       "      <th>1</th>\n",
       "      <td>1907-10-02</td>\n",
       "      <td>108</td>\n",
       "      <td>16.2</td>\n",
       "      <td>7.9</td>\n",
       "      <td>22.0</td>\n",
       "    </tr>\n",
       "    <tr>\n",
       "      <th>2</th>\n",
       "      <td>1907-10-03</td>\n",
       "      <td>108</td>\n",
       "      <td>16.2</td>\n",
       "      <td>13.1</td>\n",
       "      <td>21.3</td>\n",
       "    </tr>\n",
       "    <tr>\n",
       "      <th>3</th>\n",
       "      <td>1907-10-04</td>\n",
       "      <td>108</td>\n",
       "      <td>16.5</td>\n",
       "      <td>11.2</td>\n",
       "      <td>22.0</td>\n",
       "    </tr>\n",
       "    <tr>\n",
       "      <th>4</th>\n",
       "      <td>1907-10-05</td>\n",
       "      <td>108</td>\n",
       "      <td>17.6</td>\n",
       "      <td>10.9</td>\n",
       "      <td>25.4</td>\n",
       "    </tr>\n",
       "  </tbody>\n",
       "</table>\n",
       "</div>"
      ],
      "text/plain": [
       "           날짜   지점  평균기온(℃)  최저기온(℃)  최고기온(℃)\n",
       "0  1907-10-01  108     13.5      7.9     20.7\n",
       "1  1907-10-02  108     16.2      7.9     22.0\n",
       "2  1907-10-03  108     16.2     13.1     21.3\n",
       "3  1907-10-04  108     16.5     11.2     22.0\n",
       "4  1907-10-05  108     17.6     10.9     25.4"
      ]
     },
     "execution_count": 10,
     "metadata": {},
     "output_type": "execute_result"
    }
   ],
   "source": [
    "df.head()"
   ]
  },
  {
   "cell_type": "code",
   "execution_count": 11,
   "id": "92b15cb8-2a38-4a71-92a0-b4bf89b7dc4b",
   "metadata": {},
   "outputs": [
    {
     "data": {
      "text/plain": [
       "날짜           0\n",
       "지점           0\n",
       "평균기온(℃)    756\n",
       "최저기온(℃)    759\n",
       "최고기온(℃)    759\n",
       "dtype: int64"
      ]
     },
     "execution_count": 11,
     "metadata": {},
     "output_type": "execute_result"
    }
   ],
   "source": [
    "# 결측치 확인\n",
    "df.isna().sum()"
   ]
  },
  {
   "cell_type": "code",
   "execution_count": 12,
   "id": "1dc707a3-8b99-42a6-a596-5b31cd33f2bf",
   "metadata": {},
   "outputs": [
    {
     "data": {
      "text/html": [
       "<div>\n",
       "<style scoped>\n",
       "    .dataframe tbody tr th:only-of-type {\n",
       "        vertical-align: middle;\n",
       "    }\n",
       "\n",
       "    .dataframe tbody tr th {\n",
       "        vertical-align: top;\n",
       "    }\n",
       "\n",
       "    .dataframe thead th {\n",
       "        text-align: right;\n",
       "    }\n",
       "</style>\n",
       "<table border=\"1\" class=\"dataframe\">\n",
       "  <thead>\n",
       "    <tr style=\"text-align: right;\">\n",
       "      <th></th>\n",
       "      <th>날짜</th>\n",
       "      <th>지점</th>\n",
       "      <th>평균기온(℃)</th>\n",
       "      <th>최저기온(℃)</th>\n",
       "      <th>최고기온(℃)</th>\n",
       "    </tr>\n",
       "  </thead>\n",
       "  <tbody>\n",
       "    <tr>\n",
       "      <th>15676</th>\n",
       "      <td>1950-09-01</td>\n",
       "      <td>108</td>\n",
       "      <td>NaN</td>\n",
       "      <td>NaN</td>\n",
       "      <td>NaN</td>\n",
       "    </tr>\n",
       "    <tr>\n",
       "      <th>15677</th>\n",
       "      <td>1950-09-02</td>\n",
       "      <td>108</td>\n",
       "      <td>NaN</td>\n",
       "      <td>NaN</td>\n",
       "      <td>NaN</td>\n",
       "    </tr>\n",
       "    <tr>\n",
       "      <th>15678</th>\n",
       "      <td>1950-09-03</td>\n",
       "      <td>108</td>\n",
       "      <td>NaN</td>\n",
       "      <td>NaN</td>\n",
       "      <td>NaN</td>\n",
       "    </tr>\n",
       "    <tr>\n",
       "      <th>15679</th>\n",
       "      <td>1950-09-04</td>\n",
       "      <td>108</td>\n",
       "      <td>NaN</td>\n",
       "      <td>NaN</td>\n",
       "      <td>NaN</td>\n",
       "    </tr>\n",
       "    <tr>\n",
       "      <th>15680</th>\n",
       "      <td>1950-09-05</td>\n",
       "      <td>108</td>\n",
       "      <td>NaN</td>\n",
       "      <td>NaN</td>\n",
       "      <td>NaN</td>\n",
       "    </tr>\n",
       "    <tr>\n",
       "      <th>...</th>\n",
       "      <td>...</td>\n",
       "      <td>...</td>\n",
       "      <td>...</td>\n",
       "      <td>...</td>\n",
       "      <td>...</td>\n",
       "    </tr>\n",
       "    <tr>\n",
       "      <th>16427</th>\n",
       "      <td>1953-11-26</td>\n",
       "      <td>108</td>\n",
       "      <td>NaN</td>\n",
       "      <td>NaN</td>\n",
       "      <td>NaN</td>\n",
       "    </tr>\n",
       "    <tr>\n",
       "      <th>16428</th>\n",
       "      <td>1953-11-27</td>\n",
       "      <td>108</td>\n",
       "      <td>NaN</td>\n",
       "      <td>NaN</td>\n",
       "      <td>NaN</td>\n",
       "    </tr>\n",
       "    <tr>\n",
       "      <th>16429</th>\n",
       "      <td>1953-11-28</td>\n",
       "      <td>108</td>\n",
       "      <td>NaN</td>\n",
       "      <td>NaN</td>\n",
       "      <td>NaN</td>\n",
       "    </tr>\n",
       "    <tr>\n",
       "      <th>16430</th>\n",
       "      <td>1953-11-29</td>\n",
       "      <td>108</td>\n",
       "      <td>NaN</td>\n",
       "      <td>NaN</td>\n",
       "      <td>NaN</td>\n",
       "    </tr>\n",
       "    <tr>\n",
       "      <th>16431</th>\n",
       "      <td>1953-11-30</td>\n",
       "      <td>108</td>\n",
       "      <td>NaN</td>\n",
       "      <td>NaN</td>\n",
       "      <td>NaN</td>\n",
       "    </tr>\n",
       "  </tbody>\n",
       "</table>\n",
       "<p>756 rows × 5 columns</p>\n",
       "</div>"
      ],
      "text/plain": [
       "               날짜   지점  평균기온(℃)  최저기온(℃)  최고기온(℃)\n",
       "15676  1950-09-01  108      NaN      NaN      NaN\n",
       "15677  1950-09-02  108      NaN      NaN      NaN\n",
       "15678  1950-09-03  108      NaN      NaN      NaN\n",
       "15679  1950-09-04  108      NaN      NaN      NaN\n",
       "15680  1950-09-05  108      NaN      NaN      NaN\n",
       "...           ...  ...      ...      ...      ...\n",
       "16427  1953-11-26  108      NaN      NaN      NaN\n",
       "16428  1953-11-27  108      NaN      NaN      NaN\n",
       "16429  1953-11-28  108      NaN      NaN      NaN\n",
       "16430  1953-11-29  108      NaN      NaN      NaN\n",
       "16431  1953-11-30  108      NaN      NaN      NaN\n",
       "\n",
       "[756 rows x 5 columns]"
      ]
     },
     "execution_count": 12,
     "metadata": {},
     "output_type": "execute_result"
    }
   ],
   "source": [
    "df[df[\"평균기온(℃)\"].isna()]"
   ]
  },
  {
   "cell_type": "code",
   "execution_count": 13,
   "id": "f410314a-a452-413f-9b63-4ed672529356",
   "metadata": {},
   "outputs": [
    {
     "data": {
      "text/html": [
       "<div>\n",
       "<style scoped>\n",
       "    .dataframe tbody tr th:only-of-type {\n",
       "        vertical-align: middle;\n",
       "    }\n",
       "\n",
       "    .dataframe tbody tr th {\n",
       "        vertical-align: top;\n",
       "    }\n",
       "\n",
       "    .dataframe thead th {\n",
       "        text-align: right;\n",
       "    }\n",
       "</style>\n",
       "<table border=\"1\" class=\"dataframe\">\n",
       "  <thead>\n",
       "    <tr style=\"text-align: right;\">\n",
       "      <th></th>\n",
       "      <th>날짜</th>\n",
       "      <th>지점</th>\n",
       "      <th>평균기온(℃)</th>\n",
       "      <th>최저기온(℃)</th>\n",
       "      <th>최고기온(℃)</th>\n",
       "    </tr>\n",
       "  </thead>\n",
       "  <tbody>\n",
       "    <tr>\n",
       "      <th>15676</th>\n",
       "      <td>1950-09-01</td>\n",
       "      <td>108</td>\n",
       "      <td>NaN</td>\n",
       "      <td>NaN</td>\n",
       "      <td>NaN</td>\n",
       "    </tr>\n",
       "    <tr>\n",
       "      <th>15677</th>\n",
       "      <td>1950-09-02</td>\n",
       "      <td>108</td>\n",
       "      <td>NaN</td>\n",
       "      <td>NaN</td>\n",
       "      <td>NaN</td>\n",
       "    </tr>\n",
       "    <tr>\n",
       "      <th>15678</th>\n",
       "      <td>1950-09-03</td>\n",
       "      <td>108</td>\n",
       "      <td>NaN</td>\n",
       "      <td>NaN</td>\n",
       "      <td>NaN</td>\n",
       "    </tr>\n",
       "    <tr>\n",
       "      <th>15679</th>\n",
       "      <td>1950-09-04</td>\n",
       "      <td>108</td>\n",
       "      <td>NaN</td>\n",
       "      <td>NaN</td>\n",
       "      <td>NaN</td>\n",
       "    </tr>\n",
       "    <tr>\n",
       "      <th>15680</th>\n",
       "      <td>1950-09-05</td>\n",
       "      <td>108</td>\n",
       "      <td>NaN</td>\n",
       "      <td>NaN</td>\n",
       "      <td>NaN</td>\n",
       "    </tr>\n",
       "    <tr>\n",
       "      <th>...</th>\n",
       "      <td>...</td>\n",
       "      <td>...</td>\n",
       "      <td>...</td>\n",
       "      <td>...</td>\n",
       "      <td>...</td>\n",
       "    </tr>\n",
       "    <tr>\n",
       "      <th>16430</th>\n",
       "      <td>1953-11-29</td>\n",
       "      <td>108</td>\n",
       "      <td>NaN</td>\n",
       "      <td>NaN</td>\n",
       "      <td>NaN</td>\n",
       "    </tr>\n",
       "    <tr>\n",
       "      <th>16431</th>\n",
       "      <td>1953-11-30</td>\n",
       "      <td>108</td>\n",
       "      <td>NaN</td>\n",
       "      <td>NaN</td>\n",
       "      <td>NaN</td>\n",
       "    </tr>\n",
       "    <tr>\n",
       "      <th>21260</th>\n",
       "      <td>1967-02-19</td>\n",
       "      <td>108</td>\n",
       "      <td>-1.7</td>\n",
       "      <td>NaN</td>\n",
       "      <td>NaN</td>\n",
       "    </tr>\n",
       "    <tr>\n",
       "      <th>23691</th>\n",
       "      <td>1973-10-16</td>\n",
       "      <td>108</td>\n",
       "      <td>12.3</td>\n",
       "      <td>NaN</td>\n",
       "      <td>NaN</td>\n",
       "    </tr>\n",
       "    <tr>\n",
       "      <th>39758</th>\n",
       "      <td>2017-10-12</td>\n",
       "      <td>108</td>\n",
       "      <td>11.4</td>\n",
       "      <td>8.8</td>\n",
       "      <td>NaN</td>\n",
       "    </tr>\n",
       "  </tbody>\n",
       "</table>\n",
       "<p>759 rows × 5 columns</p>\n",
       "</div>"
      ],
      "text/plain": [
       "               날짜   지점  평균기온(℃)  최저기온(℃)  최고기온(℃)\n",
       "15676  1950-09-01  108      NaN      NaN      NaN\n",
       "15677  1950-09-02  108      NaN      NaN      NaN\n",
       "15678  1950-09-03  108      NaN      NaN      NaN\n",
       "15679  1950-09-04  108      NaN      NaN      NaN\n",
       "15680  1950-09-05  108      NaN      NaN      NaN\n",
       "...           ...  ...      ...      ...      ...\n",
       "16430  1953-11-29  108      NaN      NaN      NaN\n",
       "16431  1953-11-30  108      NaN      NaN      NaN\n",
       "21260  1967-02-19  108     -1.7      NaN      NaN\n",
       "23691  1973-10-16  108     12.3      NaN      NaN\n",
       "39758  2017-10-12  108     11.4      8.8      NaN\n",
       "\n",
       "[759 rows x 5 columns]"
      ]
     },
     "execution_count": 13,
     "metadata": {},
     "output_type": "execute_result"
    }
   ],
   "source": [
    "df[df[\"최고기온(℃)\"].isna()]"
   ]
  },
  {
   "cell_type": "code",
   "execution_count": 14,
   "id": "ea6a9626-2eb9-4734-8e6d-6940876d02d0",
   "metadata": {},
   "outputs": [],
   "source": [
    "# 무슨일이야!!!!"
   ]
  },
  {
   "cell_type": "code",
   "execution_count": 15,
   "id": "c72912f0-0922-41af-b52e-4f3e42507c9a",
   "metadata": {},
   "outputs": [],
   "source": [
    "# 6_25 전쟁, 한국전쟁이요~! 라는 상식이 있어요~!"
   ]
  },
  {
   "cell_type": "code",
   "execution_count": 16,
   "id": "fb74dcce-d3da-468f-b310-66ff88299280",
   "metadata": {},
   "outputs": [],
   "source": [
    "# 얕고 넓은 지식 , 다소 깊은 지식...이 필요해요~"
   ]
  },
  {
   "cell_type": "markdown",
   "id": "30b3d76e-1ce4-4409-89aa-a011ee70bdec",
   "metadata": {},
   "source": [
    "- 1950년대 6.25 전쟁으로 당시 데이터가 수집되지 않은 것으로 추정\n",
    "- 1950/06/25 ~ 1953/07/27 "
   ]
  },
  {
   "cell_type": "code",
   "execution_count": 17,
   "id": "202103a4-664f-484c-8bf1-deb80c93aae0",
   "metadata": {},
   "outputs": [
    {
     "data": {
      "text/plain": [
       "Index(['날짜', '지점', '평균기온(℃)', '최저기온(℃)', '최고기온(℃)'], dtype='object')"
      ]
     },
     "execution_count": 17,
     "metadata": {},
     "output_type": "execute_result"
    }
   ],
   "source": [
    "df.columns"
   ]
  },
  {
   "cell_type": "code",
   "execution_count": 18,
   "id": "fb83e4dc-d3f5-4d91-b6a7-1c96a324e8af",
   "metadata": {},
   "outputs": [],
   "source": [
    "df.columns = [\n",
    "    \"날짜\",\n",
    "    \"지점\",\n",
    "    \"평균기온\",\n",
    "    \"최저기온\",\n",
    "    \"최고기온\",\n",
    "]"
   ]
  },
  {
   "cell_type": "code",
   "execution_count": 19,
   "id": "c6cbe1fc-b7ef-4b94-b00c-37b1502f5d84",
   "metadata": {},
   "outputs": [
    {
     "data": {
      "text/html": [
       "<div>\n",
       "<style scoped>\n",
       "    .dataframe tbody tr th:only-of-type {\n",
       "        vertical-align: middle;\n",
       "    }\n",
       "\n",
       "    .dataframe tbody tr th {\n",
       "        vertical-align: top;\n",
       "    }\n",
       "\n",
       "    .dataframe thead th {\n",
       "        text-align: right;\n",
       "    }\n",
       "</style>\n",
       "<table border=\"1\" class=\"dataframe\">\n",
       "  <thead>\n",
       "    <tr style=\"text-align: right;\">\n",
       "      <th></th>\n",
       "      <th>날짜</th>\n",
       "      <th>지점</th>\n",
       "      <th>평균기온</th>\n",
       "      <th>최저기온</th>\n",
       "      <th>최고기온</th>\n",
       "    </tr>\n",
       "  </thead>\n",
       "  <tbody>\n",
       "    <tr>\n",
       "      <th>0</th>\n",
       "      <td>1907-10-01</td>\n",
       "      <td>108</td>\n",
       "      <td>13.5</td>\n",
       "      <td>7.9</td>\n",
       "      <td>20.7</td>\n",
       "    </tr>\n",
       "    <tr>\n",
       "      <th>1</th>\n",
       "      <td>1907-10-02</td>\n",
       "      <td>108</td>\n",
       "      <td>16.2</td>\n",
       "      <td>7.9</td>\n",
       "      <td>22.0</td>\n",
       "    </tr>\n",
       "    <tr>\n",
       "      <th>2</th>\n",
       "      <td>1907-10-03</td>\n",
       "      <td>108</td>\n",
       "      <td>16.2</td>\n",
       "      <td>13.1</td>\n",
       "      <td>21.3</td>\n",
       "    </tr>\n",
       "    <tr>\n",
       "      <th>3</th>\n",
       "      <td>1907-10-04</td>\n",
       "      <td>108</td>\n",
       "      <td>16.5</td>\n",
       "      <td>11.2</td>\n",
       "      <td>22.0</td>\n",
       "    </tr>\n",
       "    <tr>\n",
       "      <th>4</th>\n",
       "      <td>1907-10-05</td>\n",
       "      <td>108</td>\n",
       "      <td>17.6</td>\n",
       "      <td>10.9</td>\n",
       "      <td>25.4</td>\n",
       "    </tr>\n",
       "  </tbody>\n",
       "</table>\n",
       "</div>"
      ],
      "text/plain": [
       "           날짜   지점  평균기온  최저기온  최고기온\n",
       "0  1907-10-01  108  13.5   7.9  20.7\n",
       "1  1907-10-02  108  16.2   7.9  22.0\n",
       "2  1907-10-03  108  16.2  13.1  21.3\n",
       "3  1907-10-04  108  16.5  11.2  22.0\n",
       "4  1907-10-05  108  17.6  10.9  25.4"
      ]
     },
     "execution_count": 19,
     "metadata": {},
     "output_type": "execute_result"
    }
   ],
   "source": [
    "df.head()"
   ]
  },
  {
   "cell_type": "markdown",
   "id": "fcfe6dfb-5a65-495e-8459-b271effaf312",
   "metadata": {},
   "source": [
    "# 데이터 분석"
   ]
  },
  {
   "cell_type": "markdown",
   "id": "6deede75-d6a3-41b9-b24a-7c301d6bbfe8",
   "metadata": {},
   "source": [
    "## 서울이 가장 더웠던 날\n",
    "\n",
    "- 서울이 최고 기온이 가장 높았던 날"
   ]
  },
  {
   "cell_type": "code",
   "execution_count": 20,
   "id": "5b174b2e-b69c-4e8b-9b05-4425e283208e",
   "metadata": {},
   "outputs": [
    {
     "data": {
      "text/plain": [
       "39.6"
      ]
     },
     "execution_count": 20,
     "metadata": {},
     "output_type": "execute_result"
    }
   ],
   "source": [
    "df[\"최고기온\"].max()"
   ]
  },
  {
   "cell_type": "code",
   "execution_count": 21,
   "id": "95f3ec0d-b265-40ce-9b6a-838a6a2a7263",
   "metadata": {},
   "outputs": [
    {
     "data": {
      "text/plain": [
       "날짜      2018-08-01\n",
       "지점             108\n",
       "평균기온          33.6\n",
       "최저기온          27.8\n",
       "최고기온          39.6\n",
       "Name: 40051, dtype: object"
      ]
     },
     "execution_count": 21,
     "metadata": {},
     "output_type": "execute_result"
    }
   ],
   "source": [
    "df.loc[df[\"최고기온\"].idxmax()]"
   ]
  },
  {
   "cell_type": "code",
   "execution_count": 22,
   "id": "0d20e7dd-e734-4686-a0bd-98b5e2de497b",
   "metadata": {},
   "outputs": [
    {
     "data": {
      "text/html": [
       "<div>\n",
       "<style scoped>\n",
       "    .dataframe tbody tr th:only-of-type {\n",
       "        vertical-align: middle;\n",
       "    }\n",
       "\n",
       "    .dataframe tbody tr th {\n",
       "        vertical-align: top;\n",
       "    }\n",
       "\n",
       "    .dataframe thead th {\n",
       "        text-align: right;\n",
       "    }\n",
       "</style>\n",
       "<table border=\"1\" class=\"dataframe\">\n",
       "  <thead>\n",
       "    <tr style=\"text-align: right;\">\n",
       "      <th></th>\n",
       "      <th>날짜</th>\n",
       "      <th>지점</th>\n",
       "      <th>평균기온</th>\n",
       "      <th>최저기온</th>\n",
       "      <th>최고기온</th>\n",
       "    </tr>\n",
       "  </thead>\n",
       "  <tbody>\n",
       "    <tr>\n",
       "      <th>40051</th>\n",
       "      <td>2018-08-01</td>\n",
       "      <td>108</td>\n",
       "      <td>33.6</td>\n",
       "      <td>27.8</td>\n",
       "      <td>39.6</td>\n",
       "    </tr>\n",
       "    <tr>\n",
       "      <th>31277</th>\n",
       "      <td>1994-07-24</td>\n",
       "      <td>108</td>\n",
       "      <td>33.1</td>\n",
       "      <td>28.1</td>\n",
       "      <td>38.4</td>\n",
       "    </tr>\n",
       "    <tr>\n",
       "      <th>40050</th>\n",
       "      <td>2018-07-31</td>\n",
       "      <td>108</td>\n",
       "      <td>32.6</td>\n",
       "      <td>27.8</td>\n",
       "      <td>38.3</td>\n",
       "    </tr>\n",
       "    <tr>\n",
       "      <th>31276</th>\n",
       "      <td>1994-07-23</td>\n",
       "      <td>108</td>\n",
       "      <td>32.6</td>\n",
       "      <td>28.0</td>\n",
       "      <td>38.2</td>\n",
       "    </tr>\n",
       "    <tr>\n",
       "      <th>13111</th>\n",
       "      <td>1943-08-24</td>\n",
       "      <td>108</td>\n",
       "      <td>29.0</td>\n",
       "      <td>23.2</td>\n",
       "      <td>38.2</td>\n",
       "    </tr>\n",
       "    <tr>\n",
       "      <th>...</th>\n",
       "      <td>...</td>\n",
       "      <td>...</td>\n",
       "      <td>...</td>\n",
       "      <td>...</td>\n",
       "      <td>...</td>\n",
       "    </tr>\n",
       "    <tr>\n",
       "      <th>16430</th>\n",
       "      <td>1953-11-29</td>\n",
       "      <td>108</td>\n",
       "      <td>NaN</td>\n",
       "      <td>NaN</td>\n",
       "      <td>NaN</td>\n",
       "    </tr>\n",
       "    <tr>\n",
       "      <th>16431</th>\n",
       "      <td>1953-11-30</td>\n",
       "      <td>108</td>\n",
       "      <td>NaN</td>\n",
       "      <td>NaN</td>\n",
       "      <td>NaN</td>\n",
       "    </tr>\n",
       "    <tr>\n",
       "      <th>21260</th>\n",
       "      <td>1967-02-19</td>\n",
       "      <td>108</td>\n",
       "      <td>-1.7</td>\n",
       "      <td>NaN</td>\n",
       "      <td>NaN</td>\n",
       "    </tr>\n",
       "    <tr>\n",
       "      <th>23691</th>\n",
       "      <td>1973-10-16</td>\n",
       "      <td>108</td>\n",
       "      <td>12.3</td>\n",
       "      <td>NaN</td>\n",
       "      <td>NaN</td>\n",
       "    </tr>\n",
       "    <tr>\n",
       "      <th>39758</th>\n",
       "      <td>2017-10-12</td>\n",
       "      <td>108</td>\n",
       "      <td>11.4</td>\n",
       "      <td>8.8</td>\n",
       "      <td>NaN</td>\n",
       "    </tr>\n",
       "  </tbody>\n",
       "</table>\n",
       "<p>42696 rows × 5 columns</p>\n",
       "</div>"
      ],
      "text/plain": [
       "               날짜   지점  평균기온  최저기온  최고기온\n",
       "40051  2018-08-01  108  33.6  27.8  39.6\n",
       "31277  1994-07-24  108  33.1  28.1  38.4\n",
       "40050  2018-07-31  108  32.6  27.8  38.3\n",
       "31276  1994-07-23  108  32.6  28.0  38.2\n",
       "13111  1943-08-24  108  29.0  23.2  38.2\n",
       "...           ...  ...   ...   ...   ...\n",
       "16430  1953-11-29  108   NaN   NaN   NaN\n",
       "16431  1953-11-30  108   NaN   NaN   NaN\n",
       "21260  1967-02-19  108  -1.7   NaN   NaN\n",
       "23691  1973-10-16  108  12.3   NaN   NaN\n",
       "39758  2017-10-12  108  11.4   8.8   NaN\n",
       "\n",
       "[42696 rows x 5 columns]"
      ]
     },
     "execution_count": 22,
     "metadata": {},
     "output_type": "execute_result"
    }
   ],
   "source": [
    "df.sort_values(by=\"최고기온\", ascending = False)"
   ]
  },
  {
   "cell_type": "markdown",
   "id": "edf6b3b2-f261-41b1-a3f8-58b633383dff",
   "metadata": {},
   "source": [
    "## 내 생일의 기온 변화"
   ]
  },
  {
   "cell_type": "code",
   "execution_count": 23,
   "id": "67674cc4-0e72-4c74-b869-f21e619cfd17",
   "metadata": {},
   "outputs": [
    {
     "data": {
      "text/html": [
       "<div>\n",
       "<style scoped>\n",
       "    .dataframe tbody tr th:only-of-type {\n",
       "        vertical-align: middle;\n",
       "    }\n",
       "\n",
       "    .dataframe tbody tr th {\n",
       "        vertical-align: top;\n",
       "    }\n",
       "\n",
       "    .dataframe thead th {\n",
       "        text-align: right;\n",
       "    }\n",
       "</style>\n",
       "<table border=\"1\" class=\"dataframe\">\n",
       "  <thead>\n",
       "    <tr style=\"text-align: right;\">\n",
       "      <th></th>\n",
       "      <th>날짜</th>\n",
       "      <th>지점</th>\n",
       "      <th>평균기온</th>\n",
       "      <th>최저기온</th>\n",
       "      <th>최고기온</th>\n",
       "    </tr>\n",
       "  </thead>\n",
       "  <tbody>\n",
       "    <tr>\n",
       "      <th>32803</th>\n",
       "      <td>1998-09-27</td>\n",
       "      <td>108</td>\n",
       "      <td>22.2</td>\n",
       "      <td>17.7</td>\n",
       "      <td>27.3</td>\n",
       "    </tr>\n",
       "  </tbody>\n",
       "</table>\n",
       "</div>"
      ],
      "text/plain": [
       "               날짜   지점  평균기온  최저기온  최고기온\n",
       "32803  1998-09-27  108  22.2  17.7  27.3"
      ]
     },
     "execution_count": 23,
     "metadata": {},
     "output_type": "execute_result"
    }
   ],
   "source": [
    "df[df[\"날짜\"] == \"1998-09-27\"]"
   ]
  },
  {
   "cell_type": "code",
   "execution_count": null,
   "id": "fc6ed6d4-1c06-4f85-8bc6-7a38f3c37498",
   "metadata": {},
   "outputs": [],
   "source": []
  },
  {
   "cell_type": "code",
   "execution_count": 24,
   "id": "3339f755-a4e1-4ccf-917a-55f72aa0a535",
   "metadata": {},
   "outputs": [
    {
     "data": {
      "text/plain": [
       "np.int64(32803)"
      ]
     },
     "execution_count": 24,
     "metadata": {},
     "output_type": "execute_result"
    }
   ],
   "source": [
    "df[df[\"날짜\"] == \"1998-09-27\"].index[0]"
   ]
  },
  {
   "cell_type": "code",
   "execution_count": 25,
   "id": "491deab9-9a99-4f8a-9a0e-a5398b861346",
   "metadata": {},
   "outputs": [],
   "source": [
    "# 내생일의 데이터를 뽑았다\n",
    "# 변화를 알고싶다! ( 어디서 부터 어디까지 의 변화냐 !)\n",
    "my_birth = df.iloc[:df[df[\"날짜\"] == \"1998-09-27\"].index[0] + 1]"
   ]
  },
  {
   "cell_type": "code",
   "execution_count": 26,
   "id": "3b5c34f2-d9d3-43ec-8a7b-773e2f8e5f9b",
   "metadata": {},
   "outputs": [
    {
     "data": {
      "text/html": [
       "<div>\n",
       "<style scoped>\n",
       "    .dataframe tbody tr th:only-of-type {\n",
       "        vertical-align: middle;\n",
       "    }\n",
       "\n",
       "    .dataframe tbody tr th {\n",
       "        vertical-align: top;\n",
       "    }\n",
       "\n",
       "    .dataframe thead th {\n",
       "        text-align: right;\n",
       "    }\n",
       "</style>\n",
       "<table border=\"1\" class=\"dataframe\">\n",
       "  <thead>\n",
       "    <tr style=\"text-align: right;\">\n",
       "      <th></th>\n",
       "      <th>날짜</th>\n",
       "      <th>지점</th>\n",
       "      <th>평균기온</th>\n",
       "      <th>최저기온</th>\n",
       "      <th>최고기온</th>\n",
       "    </tr>\n",
       "  </thead>\n",
       "  <tbody>\n",
       "    <tr>\n",
       "      <th>0</th>\n",
       "      <td>1907-10-01</td>\n",
       "      <td>108</td>\n",
       "      <td>13.5</td>\n",
       "      <td>7.9</td>\n",
       "      <td>20.7</td>\n",
       "    </tr>\n",
       "    <tr>\n",
       "      <th>1</th>\n",
       "      <td>1907-10-02</td>\n",
       "      <td>108</td>\n",
       "      <td>16.2</td>\n",
       "      <td>7.9</td>\n",
       "      <td>22.0</td>\n",
       "    </tr>\n",
       "    <tr>\n",
       "      <th>2</th>\n",
       "      <td>1907-10-03</td>\n",
       "      <td>108</td>\n",
       "      <td>16.2</td>\n",
       "      <td>13.1</td>\n",
       "      <td>21.3</td>\n",
       "    </tr>\n",
       "    <tr>\n",
       "      <th>3</th>\n",
       "      <td>1907-10-04</td>\n",
       "      <td>108</td>\n",
       "      <td>16.5</td>\n",
       "      <td>11.2</td>\n",
       "      <td>22.0</td>\n",
       "    </tr>\n",
       "    <tr>\n",
       "      <th>4</th>\n",
       "      <td>1907-10-05</td>\n",
       "      <td>108</td>\n",
       "      <td>17.6</td>\n",
       "      <td>10.9</td>\n",
       "      <td>25.4</td>\n",
       "    </tr>\n",
       "    <tr>\n",
       "      <th>...</th>\n",
       "      <td>...</td>\n",
       "      <td>...</td>\n",
       "      <td>...</td>\n",
       "      <td>...</td>\n",
       "      <td>...</td>\n",
       "    </tr>\n",
       "    <tr>\n",
       "      <th>32799</th>\n",
       "      <td>1998-09-23</td>\n",
       "      <td>108</td>\n",
       "      <td>19.8</td>\n",
       "      <td>15.6</td>\n",
       "      <td>23.5</td>\n",
       "    </tr>\n",
       "    <tr>\n",
       "      <th>32800</th>\n",
       "      <td>1998-09-24</td>\n",
       "      <td>108</td>\n",
       "      <td>19.8</td>\n",
       "      <td>16.8</td>\n",
       "      <td>24.6</td>\n",
       "    </tr>\n",
       "    <tr>\n",
       "      <th>32801</th>\n",
       "      <td>1998-09-25</td>\n",
       "      <td>108</td>\n",
       "      <td>20.8</td>\n",
       "      <td>16.0</td>\n",
       "      <td>25.6</td>\n",
       "    </tr>\n",
       "    <tr>\n",
       "      <th>32802</th>\n",
       "      <td>1998-09-26</td>\n",
       "      <td>108</td>\n",
       "      <td>22.0</td>\n",
       "      <td>18.6</td>\n",
       "      <td>26.6</td>\n",
       "    </tr>\n",
       "    <tr>\n",
       "      <th>32803</th>\n",
       "      <td>1998-09-27</td>\n",
       "      <td>108</td>\n",
       "      <td>22.2</td>\n",
       "      <td>17.7</td>\n",
       "      <td>27.3</td>\n",
       "    </tr>\n",
       "  </tbody>\n",
       "</table>\n",
       "<p>32804 rows × 5 columns</p>\n",
       "</div>"
      ],
      "text/plain": [
       "               날짜   지점  평균기온  최저기온  최고기온\n",
       "0      1907-10-01  108  13.5   7.9  20.7\n",
       "1      1907-10-02  108  16.2   7.9  22.0\n",
       "2      1907-10-03  108  16.2  13.1  21.3\n",
       "3      1907-10-04  108  16.5  11.2  22.0\n",
       "4      1907-10-05  108  17.6  10.9  25.4\n",
       "...           ...  ...   ...   ...   ...\n",
       "32799  1998-09-23  108  19.8  15.6  23.5\n",
       "32800  1998-09-24  108  19.8  16.8  24.6\n",
       "32801  1998-09-25  108  20.8  16.0  25.6\n",
       "32802  1998-09-26  108  22.0  18.6  26.6\n",
       "32803  1998-09-27  108  22.2  17.7  27.3\n",
       "\n",
       "[32804 rows x 5 columns]"
      ]
     },
     "execution_count": 26,
     "metadata": {},
     "output_type": "execute_result"
    }
   ],
   "source": [
    "my_birth # 이 뜻이 아니여따~"
   ]
  },
  {
   "cell_type": "code",
   "execution_count": 27,
   "id": "734b5d04-c25c-46c1-9014-b7a881f7c139",
   "metadata": {},
   "outputs": [
    {
     "data": {
      "text/html": [
       "<div>\n",
       "<style scoped>\n",
       "    .dataframe tbody tr th:only-of-type {\n",
       "        vertical-align: middle;\n",
       "    }\n",
       "\n",
       "    .dataframe tbody tr th {\n",
       "        vertical-align: top;\n",
       "    }\n",
       "\n",
       "    .dataframe thead th {\n",
       "        text-align: right;\n",
       "    }\n",
       "</style>\n",
       "<table border=\"1\" class=\"dataframe\">\n",
       "  <thead>\n",
       "    <tr style=\"text-align: right;\">\n",
       "      <th></th>\n",
       "      <th>날짜</th>\n",
       "      <th>지점</th>\n",
       "      <th>평균기온</th>\n",
       "      <th>최저기온</th>\n",
       "      <th>최고기온</th>\n",
       "    </tr>\n",
       "  </thead>\n",
       "  <tbody>\n",
       "    <tr>\n",
       "      <th>362</th>\n",
       "      <td>1908-09-27</td>\n",
       "      <td>108</td>\n",
       "      <td>18.5</td>\n",
       "      <td>11.4</td>\n",
       "      <td>27.4</td>\n",
       "    </tr>\n",
       "    <tr>\n",
       "      <th>727</th>\n",
       "      <td>1909-09-27</td>\n",
       "      <td>108</td>\n",
       "      <td>19.1</td>\n",
       "      <td>13.2</td>\n",
       "      <td>24.8</td>\n",
       "    </tr>\n",
       "    <tr>\n",
       "      <th>1092</th>\n",
       "      <td>1910-09-27</td>\n",
       "      <td>108</td>\n",
       "      <td>17.6</td>\n",
       "      <td>13.0</td>\n",
       "      <td>24.0</td>\n",
       "    </tr>\n",
       "    <tr>\n",
       "      <th>1457</th>\n",
       "      <td>1911-09-27</td>\n",
       "      <td>108</td>\n",
       "      <td>18.4</td>\n",
       "      <td>15.8</td>\n",
       "      <td>21.2</td>\n",
       "    </tr>\n",
       "    <tr>\n",
       "      <th>1823</th>\n",
       "      <td>1912-09-27</td>\n",
       "      <td>108</td>\n",
       "      <td>15.5</td>\n",
       "      <td>9.6</td>\n",
       "      <td>23.5</td>\n",
       "    </tr>\n",
       "    <tr>\n",
       "      <th>...</th>\n",
       "      <td>...</td>\n",
       "      <td>...</td>\n",
       "      <td>...</td>\n",
       "      <td>...</td>\n",
       "      <td>...</td>\n",
       "    </tr>\n",
       "    <tr>\n",
       "      <th>41204</th>\n",
       "      <td>2021-09-27</td>\n",
       "      <td>108</td>\n",
       "      <td>21.6</td>\n",
       "      <td>18.7</td>\n",
       "      <td>25.0</td>\n",
       "    </tr>\n",
       "    <tr>\n",
       "      <th>41569</th>\n",
       "      <td>2022-09-27</td>\n",
       "      <td>108</td>\n",
       "      <td>20.9</td>\n",
       "      <td>14.0</td>\n",
       "      <td>28.0</td>\n",
       "    </tr>\n",
       "    <tr>\n",
       "      <th>41934</th>\n",
       "      <td>2023-09-27</td>\n",
       "      <td>108</td>\n",
       "      <td>21.5</td>\n",
       "      <td>20.0</td>\n",
       "      <td>23.7</td>\n",
       "    </tr>\n",
       "    <tr>\n",
       "      <th>42300</th>\n",
       "      <td>2024-09-27</td>\n",
       "      <td>108</td>\n",
       "      <td>22.7</td>\n",
       "      <td>19.1</td>\n",
       "      <td>28.0</td>\n",
       "    </tr>\n",
       "    <tr>\n",
       "      <th>42665</th>\n",
       "      <td>2025-09-27</td>\n",
       "      <td>108</td>\n",
       "      <td>22.5</td>\n",
       "      <td>17.6</td>\n",
       "      <td>27.2</td>\n",
       "    </tr>\n",
       "  </tbody>\n",
       "</table>\n",
       "<p>116 rows × 5 columns</p>\n",
       "</div>"
      ],
      "text/plain": [
       "               날짜   지점  평균기온  최저기온  최고기온\n",
       "362    1908-09-27  108  18.5  11.4  27.4\n",
       "727    1909-09-27  108  19.1  13.2  24.8\n",
       "1092   1910-09-27  108  17.6  13.0  24.0\n",
       "1457   1911-09-27  108  18.4  15.8  21.2\n",
       "1823   1912-09-27  108  15.5   9.6  23.5\n",
       "...           ...  ...   ...   ...   ...\n",
       "41204  2021-09-27  108  21.6  18.7  25.0\n",
       "41569  2022-09-27  108  20.9  14.0  28.0\n",
       "41934  2023-09-27  108  21.5  20.0  23.7\n",
       "42300  2024-09-27  108  22.7  19.1  28.0\n",
       "42665  2025-09-27  108  22.5  17.6  27.2\n",
       "\n",
       "[116 rows x 5 columns]"
      ]
     },
     "execution_count": 27,
     "metadata": {},
     "output_type": "execute_result"
    }
   ],
   "source": [
    "# 생일 데이터 추출 ver1\n",
    "df[df[\"날짜\"].str.endswith(\"09-27\")]"
   ]
  },
  {
   "cell_type": "code",
   "execution_count": 28,
   "id": "13302398-4a5a-42e4-9a8c-e733f043438e",
   "metadata": {},
   "outputs": [],
   "source": [
    "ndf = df.copy()"
   ]
  },
  {
   "cell_type": "code",
   "execution_count": 29,
   "id": "a372a03f-6ada-439e-a7a9-a1c5e33410dc",
   "metadata": {},
   "outputs": [],
   "source": [
    "# 생일 데이터 추출\n",
    "\n",
    "# 날짜로 변경해서 pd.to_datetime\n",
    "ndf[\"date\"] = pd.to_datetime(df[\"날짜\"])"
   ]
  },
  {
   "cell_type": "code",
   "execution_count": 30,
   "id": "c7c14360-f4f5-4162-b206-1a650a350b9e",
   "metadata": {},
   "outputs": [
    {
     "data": {
      "text/html": [
       "<div>\n",
       "<style scoped>\n",
       "    .dataframe tbody tr th:only-of-type {\n",
       "        vertical-align: middle;\n",
       "    }\n",
       "\n",
       "    .dataframe tbody tr th {\n",
       "        vertical-align: top;\n",
       "    }\n",
       "\n",
       "    .dataframe thead th {\n",
       "        text-align: right;\n",
       "    }\n",
       "</style>\n",
       "<table border=\"1\" class=\"dataframe\">\n",
       "  <thead>\n",
       "    <tr style=\"text-align: right;\">\n",
       "      <th></th>\n",
       "      <th>날짜</th>\n",
       "      <th>지점</th>\n",
       "      <th>평균기온</th>\n",
       "      <th>최저기온</th>\n",
       "      <th>최고기온</th>\n",
       "      <th>date</th>\n",
       "    </tr>\n",
       "  </thead>\n",
       "  <tbody>\n",
       "    <tr>\n",
       "      <th>0</th>\n",
       "      <td>1907-10-01</td>\n",
       "      <td>108</td>\n",
       "      <td>13.5</td>\n",
       "      <td>7.9</td>\n",
       "      <td>20.7</td>\n",
       "      <td>1907-10-01</td>\n",
       "    </tr>\n",
       "    <tr>\n",
       "      <th>1</th>\n",
       "      <td>1907-10-02</td>\n",
       "      <td>108</td>\n",
       "      <td>16.2</td>\n",
       "      <td>7.9</td>\n",
       "      <td>22.0</td>\n",
       "      <td>1907-10-02</td>\n",
       "    </tr>\n",
       "    <tr>\n",
       "      <th>2</th>\n",
       "      <td>1907-10-03</td>\n",
       "      <td>108</td>\n",
       "      <td>16.2</td>\n",
       "      <td>13.1</td>\n",
       "      <td>21.3</td>\n",
       "      <td>1907-10-03</td>\n",
       "    </tr>\n",
       "    <tr>\n",
       "      <th>3</th>\n",
       "      <td>1907-10-04</td>\n",
       "      <td>108</td>\n",
       "      <td>16.5</td>\n",
       "      <td>11.2</td>\n",
       "      <td>22.0</td>\n",
       "      <td>1907-10-04</td>\n",
       "    </tr>\n",
       "    <tr>\n",
       "      <th>4</th>\n",
       "      <td>1907-10-05</td>\n",
       "      <td>108</td>\n",
       "      <td>17.6</td>\n",
       "      <td>10.9</td>\n",
       "      <td>25.4</td>\n",
       "      <td>1907-10-05</td>\n",
       "    </tr>\n",
       "  </tbody>\n",
       "</table>\n",
       "</div>"
      ],
      "text/plain": [
       "           날짜   지점  평균기온  최저기온  최고기온       date\n",
       "0  1907-10-01  108  13.5   7.9  20.7 1907-10-01\n",
       "1  1907-10-02  108  16.2   7.9  22.0 1907-10-02\n",
       "2  1907-10-03  108  16.2  13.1  21.3 1907-10-03\n",
       "3  1907-10-04  108  16.5  11.2  22.0 1907-10-04\n",
       "4  1907-10-05  108  17.6  10.9  25.4 1907-10-05"
      ]
     },
     "execution_count": 30,
     "metadata": {},
     "output_type": "execute_result"
    }
   ],
   "source": [
    "ndf.head()"
   ]
  },
  {
   "cell_type": "code",
   "execution_count": 31,
   "id": "875dea16-fbe3-47d5-9fe6-4c01a92316f9",
   "metadata": {},
   "outputs": [],
   "source": [
    "result = ndf[(ndf[\"date\"].dt.month == 9) & (ndf[\"date\"].dt.day == 27)]"
   ]
  },
  {
   "cell_type": "code",
   "execution_count": 32,
   "id": "fda71972-d27a-4ef7-989f-bd99f9ae7f05",
   "metadata": {},
   "outputs": [
    {
     "data": {
      "text/html": [
       "<div>\n",
       "<style scoped>\n",
       "    .dataframe tbody tr th:only-of-type {\n",
       "        vertical-align: middle;\n",
       "    }\n",
       "\n",
       "    .dataframe tbody tr th {\n",
       "        vertical-align: top;\n",
       "    }\n",
       "\n",
       "    .dataframe thead th {\n",
       "        text-align: right;\n",
       "    }\n",
       "</style>\n",
       "<table border=\"1\" class=\"dataframe\">\n",
       "  <thead>\n",
       "    <tr style=\"text-align: right;\">\n",
       "      <th></th>\n",
       "      <th>날짜</th>\n",
       "      <th>지점</th>\n",
       "      <th>평균기온</th>\n",
       "      <th>최저기온</th>\n",
       "      <th>최고기온</th>\n",
       "      <th>date</th>\n",
       "    </tr>\n",
       "  </thead>\n",
       "  <tbody>\n",
       "    <tr>\n",
       "      <th>362</th>\n",
       "      <td>1908-09-27</td>\n",
       "      <td>108</td>\n",
       "      <td>18.5</td>\n",
       "      <td>11.4</td>\n",
       "      <td>27.4</td>\n",
       "      <td>1908-09-27</td>\n",
       "    </tr>\n",
       "    <tr>\n",
       "      <th>727</th>\n",
       "      <td>1909-09-27</td>\n",
       "      <td>108</td>\n",
       "      <td>19.1</td>\n",
       "      <td>13.2</td>\n",
       "      <td>24.8</td>\n",
       "      <td>1909-09-27</td>\n",
       "    </tr>\n",
       "    <tr>\n",
       "      <th>1092</th>\n",
       "      <td>1910-09-27</td>\n",
       "      <td>108</td>\n",
       "      <td>17.6</td>\n",
       "      <td>13.0</td>\n",
       "      <td>24.0</td>\n",
       "      <td>1910-09-27</td>\n",
       "    </tr>\n",
       "    <tr>\n",
       "      <th>1457</th>\n",
       "      <td>1911-09-27</td>\n",
       "      <td>108</td>\n",
       "      <td>18.4</td>\n",
       "      <td>15.8</td>\n",
       "      <td>21.2</td>\n",
       "      <td>1911-09-27</td>\n",
       "    </tr>\n",
       "    <tr>\n",
       "      <th>1823</th>\n",
       "      <td>1912-09-27</td>\n",
       "      <td>108</td>\n",
       "      <td>15.5</td>\n",
       "      <td>9.6</td>\n",
       "      <td>23.5</td>\n",
       "      <td>1912-09-27</td>\n",
       "    </tr>\n",
       "    <tr>\n",
       "      <th>...</th>\n",
       "      <td>...</td>\n",
       "      <td>...</td>\n",
       "      <td>...</td>\n",
       "      <td>...</td>\n",
       "      <td>...</td>\n",
       "      <td>...</td>\n",
       "    </tr>\n",
       "    <tr>\n",
       "      <th>41204</th>\n",
       "      <td>2021-09-27</td>\n",
       "      <td>108</td>\n",
       "      <td>21.6</td>\n",
       "      <td>18.7</td>\n",
       "      <td>25.0</td>\n",
       "      <td>2021-09-27</td>\n",
       "    </tr>\n",
       "    <tr>\n",
       "      <th>41569</th>\n",
       "      <td>2022-09-27</td>\n",
       "      <td>108</td>\n",
       "      <td>20.9</td>\n",
       "      <td>14.0</td>\n",
       "      <td>28.0</td>\n",
       "      <td>2022-09-27</td>\n",
       "    </tr>\n",
       "    <tr>\n",
       "      <th>41934</th>\n",
       "      <td>2023-09-27</td>\n",
       "      <td>108</td>\n",
       "      <td>21.5</td>\n",
       "      <td>20.0</td>\n",
       "      <td>23.7</td>\n",
       "      <td>2023-09-27</td>\n",
       "    </tr>\n",
       "    <tr>\n",
       "      <th>42300</th>\n",
       "      <td>2024-09-27</td>\n",
       "      <td>108</td>\n",
       "      <td>22.7</td>\n",
       "      <td>19.1</td>\n",
       "      <td>28.0</td>\n",
       "      <td>2024-09-27</td>\n",
       "    </tr>\n",
       "    <tr>\n",
       "      <th>42665</th>\n",
       "      <td>2025-09-27</td>\n",
       "      <td>108</td>\n",
       "      <td>22.5</td>\n",
       "      <td>17.6</td>\n",
       "      <td>27.2</td>\n",
       "      <td>2025-09-27</td>\n",
       "    </tr>\n",
       "  </tbody>\n",
       "</table>\n",
       "<p>116 rows × 6 columns</p>\n",
       "</div>"
      ],
      "text/plain": [
       "               날짜   지점  평균기온  최저기온  최고기온       date\n",
       "362    1908-09-27  108  18.5  11.4  27.4 1908-09-27\n",
       "727    1909-09-27  108  19.1  13.2  24.8 1909-09-27\n",
       "1092   1910-09-27  108  17.6  13.0  24.0 1910-09-27\n",
       "1457   1911-09-27  108  18.4  15.8  21.2 1911-09-27\n",
       "1823   1912-09-27  108  15.5   9.6  23.5 1912-09-27\n",
       "...           ...  ...   ...   ...   ...        ...\n",
       "41204  2021-09-27  108  21.6  18.7  25.0 2021-09-27\n",
       "41569  2022-09-27  108  20.9  14.0  28.0 2022-09-27\n",
       "41934  2023-09-27  108  21.5  20.0  23.7 2023-09-27\n",
       "42300  2024-09-27  108  22.7  19.1  28.0 2024-09-27\n",
       "42665  2025-09-27  108  22.5  17.6  27.2 2025-09-27\n",
       "\n",
       "[116 rows x 6 columns]"
      ]
     },
     "execution_count": 32,
     "metadata": {},
     "output_type": "execute_result"
    }
   ],
   "source": [
    "result"
   ]
  },
  {
   "cell_type": "code",
   "execution_count": 62,
   "id": "b9141a57-f984-468c-8fd6-daa166e20922",
   "metadata": {},
   "outputs": [
    {
     "data": {
      "image/png": "[encoded data removed]",
      "text/plain": [
       "<Figure size 1200x600 with 1 Axes>"
      ]
     },
     "metadata": {},
     "output_type": "display_data"
    }
   ],
   "source": [
    "fig, ax = plt.subplots(figsize=(12,6))    \n",
    "\n",
    "# x축에서 year  기준이이거구나...\n",
    "ax.plot(result[\"date\"].dt.year,result[\"최저기온\"],label=\"최저기온\", color=\"skyblue\") \n",
    "ax.plot(result[\"date\"].dt.year,result[\"최고기온\"], label=\"최고기온\", color=\"hotpink\") \n",
    "\n",
    "plt.legend(loc=\"upper right\")\n",
    "plt.title(\"내 생일의 기온 변화\", size=20)\n",
    "\n",
    "plt.show()                         "
   ]
  },
  {
   "cell_type": "markdown",
   "id": "c50cf7b6-5bf1-43f3-ba90-d32fda113aef",
   "metadata": {},
   "source": [
    "- 점점 온도가 올라가는 추세를 보인다"
   ]
  },
  {
   "cell_type": "code",
   "execution_count": 68,
   "id": "2302803c-ff8b-48d3-b7ff-e41447910212",
   "metadata": {},
   "outputs": [
    {
     "data": {
      "image/png": "[encoded data removed]",
      "text/plain": [
       "<Figure size 1200x600 with 1 Axes>"
      ]
     },
     "metadata": {},
     "output_type": "display_data"
    }
   ],
   "source": [
    "fig, ax = plt.subplots(figsize=(12,6))    \n",
    "\n",
    "# x축에서 year  기준이이거구나...\n",
    "ax.hist(\n",
    "    result[\"최저기온\"],\n",
    "    color=\"skyblue\",\n",
    "    alpha = 0.5,\n",
    "    label = \"최저기온\"\n",
    ") \n",
    "ax.hist(\n",
    "    result[\"최고기온\"],\n",
    "    color=\"hotpink\",\n",
    "    alpha = 0.5,\n",
    "    label = \"최고기온\"\n",
    ") \n",
    "plt.legend()\n",
    "plt.title(\"내 생일의 기온 히스토그램\", size=20)\n",
    "\n",
    "plt.show()                         "
   ]
  },
  {
   "cell_type": "code",
   "execution_count": 74,
   "id": "8ff3fda6-b17b-4c47-a3d0-3ea1e2e8f2ae",
   "metadata": {},
   "outputs": [
    {
     "data": {
      "image/png": "[encoded data removed]",
      "text/plain": [
       "<Figure size 1200x600 with 1 Axes>"
      ]
     },
     "metadata": {},
     "output_type": "display_data"
    }
   ],
   "source": [
    "fig, ax = plt.subplots(figsize=(12,6))    \n",
    "\n",
    "# x축에서 year  기준이이거구나...\n",
    "ax.boxplot(\n",
    "    result[\"최고기온\"].dropna(), # 박스플롯에서는 dropna() 를 해줘야 오류가 안난다\n",
    ") \n",
    "\n",
    "plt.title(\"내 생일의 기온 박스플롯\", size=20)\n",
    "\n",
    "plt.show()                         "
   ]
  },
  {
   "cell_type": "code",
   "execution_count": 76,
   "id": "54074c9f-a1f9-4f8c-8ffe-72ea044f55d2",
   "metadata": {},
   "outputs": [
    {
     "name": "stdout",
     "output_type": "stream",
     "text": [
      "IQR 3.724999999999998\n",
      "3사분위수 26.349999999999998\n",
      "1사분위수 22.625\n"
     ]
    }
   ],
   "source": [
    "q3, q1 = np.percentile(result[\"최고기온\"].dropna(), [75,25])\n",
    "iqr = q3 - q1\n",
    "\n",
    "print(\"IQR\", iqr)\n",
    "print(\"3사분위수\", q3)\n",
    "print(\"1사분위수\", q1)"
   ]
  },
  {
   "cell_type": "code",
   "execution_count": 77,
   "id": "69060ef4-5811-4381-9645-9ce5d815e225",
   "metadata": {},
   "outputs": [
    {
     "name": "stdout",
     "output_type": "stream",
     "text": [
      "이상치 :  17.0375\n"
     ]
    }
   ],
   "source": [
    "outlier = q1 - (1.5 * iqr)\n",
    "print(\"이상치 : \", outlier)"
   ]
  },
  {
   "cell_type": "code",
   "execution_count": 78,
   "id": "76b1d91b-935f-482f-9451-8dc231ffed03",
   "metadata": {},
   "outputs": [
    {
     "data": {
      "text/html": [
       "<div>\n",
       "<style scoped>\n",
       "    .dataframe tbody tr th:only-of-type {\n",
       "        vertical-align: middle;\n",
       "    }\n",
       "\n",
       "    .dataframe tbody tr th {\n",
       "        vertical-align: top;\n",
       "    }\n",
       "\n",
       "    .dataframe thead th {\n",
       "        text-align: right;\n",
       "    }\n",
       "</style>\n",
       "<table border=\"1\" class=\"dataframe\">\n",
       "  <thead>\n",
       "    <tr style=\"text-align: right;\">\n",
       "      <th></th>\n",
       "      <th>날짜</th>\n",
       "      <th>지점</th>\n",
       "      <th>평균기온</th>\n",
       "      <th>최저기온</th>\n",
       "      <th>최고기온</th>\n",
       "      <th>date</th>\n",
       "    </tr>\n",
       "  </thead>\n",
       "  <tbody>\n",
       "    <tr>\n",
       "      <th>5110</th>\n",
       "      <td>1921-09-27</td>\n",
       "      <td>108</td>\n",
       "      <td>12.4</td>\n",
       "      <td>11.4</td>\n",
       "      <td>14.3</td>\n",
       "      <td>1921-09-27</td>\n",
       "    </tr>\n",
       "  </tbody>\n",
       "</table>\n",
       "</div>"
      ],
      "text/plain": [
       "              날짜   지점  평균기온  최저기온  최고기온       date\n",
       "5110  1921-09-27  108  12.4  11.4  14.3 1921-09-27"
      ]
     },
     "execution_count": 78,
     "metadata": {},
     "output_type": "execute_result"
    }
   ],
   "source": [
    "result[result[\"최고기온\"] < outlier]"
   ]
  },
  {
   "cell_type": "code",
   "execution_count": null,
   "id": "c3deaf3a-3c40-4ffa-9348-732810f665d9",
   "metadata": {},
   "outputs": [],
   "source": []
  }
 ],
 "metadata": {
  "kernelspec": {
   "display_name": "Python 3 (ipykernel)",
   "language": "python",
   "name": "python3"
  },
  "language_info": {
   "codemirror_mode": {
    "name": "ipython",
    "version": 3
   },
   "file_extension": ".py",
   "mimetype": "text/x-python",
   "name": "python",
   "nbconvert_exporter": "python",
   "pygments_lexer": "ipython3",
   "version": "3.13.5"
  }
 },
 "nbformat": 4,
 "nbformat_minor": 5
}
