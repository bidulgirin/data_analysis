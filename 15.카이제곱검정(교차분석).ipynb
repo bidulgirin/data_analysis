{
 "cells": [
  {
   "cell_type": "markdown",
   "id": "151607b0-83c4-4812-979a-d7ab8f72db49",
   "metadata": {},
   "source": [
    "#### <b style=\"color:red\"> 검정을 왜 하느냐!!!!!!!!!!!!!!!!!!!</b>\n",
    "####  타당성을 위함!!!!!!!!!!!!!!!!!!!!!!!!!!\n",
    "#### 사람 찌른다! X\n",
    "####  꼬맬려면 찔러야겠지? O (타당하다!)"
   ]
  },
  {
   "cell_type": "markdown",
   "id": "bf12abd9-dde8-4c3f-b096-ad8ea261841c",
   "metadata": {},
   "source": [
    "# 카이제곱 검정(Chi-square test)\n",
    "\n",
    "- 범주형 변수들 간의 연관성을 분석하기 위해 결합 분포를 활용하는 방법\n",
    "      - 연령 같은 변수는 연령대 와 같은 서열 척도로 변환해서 사용할 수 있음\n",
    "\n",
    "- 기본 원리는 변수들 간의 범주를 동시에 교차하는 교차표를 만들어 각각의 빈도와 비율을 통해 변수 상호 간의 독립성과 관련성을 분석\n",
    "\n",
    "- 교차분석은 상관 분석과는 다르게 연관성의 정도를 수치로 표현가능\n",
    "    - 대신 검정 통계량 카이 제곱을 통해 변수간의 연관성이 없다는 귀무가설을 기각하는 지 여부로 상관성이 있고 없음을 판단"
   ]
  },
  {
   "cell_type": "code",
   "execution_count": 2,
   "id": "8e575d64-bca9-4141-8985-04269cce4c35",
   "metadata": {},
   "outputs": [],
   "source": [
    "from scipy import stats\n",
    "import pandas as pd\n",
    "import matplotlib.pyplot as plt"
   ]
  },
  {
   "cell_type": "code",
   "execution_count": 3,
   "id": "352ebf8d-6bd2-46c9-91cd-b9e7748df41a",
   "metadata": {},
   "outputs": [],
   "source": [
    "df = pd.read_csv(\"./data/smoker.csv\")"
   ]
  },
  {
   "cell_type": "code",
   "execution_count": 4,
   "id": "81a004f2-a54f-47e4-88a8-abafb246f9a5",
   "metadata": {},
   "outputs": [
    {
     "data": {
      "text/html": [
       "<div>\n",
       "<style scoped>\n",
       "    .dataframe tbody tr th:only-of-type {\n",
       "        vertical-align: middle;\n",
       "    }\n",
       "\n",
       "    .dataframe tbody tr th {\n",
       "        vertical-align: top;\n",
       "    }\n",
       "\n",
       "    .dataframe thead th {\n",
       "        text-align: right;\n",
       "    }\n",
       "</style>\n",
       "<table border=\"1\" class=\"dataframe\">\n",
       "  <thead>\n",
       "    <tr style=\"text-align: right;\">\n",
       "      <th></th>\n",
       "      <th>sex</th>\n",
       "      <th>smoke</th>\n",
       "    </tr>\n",
       "  </thead>\n",
       "  <tbody>\n",
       "    <tr>\n",
       "      <th>0</th>\n",
       "      <td>male</td>\n",
       "      <td>Non-Smoker</td>\n",
       "    </tr>\n",
       "    <tr>\n",
       "      <th>1</th>\n",
       "      <td>male</td>\n",
       "      <td>Smoker</td>\n",
       "    </tr>\n",
       "    <tr>\n",
       "      <th>2</th>\n",
       "      <td>male</td>\n",
       "      <td>Non-Smoker</td>\n",
       "    </tr>\n",
       "    <tr>\n",
       "      <th>3</th>\n",
       "      <td>male</td>\n",
       "      <td>Smoker</td>\n",
       "    </tr>\n",
       "    <tr>\n",
       "      <th>4</th>\n",
       "      <td>male</td>\n",
       "      <td>Non-Smoker</td>\n",
       "    </tr>\n",
       "  </tbody>\n",
       "</table>\n",
       "</div>"
      ],
      "text/plain": [
       "    sex       smoke\n",
       "0  male  Non-Smoker\n",
       "1  male      Smoker\n",
       "2  male  Non-Smoker\n",
       "3  male      Smoker\n",
       "4  male  Non-Smoker"
      ]
     },
     "execution_count": 4,
     "metadata": {},
     "output_type": "execute_result"
    }
   ],
   "source": [
    "df.head()"
   ]
  },
  {
   "cell_type": "code",
   "execution_count": 5,
   "id": "60e2eab2-de3f-41bf-a1d6-fca803f6f2bf",
   "metadata": {},
   "outputs": [
    {
     "data": {
      "text/plain": [
       "(131, 2)"
      ]
     },
     "execution_count": 5,
     "metadata": {},
     "output_type": "execute_result"
    }
   ],
   "source": [
    "df.shape"
   ]
  },
  {
   "cell_type": "code",
   "execution_count": 7,
   "id": "b0fd05e1-e01d-4980-8254-ba3612d5ff7c",
   "metadata": {},
   "outputs": [
    {
     "data": {
      "text/html": [
       "<div>\n",
       "<style scoped>\n",
       "    .dataframe tbody tr th:only-of-type {\n",
       "        vertical-align: middle;\n",
       "    }\n",
       "\n",
       "    .dataframe tbody tr th {\n",
       "        vertical-align: top;\n",
       "    }\n",
       "\n",
       "    .dataframe thead th {\n",
       "        text-align: right;\n",
       "    }\n",
       "</style>\n",
       "<table border=\"1\" class=\"dataframe\">\n",
       "  <thead>\n",
       "    <tr style=\"text-align: right;\">\n",
       "      <th></th>\n",
       "      <th>sex</th>\n",
       "      <th>smoke</th>\n",
       "    </tr>\n",
       "  </thead>\n",
       "  <tbody>\n",
       "    <tr>\n",
       "      <th>count</th>\n",
       "      <td>131</td>\n",
       "      <td>131</td>\n",
       "    </tr>\n",
       "    <tr>\n",
       "      <th>unique</th>\n",
       "      <td>2</td>\n",
       "      <td>2</td>\n",
       "    </tr>\n",
       "    <tr>\n",
       "      <th>top</th>\n",
       "      <td>male</td>\n",
       "      <td>Non-Smoker</td>\n",
       "    </tr>\n",
       "    <tr>\n",
       "      <th>freq</th>\n",
       "      <td>69</td>\n",
       "      <td>90</td>\n",
       "    </tr>\n",
       "  </tbody>\n",
       "</table>\n",
       "</div>"
      ],
      "text/plain": [
       "         sex       smoke\n",
       "count    131         131\n",
       "unique     2           2\n",
       "top     male  Non-Smoker\n",
       "freq      69          90"
      ]
     },
     "execution_count": 7,
     "metadata": {},
     "output_type": "execute_result"
    }
   ],
   "source": [
    "df.describe()"
   ]
  },
  {
   "cell_type": "code",
   "execution_count": 8,
   "id": "a940f935-5bd7-4a12-b333-1c304259c7b4",
   "metadata": {},
   "outputs": [
    {
     "data": {
      "text/plain": [
       "sex     smoke     \n",
       "female  Non-Smoker    50\n",
       "        Smoker        12\n",
       "male    Non-Smoker    40\n",
       "        Smoker        29\n",
       "Name: smoke, dtype: int64"
      ]
     },
     "execution_count": 8,
     "metadata": {},
     "output_type": "execute_result"
    }
   ],
   "source": [
    "# 항목별 집계\n",
    "df.groupby([\"sex\", \"smoke\"])[\"smoke\"].count()"
   ]
  },
  {
   "cell_type": "markdown",
   "id": "d4c0a522-93bd-4896-847c-3807d2898965",
   "metadata": {},
   "source": [
    "- 남성과 여성의 흡연자와 비흡연자수 현황을 파악\n",
    "- 여성은 62명중 12 명이 흡연, 남성은 69명중 29명이 흡연자"
   ]
  },
  {
   "cell_type": "markdown",
   "id": "35be78d1-372f-476f-a26d-ed20b0caae3b",
   "metadata": {},
   "source": [
    "# 핵심 문법 _ crosstab"
   ]
  },
  {
   "cell_type": "code",
   "execution_count": 13,
   "id": "cfbce4b6-8890-44dd-a235-805344354abc",
   "metadata": {},
   "outputs": [
    {
     "data": {
      "text/html": [
       "<div>\n",
       "<style scoped>\n",
       "    .dataframe tbody tr th:only-of-type {\n",
       "        vertical-align: middle;\n",
       "    }\n",
       "\n",
       "    .dataframe tbody tr th {\n",
       "        vertical-align: top;\n",
       "    }\n",
       "\n",
       "    .dataframe thead th {\n",
       "        text-align: right;\n",
       "    }\n",
       "</style>\n",
       "<table border=\"1\" class=\"dataframe\">\n",
       "  <thead>\n",
       "    <tr style=\"text-align: right;\">\n",
       "      <th>smoke</th>\n",
       "      <th>Non-Smoker</th>\n",
       "      <th>Smoker</th>\n",
       "    </tr>\n",
       "    <tr>\n",
       "      <th>sex</th>\n",
       "      <th></th>\n",
       "      <th></th>\n",
       "    </tr>\n",
       "  </thead>\n",
       "  <tbody>\n",
       "    <tr>\n",
       "      <th>female</th>\n",
       "      <td>50</td>\n",
       "      <td>12</td>\n",
       "    </tr>\n",
       "    <tr>\n",
       "      <th>male</th>\n",
       "      <td>40</td>\n",
       "      <td>29</td>\n",
       "    </tr>\n",
       "  </tbody>\n",
       "</table>\n",
       "</div>"
      ],
      "text/plain": [
       "smoke   Non-Smoker  Smoker\n",
       "sex                       \n",
       "female          50      12\n",
       "male            40      29"
      ]
     },
     "execution_count": 13,
     "metadata": {},
     "output_type": "execute_result"
    }
   ],
   "source": [
    "# 카이제곱 검정용 데이터셋 가공(교차표 생성)\n",
    "crosstab = pd.crosstab(df[\"sex\"], df[\"smoke\"]) # 행에는 sex, 열에는 smoker\n",
    "crosstab"
   ]
  },
  {
   "cell_type": "code",
   "execution_count": 14,
   "id": "b1ec7b2b-704d-4ec0-897a-b087137ecefb",
   "metadata": {},
   "outputs": [
    {
     "data": {
      "image/png": "[encoded data removed]",
      "text/plain": [
       "<Figure size 1000x500 with 1 Axes>"
      ]
     },
     "metadata": {},
     "output_type": "display_data"
    }
   ],
   "source": [
    "# 성별별 흡연자 수 시각화\n",
    "crosstab.plot(\n",
    "    kind = \"bar\",\n",
    "    figsize = (10,5)\n",
    ")\n",
    "plt.grid()\n",
    "plt.show()"
   ]
  },
  {
   "cell_type": "markdown",
   "id": "426b371b-6273-4a77-9afa-5454b8a69e6b",
   "metadata": {},
   "source": [
    "- 카이제곱 검정을 하기에 앞서 항목별 분포를 막대그래프로 시각화\n",
    "\n",
    "- 눈으로 보기에도 남성과 여성의 흡연자 비율 차이가 크게 남\n",
    "\n",
    "- 이러한 차이가 <b>통계적으로 유의미한 차이</b>인지 확인하기 위해 카이제곱 검정 수행"
   ]
  },
  {
   "cell_type": "code",
   "execution_count": 15,
   "id": "85909cc3-5a90-4ad3-95f8-6b210447c696",
   "metadata": {},
   "outputs": [
    {
     "name": "stdout",
     "output_type": "stream",
     "text": [
      "Chi square: 7.8081404703715105\n",
      "P-value : 0.005201139711454792\n"
     ]
    }
   ],
   "source": [
    "# 카이제곱 검정\n",
    "chiresult = stats.chi2_contingency(crosstab, correction = False)\n",
    "print(f\"Chi square: {chiresult[0]}\")\n",
    "print(f\"P-value : {chiresult[1]}\")"
   ]
  },
  {
   "cell_type": "code",
   "execution_count": 19,
   "id": "db768424-9277-4306-a2ee-a5411dc0ec8b",
   "metadata": {},
   "outputs": [
    {
     "name": "stdout",
     "output_type": "stream",
     "text": [
      "Chi square: 6.789242038107618\n",
      "P-value : 0.009170883871905303\n"
     ]
    }
   ],
   "source": [
    "# 카이제곱 검정\n",
    "chiresult = stats.chi2_contingency(crosstab, correction = True)\n",
    "# correction : 표본의 크기가 작을 때 보정을 수행, 일반적으로는 True 를 사용함\n",
    "# 전체 셀의 개수가 5개 미만인 경우에 보정을 함... 혹은 전체데이터수가 40개 이하...\n",
    "# 이런 기준은 알아서 하구\n",
    "# pvalue 만 봤을때 차이가 없네; 하면 그냥 True 든 False 든... 상관없어요\n",
    "# 논문을 쓸때는 전문가에게 ...문의하세요...\n",
    "# (텔레그램에 논문을 써주는 인간이 있다...생gpt들중에 빛의 세계에 있는 친구들도 있다...! 그들에게 자문하십셔)\n",
    "print(f\"Chi square: {chiresult[0]}\")\n",
    "print(f\"P-value : {chiresult[1]}\")"
   ]
  },
  {
   "cell_type": "markdown",
   "id": "f85be00b-1e57-486f-ad19-f09ee9cf3770",
   "metadata": {},
   "source": [
    "- P-value 변수들의 관계가 차이가 있음을 통계적으로 알 수있다."
   ]
  },
  {
   "cell_type": "code",
   "execution_count": null,
   "id": "461dce38-4fdd-4143-9e3a-f9727468eb79",
   "metadata": {},
   "outputs": [],
   "source": []
  }
 ],
 "metadata": {
  "kernelspec": {
   "display_name": "Python 3 (ipykernel)",
   "language": "python",
   "name": "python3"
  },
  "language_info": {
   "codemirror_mode": {
    "name": "ipython",
    "version": 3
   },
   "file_extension": ".py",
   "mimetype": "text/x-python",
   "name": "python",
   "nbconvert_exporter": "python",
   "pygments_lexer": "ipython3",
   "version": "3.13.5"
  }
 },
 "nbformat": 4,
 "nbformat_minor": 5
}
