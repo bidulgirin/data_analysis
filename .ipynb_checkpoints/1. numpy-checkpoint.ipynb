{
 "cells": [
  {
   "cell_type": "code",
   "execution_count": 2,
   "id": "77dbb8f4-a572-4657-ad56-eb82a9e3e6f4",
   "metadata": {},
   "outputs": [],
   "source": [
    "# 25-10-23 목요일 시험"
   ]
  },
  {
   "cell_type": "code",
   "execution_count": 1,
   "id": "24ae89b8-ff6d-483c-9cd7-fafd0cf49594",
   "metadata": {},
   "outputs": [],
   "source": [
    "import numpy as np"
   ]
  },
  {
   "cell_type": "markdown",
   "id": "442a8783-f4e6-492e-9e17-7019fbbb8a46",
   "metadata": {},
   "source": [
    "# 넘파이 배열의 구조\n",
    "\n",
    "- 넘파이 모듈의 기본 배열은 ndarray(n-dimension array, 다차원배열)"
   ]
  },
  {
   "cell_type": "markdown",
   "id": "f6e873f2-b600-47ed-9421-e201e452d3ec",
   "metadata": {},
   "source": [
    "## 데이터를 다차원배열로 변환\n",
    "\n",
    "- np.array() : 다차원 배열로 만드는 함수"
   ]
  },
  {
   "cell_type": "code",
   "execution_count": 5,
   "id": "ec95e89c-7b4c-4d37-9d0f-e43e684a1b50",
   "metadata": {},
   "outputs": [
    {
     "data": {
      "text/plain": [
       "[1, 2, 3, 4]"
      ]
     },
     "execution_count": 5,
     "metadata": {},
     "output_type": "execute_result"
    }
   ],
   "source": [
    "lst = [1, 2, 3, 4]\n",
    "lst"
   ]
  },
  {
   "cell_type": "code",
   "execution_count": 7,
   "id": "23a0b224-1a29-497e-90f2-226852e7ff7c",
   "metadata": {},
   "outputs": [
    {
     "data": {
      "text/plain": [
       "array([1, 2, 3, 4])"
      ]
     },
     "execution_count": 7,
     "metadata": {},
     "output_type": "execute_result"
    }
   ],
   "source": [
    "lst_arr = np.array(lst)\n",
    "lst_arr"
   ]
  },
  {
   "cell_type": "code",
   "execution_count": 8,
   "id": "9b4f6db7-ed8f-4ba8-8746-f0b7d6285c41",
   "metadata": {},
   "outputs": [
    {
     "data": {
      "text/plain": [
       "numpy.ndarray"
      ]
     },
     "execution_count": 8,
     "metadata": {},
     "output_type": "execute_result"
    }
   ],
   "source": [
    "type(lst_arr)"
   ]
  },
  {
   "cell_type": "code",
   "execution_count": 9,
   "id": "13d02d84-f27c-4f5a-8d40-ec3d0d4e5d40",
   "metadata": {},
   "outputs": [
    {
     "data": {
      "text/plain": [
       "(1, 2, 3, 4)"
      ]
     },
     "execution_count": 9,
     "metadata": {},
     "output_type": "execute_result"
    }
   ],
   "source": [
    "# 튜플을 다차원배열로 변환\n",
    "tu = (1,2,3,4)\n",
    "\n",
    "tu"
   ]
  },
  {
   "cell_type": "code",
   "execution_count": 10,
   "id": "cbccc004-4fd6-4334-a9ea-a719621ee9c2",
   "metadata": {},
   "outputs": [],
   "source": [
    "tu_arr = np.array(tu)"
   ]
  },
  {
   "cell_type": "code",
   "execution_count": 11,
   "id": "9a90703d-d88b-4559-8f06-5ec930f5ec71",
   "metadata": {},
   "outputs": [
    {
     "data": {
      "text/plain": [
       "array([1, 2, 3, 4])"
      ]
     },
     "execution_count": 11,
     "metadata": {},
     "output_type": "execute_result"
    }
   ],
   "source": [
    "tu_arr"
   ]
  },
  {
   "cell_type": "code",
   "execution_count": 12,
   "id": "ce5fcc08-0f45-476e-8159-4ae7a36aa40b",
   "metadata": {},
   "outputs": [
    {
     "data": {
      "text/plain": [
       "numpy.ndarray"
      ]
     },
     "execution_count": 12,
     "metadata": {},
     "output_type": "execute_result"
    }
   ],
   "source": [
    "type(tu_arr)"
   ]
  },
  {
   "cell_type": "code",
   "execution_count": 13,
   "id": "bd0b269e-c201-4928-9ead-db96f3f30f6b",
   "metadata": {},
   "outputs": [],
   "source": [
    "# 1차원 배열이다~ 걍 다차원 배열이다~"
   ]
  },
  {
   "cell_type": "code",
   "execution_count": 14,
   "id": "242c1838-2210-4bf9-ad74-b29b7830191e",
   "metadata": {},
   "outputs": [],
   "source": [
    "# 배열은 mutable 의 특징을 가짐"
   ]
  },
  {
   "cell_type": "code",
   "execution_count": 15,
   "id": "78fabe3c-ba11-4138-986c-99e96aa5ee60",
   "metadata": {},
   "outputs": [
    {
     "data": {
      "text/plain": [
       "(2433750637648, 2433750637648)"
      ]
     },
     "execution_count": 15,
     "metadata": {},
     "output_type": "execute_result"
    }
   ],
   "source": [
    "# 변수를 다른 변수에 복사한 뒤 데이터 수정을 하면 모든 변수의 데이터가 수정됨\n",
    "co_arr = lst_arr\n",
    "\n",
    "id(co_arr), id(lst_arr)"
   ]
  },
  {
   "cell_type": "code",
   "execution_count": 20,
   "id": "afd56dc0-37a0-4ba2-ab18-1e987a406198",
   "metadata": {},
   "outputs": [],
   "source": [
    "# 파! 괴! 한! 다! => mutable 객체다"
   ]
  },
  {
   "cell_type": "code",
   "execution_count": 21,
   "id": "a3ff1b38-84e8-45e4-8fe2-6821c2847e3b",
   "metadata": {},
   "outputs": [
    {
     "name": "stdout",
     "output_type": "stream",
     "text": [
      "[100   2   3   4]\n",
      "[100   2   3   4]\n"
     ]
    }
   ],
   "source": [
    "co_arr[0] = 100\n",
    "\n",
    "print(co_arr)\n",
    "print(lst_arr)"
   ]
  },
  {
   "cell_type": "code",
   "execution_count": 22,
   "id": "81041af4-9b8b-4686-92eb-2f25098fea6d",
   "metadata": {},
   "outputs": [],
   "source": [
    "# 안전하게 새로운 데이터 만들기\n",
    "# 다차원 배열의 값을 복사해서 새로우 배열을 ㅁ나들면\n",
    "# 동일한 값을 가진 새로운 배열을 만들기 대문에 서로 다른 데이터가 됨\n",
    "new_arr = np.array(lst_arr)"
   ]
  },
  {
   "cell_type": "code",
   "execution_count": 24,
   "id": "8cd60249-37b5-49b5-a6c4-78ca1ba597d0",
   "metadata": {},
   "outputs": [
    {
     "data": {
      "text/plain": [
       "(2433750637648, 2433750637168)"
      ]
     },
     "execution_count": 24,
     "metadata": {},
     "output_type": "execute_result"
    }
   ],
   "source": [
    "id(lst_arr) , id(new_arr)"
   ]
  },
  {
   "cell_type": "code",
   "execution_count": 25,
   "id": "368bae37-9e54-477d-97f0-91be28e5715e",
   "metadata": {},
   "outputs": [],
   "source": [
    "new_arr[0] = 99"
   ]
  },
  {
   "cell_type": "code",
   "execution_count": 30,
   "id": "59d91cd7-83f1-42a5-9687-2c5fee178203",
   "metadata": {},
   "outputs": [
    {
     "name": "stdout",
     "output_type": "stream",
     "text": [
      "[99  2  3  4]\n",
      "[100   2   3   4]\n"
     ]
    }
   ],
   "source": [
    "print(new_arr)\n",
    "print(lst_arr)"
   ]
  },
  {
   "cell_type": "code",
   "execution_count": 31,
   "id": "7ab49532-2fc8-47ef-8b8f-826effffce6b",
   "metadata": {},
   "outputs": [],
   "source": [
    "# numpy 와 list 의 차이를 아는게 첫단계이다"
   ]
  },
  {
   "cell_type": "markdown",
   "id": "309508eb-dd70-48c0-8c8d-bd4addaa8bbf",
   "metadata": {},
   "source": [
    "- 넘파이 배열은 같은 타입의 데이터를 리스트의 요소로 가지고 있어야 한다\n",
    "- 판다스가 비슷하죵? 판다스 내부에 넘파이를 쓰고 있기 때문에~ 그렇다\n",
    "- 연산을 용이하게 하기 위함\n",
    "- 다차원 배열을 생성할 때 자료형을 지정하지 않으면 자동으로 추론해서 만든다고요????"
   ]
  },
  {
   "cell_type": "code",
   "execution_count": 35,
   "id": "814c6db2-b2fd-47a2-bee6-e3b89c86b79d",
   "metadata": {},
   "outputs": [
    {
     "data": {
      "text/plain": [
       "array([1., 2., 3., 4.])"
      ]
     },
     "execution_count": 35,
     "metadata": {},
     "output_type": "execute_result"
    }
   ],
   "source": [
    "# float 자료형을 지정해서 다차원 배열 만들기\n",
    "fl_arr = np.array(lst, dtype = float)\n",
    "fl_arr"
   ]
  },
  {
   "cell_type": "code",
   "execution_count": 38,
   "id": "60cfa97d-a16e-4bd0-949b-c7a502978518",
   "metadata": {},
   "outputs": [
    {
     "data": {
      "text/plain": [
       "numpy.float64"
      ]
     },
     "execution_count": 38,
     "metadata": {},
     "output_type": "execute_result"
    }
   ],
   "source": [
    "type(fl_arr[0])"
   ]
  },
  {
   "cell_type": "code",
   "execution_count": 39,
   "id": "0d3182c8-61f8-4ee5-9e34-46f4091c21f8",
   "metadata": {},
   "outputs": [
    {
     "data": {
      "text/plain": [
       "dtype('float64')"
      ]
     },
     "execution_count": 39,
     "metadata": {},
     "output_type": "execute_result"
    }
   ],
   "source": [
    "fl_arr.dtype"
   ]
  },
  {
   "cell_type": "markdown",
   "id": "4554bb0c-6ca8-4b5f-84c9-c25e6051f893",
   "metadata": {},
   "source": [
    "- 2차원 배열이란\n",
    "- 2개의 축을 가지는 배열(행, 열)\n",
    "- 두 개 이상의 1차원 배열이 쌓여서 하나의 2차원 배열이 만들어짐"
   ]
  },
  {
   "cell_type": "code",
   "execution_count": 41,
   "id": "11f88548-16c7-414a-9301-d352866d6c23",
   "metadata": {},
   "outputs": [],
   "source": [
    "arr2d = np.array([[1,2,3], [4,5,6]])"
   ]
  },
  {
   "cell_type": "code",
   "execution_count": 43,
   "id": "4a53f034-1125-4b33-ba13-aa9d30c48d39",
   "metadata": {},
   "outputs": [
    {
     "data": {
      "text/plain": [
       "array([[1, 2, 3],\n",
       "       [4, 5, 6]])"
      ]
     },
     "execution_count": 43,
     "metadata": {},
     "output_type": "execute_result"
    }
   ],
   "source": [
    "arr2d"
   ]
  },
  {
   "cell_type": "code",
   "execution_count": 44,
   "id": "3c6e7669-9d0a-47c0-87ec-90599c255955",
   "metadata": {},
   "outputs": [
    {
     "data": {
      "text/plain": [
       "(2, 3)"
      ]
     },
     "execution_count": 44,
     "metadata": {},
     "output_type": "execute_result"
    }
   ],
   "source": [
    "# 각 축의 원소의 개수\n",
    "arr2d.shape"
   ]
  },
  {
   "cell_type": "code",
   "execution_count": 45,
   "id": "e0ec67d9-409c-4caa-b9f0-52b57e89de11",
   "metadata": {},
   "outputs": [],
   "source": [
    "# 다차원 배열을 따질때는 원소 3개가 들어가있는 1차원배열이 2겹으로 쌓여있는 구조\n",
    "# 라고 말하는게 정확함"
   ]
  },
  {
   "cell_type": "code",
   "execution_count": 46,
   "id": "b7d27a9e-ae4b-4582-bae1-cccdbd611ef0",
   "metadata": {},
   "outputs": [],
   "source": [
    "# 최신 논문의 구현이 가능한자"
   ]
  },
  {
   "cell_type": "code",
   "execution_count": 49,
   "id": "f4ce5080-a6c4-4f19-aad6-b8323d3909ad",
   "metadata": {},
   "outputs": [
    {
     "data": {
      "text/plain": [
       "2"
      ]
     },
     "execution_count": 49,
     "metadata": {},
     "output_type": "execute_result"
    }
   ],
   "source": [
    "# 축의 개수\n",
    "arr2d.ndim # 차원이 몇개니~"
   ]
  },
  {
   "cell_type": "code",
   "execution_count": 52,
   "id": "39273727-1314-444c-b467-d4864ff6e363",
   "metadata": {},
   "outputs": [
    {
     "data": {
      "text/plain": [
       "dtype('int64')"
      ]
     },
     "execution_count": 52,
     "metadata": {},
     "output_type": "execute_result"
    }
   ],
   "source": [
    "arr2d.dtype # 하나의 데이터타입이 나옵니다"
   ]
  },
  {
   "cell_type": "code",
   "execution_count": 53,
   "id": "af07194b-223d-442f-8fcf-737e6c2f348f",
   "metadata": {},
   "outputs": [
    {
     "data": {
      "text/plain": [
       "array([1, 2, 3, 4, 5, 6])"
      ]
     },
     "execution_count": 53,
     "metadata": {},
     "output_type": "execute_result"
    }
   ],
   "source": [
    "# 배열의 모양이 정말 중요해요~\n",
    "# 다차원 배열을 1차원 배열로 변경하는 메소드~\n",
    "arr2d.flatten()"
   ]
  },
  {
   "cell_type": "code",
   "execution_count": 54,
   "id": "de6d423b-fa0a-4b08-86ec-1d95beb8c101",
   "metadata": {},
   "outputs": [],
   "source": [
    "# 원소를 그대로 쭉~~~나열"
   ]
  },
  {
   "cell_type": "markdown",
   "id": "f585681b-6e27-4d1b-85af-a407f171bc5e",
   "metadata": {},
   "source": [
    "## 원소 조회하기"
   ]
  },
  {
   "cell_type": "code",
   "execution_count": 55,
   "id": "eb65c9f2-490f-4364-98c3-96e9337f5662",
   "metadata": {},
   "outputs": [
    {
     "data": {
      "text/plain": [
       "array([100,   2,   3,   4])"
      ]
     },
     "execution_count": 55,
     "metadata": {},
     "output_type": "execute_result"
    }
   ],
   "source": [
    "lst_arr"
   ]
  },
  {
   "cell_type": "code",
   "execution_count": 56,
   "id": "d0060ba0-b4c2-411a-b72d-fdbf6fbf0ed1",
   "metadata": {},
   "outputs": [
    {
     "data": {
      "text/plain": [
       "[1, 2, 3, 4]"
      ]
     },
     "execution_count": 56,
     "metadata": {},
     "output_type": "execute_result"
    }
   ],
   "source": [
    "lst"
   ]
  },
  {
   "cell_type": "code",
   "execution_count": 63,
   "id": "55349aef-ae2b-47e8-ba78-827a47891709",
   "metadata": {},
   "outputs": [
    {
     "data": {
      "text/plain": [
       "np.int64(100)"
      ]
     },
     "execution_count": 63,
     "metadata": {},
     "output_type": "execute_result"
    }
   ],
   "source": [
    "lst_arr[0]"
   ]
  },
  {
   "cell_type": "code",
   "execution_count": 58,
   "id": "73b51beb-ae87-4418-90e7-e1893e205532",
   "metadata": {},
   "outputs": [
    {
     "data": {
      "text/plain": [
       "1"
      ]
     },
     "execution_count": 58,
     "metadata": {},
     "output_type": "execute_result"
    }
   ],
   "source": [
    "lst[0]"
   ]
  },
  {
   "cell_type": "code",
   "execution_count": 66,
   "id": "f9961117-7345-41fc-aa3b-d07022308190",
   "metadata": {},
   "outputs": [],
   "source": [
    "# 인덱스 조회 간단합니다..."
   ]
  },
  {
   "cell_type": "markdown",
   "id": "17467649-e9e8-4abd-9279-64579b0b151a",
   "metadata": {},
   "source": [
    "##  배열을 리스트로 변환"
   ]
  },
  {
   "cell_type": "code",
   "execution_count": 68,
   "id": "03ab37fc-4865-420f-a5c7-949c1760de93",
   "metadata": {},
   "outputs": [
    {
     "data": {
      "text/plain": [
       "array([[1, 2, 3],\n",
       "       [4, 5, 6]])"
      ]
     },
     "execution_count": 68,
     "metadata": {},
     "output_type": "execute_result"
    }
   ],
   "source": [
    "arr2d"
   ]
  },
  {
   "cell_type": "code",
   "execution_count": 64,
   "id": "685ab6aa-3ea4-4aff-8738-07c60e82d5c8",
   "metadata": {},
   "outputs": [],
   "source": [
    "# 다차원 배열에서 원소 조회하기\n",
    "lst2d = arr2d.tolist() # 배열을 리스트로 변환"
   ]
  },
  {
   "cell_type": "code",
   "execution_count": 65,
   "id": "35a4062c-28c9-461d-a148-345309a601f5",
   "metadata": {},
   "outputs": [
    {
     "data": {
      "text/plain": [
       "[[1, 2, 3], [4, 5, 6]]"
      ]
     },
     "execution_count": 65,
     "metadata": {},
     "output_type": "execute_result"
    }
   ],
   "source": [
    "lst2d"
   ]
  },
  {
   "cell_type": "code",
   "execution_count": 69,
   "id": "5d9a621a-61a2-4623-be16-4f76ae1be263",
   "metadata": {},
   "outputs": [
    {
     "data": {
      "text/plain": [
       "3"
      ]
     },
     "execution_count": 69,
     "metadata": {},
     "output_type": "execute_result"
    }
   ],
   "source": [
    "lst2d[0][2]"
   ]
  },
  {
   "cell_type": "code",
   "execution_count": 70,
   "id": "239ad8e6-e1f8-427c-9684-b4e1ecabccd6",
   "metadata": {},
   "outputs": [],
   "source": [
    "# 이렇게 정수만을 이용해서 조회를 해야함"
   ]
  },
  {
   "cell_type": "code",
   "execution_count": 80,
   "id": "c9261841-2c83-46fa-a46f-c35101894084",
   "metadata": {},
   "outputs": [
    {
     "data": {
      "text/plain": [
       "np.int64(1)"
      ]
     },
     "execution_count": 80,
     "metadata": {},
     "output_type": "execute_result"
    }
   ],
   "source": [
    "# 다차원배열은 행과 열의 인덱스를 \"튜플\"로 조회가능\n",
    "arr2d[(0,0)] "
   ]
  },
  {
   "cell_type": "markdown",
   "id": "76eb277a-7c25-4e9d-b631-60e28ede756e",
   "metadata": {},
   "source": [
    "#### 슬라이싱"
   ]
  },
  {
   "cell_type": "code",
   "execution_count": 81,
   "id": "2579b560-846a-49af-acd6-e08e4d46dc85",
   "metadata": {},
   "outputs": [],
   "source": [
    "arr1 = np.array([[0,1,2,3],[4,5,6,7]])"
   ]
  },
  {
   "cell_type": "code",
   "execution_count": 82,
   "id": "a6927d68-8a26-43db-a975-561593e5d64c",
   "metadata": {},
   "outputs": [
    {
     "data": {
      "text/plain": [
       "array([[0, 1, 2, 3],\n",
       "       [4, 5, 6, 7]])"
      ]
     },
     "execution_count": 82,
     "metadata": {},
     "output_type": "execute_result"
    }
   ],
   "source": [
    "arr1"
   ]
  },
  {
   "cell_type": "code",
   "execution_count": 83,
   "id": "1979c10d-b6a7-4e95-8963-1d29b358bb5a",
   "metadata": {},
   "outputs": [
    {
     "data": {
      "text/plain": [
       "numpy.ndarray"
      ]
     },
     "execution_count": 83,
     "metadata": {},
     "output_type": "execute_result"
    }
   ],
   "source": [
    "type(arr1)"
   ]
  },
  {
   "cell_type": "code",
   "execution_count": 88,
   "id": "b032a4d8-a8ba-4437-88df-5fe6b1de50f5",
   "metadata": {},
   "outputs": [
    {
     "data": {
      "text/plain": [
       "array([0, 1, 2, 3])"
      ]
     },
     "execution_count": 88,
     "metadata": {},
     "output_type": "execute_result"
    }
   ],
   "source": [
    "arr1[0,:]"
   ]
  },
  {
   "cell_type": "code",
   "execution_count": 89,
   "id": "fc03606a-a3d9-400e-9346-acb63fdee839",
   "metadata": {},
   "outputs": [
    {
     "data": {
      "text/plain": [
       "array([4, 5, 6, 7])"
      ]
     },
     "execution_count": 89,
     "metadata": {},
     "output_type": "execute_result"
    }
   ],
   "source": [
    "arr1[1,:]"
   ]
  },
  {
   "cell_type": "code",
   "execution_count": 91,
   "id": "81ca59f6-7d05-41db-b102-fab3d91310e2",
   "metadata": {},
   "outputs": [
    {
     "data": {
      "text/plain": [
       "array([1, 5])"
      ]
     },
     "execution_count": 91,
     "metadata": {},
     "output_type": "execute_result"
    }
   ],
   "source": [
    "arr1[:,1]"
   ]
  },
  {
   "cell_type": "code",
   "execution_count": 92,
   "id": "28942764-54cc-4b08-867d-7671262719f8",
   "metadata": {},
   "outputs": [
    {
     "data": {
      "text/plain": [
       "array([[1, 2, 3],\n",
       "       [5, 6, 7]])"
      ]
     },
     "execution_count": 92,
     "metadata": {},
     "output_type": "execute_result"
    }
   ],
   "source": [
    "arr1[:,1:]"
   ]
  },
  {
   "cell_type": "code",
   "execution_count": 94,
   "id": "cba25a82-d94b-45b4-a9e1-2d13fd93545f",
   "metadata": {},
   "outputs": [
    {
     "data": {
      "text/plain": [
       "array([[1, 2],\n",
       "       [5, 6]])"
      ]
     },
     "execution_count": 94,
     "metadata": {},
     "output_type": "execute_result"
    }
   ],
   "source": [
    "arr1[:,1:3]"
   ]
  },
  {
   "cell_type": "markdown",
   "id": "e8b2c85d-8edc-4a8c-9faa-d158e516864e",
   "metadata": {},
   "source": [
    "#### 연습문제 \n",
    "\n",
    "1. 아래의 해영ㄹ에서 값 7을 인덱싱\n",
    "2. 아래의 14\n",
    "3. [6,7] 슬라이싱\n",
    "4. [7,12]\n",
    "5. [[3,4], [8,9]]"
   ]
  },
  {
   "cell_type": "code",
   "execution_count": null,
   "id": "33dfe54c-ed83-4717-953c-60c1fc0e7b76",
   "metadata": {},
   "outputs": [],
   "source": []
  },
  {
   "cell_type": "code",
   "execution_count": 95,
   "id": "6c1aaea3-7ae3-40b8-96ce-0ba4edd814b7",
   "metadata": {},
   "outputs": [],
   "source": [
    "m = np.arange(15).reshape(-1,5)"
   ]
  },
  {
   "cell_type": "code",
   "execution_count": 96,
   "id": "0b811981-938c-4783-8394-b353c07a0c49",
   "metadata": {},
   "outputs": [
    {
     "data": {
      "text/plain": [
       "array([[ 0,  1,  2,  3,  4],\n",
       "       [ 5,  6,  7,  8,  9],\n",
       "       [10, 11, 12, 13, 14]])"
      ]
     },
     "execution_count": 96,
     "metadata": {},
     "output_type": "execute_result"
    }
   ],
   "source": [
    "m"
   ]
  },
  {
   "cell_type": "code",
   "execution_count": 99,
   "id": "f6f53dce-cbb0-4ac1-9e90-2c38e9c1a877",
   "metadata": {},
   "outputs": [
    {
     "data": {
      "text/plain": [
       "np.int64(7)"
      ]
     },
     "execution_count": 99,
     "metadata": {},
     "output_type": "execute_result"
    }
   ],
   "source": [
    "# 1.\n",
    "arr1 = m[(1,2)]\n",
    "arr1"
   ]
  },
  {
   "cell_type": "code",
   "execution_count": 100,
   "id": "fcdcabe4-3153-43f0-8130-439b297bee43",
   "metadata": {},
   "outputs": [
    {
     "data": {
      "text/plain": [
       "np.int64(14)"
      ]
     },
     "execution_count": 100,
     "metadata": {},
     "output_type": "execute_result"
    }
   ],
   "source": [
    "# 2.\n",
    "arr2 = m[(2,-1)]\n",
    "arr2"
   ]
  },
  {
   "cell_type": "code",
   "execution_count": 106,
   "id": "709ecd7c-0159-4343-ad20-697cd7429cce",
   "metadata": {},
   "outputs": [
    {
     "data": {
      "text/plain": [
       "array([6, 7])"
      ]
     },
     "execution_count": 106,
     "metadata": {},
     "output_type": "execute_result"
    }
   ],
   "source": [
    "# 3.\n",
    "arr3 = m[1, 1:3]\n",
    "arr3"
   ]
  },
  {
   "cell_type": "code",
   "execution_count": 127,
   "id": "e61aec6b-331a-4c72-9c89-986c6e51b711",
   "metadata": {},
   "outputs": [
    {
     "data": {
      "text/plain": [
       "array([ 7, 12])"
      ]
     },
     "execution_count": 127,
     "metadata": {},
     "output_type": "execute_result"
    }
   ],
   "source": [
    "# 4.\n",
    "arr4 = m[1:, 2]\n",
    "arr4"
   ]
  },
  {
   "cell_type": "code",
   "execution_count": 113,
   "id": "c45f4c7d-6090-427b-b769-3065da9a212f",
   "metadata": {},
   "outputs": [
    {
     "data": {
      "text/plain": [
       "array([[3, 4],\n",
       "       [8, 9]])"
      ]
     },
     "execution_count": 113,
     "metadata": {},
     "output_type": "execute_result"
    }
   ],
   "source": [
    "# 5.\n",
    "arr5 = m[0:2 , 3:]\n",
    "arr5"
   ]
  },
  {
   "cell_type": "markdown",
   "id": "e13825fa-c42f-49c9-b539-54284915f4fa",
   "metadata": {},
   "source": [
    "1. 아래의 행렬에서 배열 [8, 14] 를 슬라이싱\n",
    "2. 아래의 행열에서 [[11,12], [17,18]]\n",
    "3. [3,9,15,21]"
   ]
  },
  {
   "cell_type": "code",
   "execution_count": 128,
   "id": "207f010d-258e-4b89-9557-aa8008425516",
   "metadata": {},
   "outputs": [],
   "source": [
    "m = np.arange(1,25).reshape(4,2,3)"
   ]
  },
  {
   "cell_type": "code",
   "execution_count": 209,
   "id": "ee348505-1b77-4a7a-89c2-cbd1955b799b",
   "metadata": {},
   "outputs": [
    {
     "data": {
      "text/plain": [
       "array([[[ 1,  2,  3],\n",
       "        [ 4,  5,  6]],\n",
       "\n",
       "       [[ 7,  8,  9],\n",
       "        [10, 11, 12]],\n",
       "\n",
       "       [[13, 14, 15],\n",
       "        [16, 17, 18]],\n",
       "\n",
       "       [[19, 20, 21],\n",
       "        [22, 23, 24]]])"
      ]
     },
     "execution_count": 209,
     "metadata": {},
     "output_type": "execute_result"
    }
   ],
   "source": [
    "m"
   ]
  },
  {
   "cell_type": "code",
   "execution_count": 165,
   "id": "f0ea12cf-d111-4027-b82b-e51cd39d4f94",
   "metadata": {},
   "outputs": [
    {
     "data": {
      "text/plain": [
       "(4, 2, 3)"
      ]
     },
     "execution_count": 165,
     "metadata": {},
     "output_type": "execute_result"
    }
   ],
   "source": [
    "m.shape"
   ]
  },
  {
   "cell_type": "code",
   "execution_count": 140,
   "id": "b3e7d9df-b75b-40df-ba9e-e710361dede8",
   "metadata": {},
   "outputs": [
    {
     "data": {
      "text/plain": [
       "array([ 8, 14])"
      ]
     },
     "execution_count": 140,
     "metadata": {},
     "output_type": "execute_result"
    }
   ],
   "source": [
    "# 1. \n",
    "m[1:3 , 0, 1]"
   ]
  },
  {
   "cell_type": "code",
   "execution_count": 233,
   "id": "a9d15b06-b8e8-4724-83de-beaaad7a4aab",
   "metadata": {},
   "outputs": [
    {
     "data": {
      "text/plain": [
       "array([[11, 12],\n",
       "       [17, 18]])"
      ]
     },
     "execution_count": 233,
     "metadata": {},
     "output_type": "execute_result"
    }
   ],
   "source": [
    "# 2. \n",
    "m[1:3, 1,1:]"
   ]
  },
  {
   "cell_type": "code",
   "execution_count": 192,
   "id": "cf351b45-2991-4a8d-bb7a-bdcd66503360",
   "metadata": {},
   "outputs": [
    {
     "data": {
      "text/plain": [
       "array([ 3,  9, 15, 21])"
      ]
     },
     "execution_count": 192,
     "metadata": {},
     "output_type": "execute_result"
    }
   ],
   "source": [
    "# 3.  [3,9,15,21]\n",
    "m[:,0,-1]"
   ]
  },
  {
   "cell_type": "code",
   "execution_count": 193,
   "id": "002b4ca3-8c71-484f-b5df-7dc092e9390b",
   "metadata": {},
   "outputs": [
    {
     "data": {
      "text/plain": [
       "array([ 3,  9, 15, 21])"
      ]
     },
     "execution_count": 193,
     "metadata": {},
     "output_type": "execute_result"
    }
   ],
   "source": [
    "m[:,0,-1]"
   ]
  },
  {
   "cell_type": "markdown",
   "id": "9fcd4586-742c-4701-a809-03f023d087b8",
   "metadata": {},
   "source": [
    "# 뭐 때문에 못 풀었는가\n",
    "1. 원인 : 문법 + 개념 혼동\n",
    "2. 문법이 넘파이배열[()]  이건줄 알았음\n",
    "3. 정신차리고 다시보니 괄호가 아니고... 튜플이었음\n",
    "4. 첫번째문제는 잘 풀어졌던 이유\n",
    "5. 첫번째문제는 2차원 넘파이배열이었음\n",
    "6. 2차원 배열일때는 튜플로 행/열을 선택해서 풀었으니 아무 문제도 없었다\n",
    "7. 안풀려서 x 축, Y 축, z 축 개념을 떠올림 (재앙의 시작)\n",
    "8. 알고보니 그냥 [4차원범위선택, 3차원범위선택, 2차원범위선택 ....] 이런 개념이었다 이말이여\n",
    "9. 범위를 쮹쮹... 선택만 하면되는 간단한 친구였다."
   ]
  },
  {
   "cell_type": "code",
   "execution_count": 194,
   "id": "36f447c4-a377-44a1-a8e9-64f94dcdcdda",
   "metadata": {},
   "outputs": [
    {
     "data": {
      "text/plain": [
       "array([[[[ 0,  1],\n",
       "         [ 2,  3]],\n",
       "\n",
       "        [[ 4,  5],\n",
       "         [ 6,  7]],\n",
       "\n",
       "        [[ 8,  9],\n",
       "         [10, 11]],\n",
       "\n",
       "        [[12, 13],\n",
       "         [14, 15]]],\n",
       "\n",
       "\n",
       "       [[[16, 17],\n",
       "         [18, 19]],\n",
       "\n",
       "        [[20, 21],\n",
       "         [22, 23]],\n",
       "\n",
       "        [[24, 25],\n",
       "         [26, 27]],\n",
       "\n",
       "        [[28, 29],\n",
       "         [30, 31]]]])"
      ]
     },
     "execution_count": 194,
     "metadata": {},
     "output_type": "execute_result"
    }
   ],
   "source": [
    "M = np.arange(32).reshape(-1,4,2,2)\n",
    "# [5,7,9,11]\n",
    "M"
   ]
  },
  {
   "cell_type": "code",
   "execution_count": 196,
   "id": "68dc2389-d02c-4a41-8595-7dcc464a6124",
   "metadata": {},
   "outputs": [
    {
     "data": {
      "text/plain": [
       "(2, 4, 2, 2)"
      ]
     },
     "execution_count": 196,
     "metadata": {},
     "output_type": "execute_result"
    }
   ],
   "source": [
    "M.shape"
   ]
  },
  {
   "cell_type": "code",
   "execution_count": 212,
   "id": "64166f36-df05-4b83-81eb-f86a0e67753c",
   "metadata": {},
   "outputs": [
    {
     "data": {
      "text/plain": [
       "array([ 5,  7,  9, 11])"
      ]
     },
     "execution_count": 212,
     "metadata": {},
     "output_type": "execute_result"
    }
   ],
   "source": [
    "M[0,1:3,:,-1].flatten()"
   ]
  },
  {
   "cell_type": "markdown",
   "id": "c14c952f-f68e-4f1a-84aa-466ae9b99a4e",
   "metadata": {},
   "source": [
    "## 파이썬 리스트와 넘파이 배열의 차이\n",
    "\n",
    "- 넘파이 배열은 배열끼리 연산이 가능하지만 파이썬 리스트는 값의 추가만 가능\n",
    "\n",
    "- 넘파이 배열은 숫자와의 연산도 가능하지만 파이썬 리스트는 불가능\n",
    "    - 파이썬 리스트 : 곱셈으로 리스트 요소를 반복하는 것은 가능"
   ]
  },
  {
   "cell_type": "markdown",
   "id": "3c0cd0c5-ffb3-4949-b186-096a9fbebeba",
   "metadata": {},
   "source": [
    "- 사용용도\n",
    "- 파이썬 리스트는 값을 추가하거나 제거하는 일에 사용\n",
    "- 넘파이 배열은 수치계산이 많고 복잡하거나 다차원배열이 필요할 대 사용"
   ]
  },
  {
   "cell_type": "markdown",
   "id": "30c59a00-fa88-4f4c-9016-f2c0620c2490",
   "metadata": {},
   "source": [
    "# 전치 연산(transpose)\n",
    "\n",
    "- 2차원 배열의 행과 열을 바꾸는 연산"
   ]
  },
  {
   "cell_type": "code",
   "execution_count": 213,
   "id": "e3ff1470-5264-42ed-b0eb-bf014abfb321",
   "metadata": {},
   "outputs": [],
   "source": [
    "# 갑자기 전치 해버리면 첫만남에 속 이야기까지 ... 하는것과 같다..."
   ]
  },
  {
   "cell_type": "code",
   "execution_count": 214,
   "id": "824e5d40-ef09-4242-9b72-9f81bb370d75",
   "metadata": {},
   "outputs": [],
   "source": [
    "# 행 과 열이 바뀐다...\n",
    "# 절차가 있구나\n",
    "\n",
    "# (2,3) => (3,2)\n",
    "# 열이 행이되고 행이 열이 되는 것"
   ]
  },
  {
   "cell_type": "code",
   "execution_count": 216,
   "id": "3fcb0c6f-75a8-4dbd-98c0-c5ebb451f6f1",
   "metadata": {},
   "outputs": [],
   "source": [
    "arr = np.array([[1,2,3], [2,3,4]])"
   ]
  },
  {
   "cell_type": "code",
   "execution_count": 217,
   "id": "b9b3a9fa-adf4-41e0-b30b-c252fe12548c",
   "metadata": {},
   "outputs": [
    {
     "data": {
      "text/plain": [
       "array([[1, 2, 3],\n",
       "       [2, 3, 4]])"
      ]
     },
     "execution_count": 217,
     "metadata": {},
     "output_type": "execute_result"
    }
   ],
   "source": [
    "arr"
   ]
  },
  {
   "cell_type": "code",
   "execution_count": 218,
   "id": "f1b6cf6c-b6f2-4ff0-896b-a826b0ac2cf4",
   "metadata": {},
   "outputs": [
    {
     "data": {
      "text/plain": [
       "(2, 3)"
      ]
     },
     "execution_count": 218,
     "metadata": {},
     "output_type": "execute_result"
    }
   ],
   "source": [
    "arr.shape"
   ]
  },
  {
   "cell_type": "code",
   "execution_count": 224,
   "id": "a55886b6-1d92-4ff4-87d8-a6e6bf584e51",
   "metadata": {},
   "outputs": [],
   "source": [
    "# 전치하다! ( 아 아 이것은 pandas 때 배운것이다...)\n",
    "arr_transport = arr.T"
   ]
  },
  {
   "cell_type": "code",
   "execution_count": 223,
   "id": "192732fd-5e0d-4145-be24-793d19c968d0",
   "metadata": {},
   "outputs": [
    {
     "data": {
      "text/plain": [
       "(3, 2)"
      ]
     },
     "execution_count": 223,
     "metadata": {},
     "output_type": "execute_result"
    }
   ],
   "source": [
    "arr_transport.shape"
   ]
  },
  {
   "cell_type": "markdown",
   "id": "3a6d9b8a-eb6d-428a-88c6-f905ee03a222",
   "metadata": {},
   "source": [
    "# 배열 크기 변형"
   ]
  },
  {
   "cell_type": "code",
   "execution_count": 225,
   "id": "c0d9f8c0-9b56-49c9-bea7-ceea82279b52",
   "metadata": {},
   "outputs": [
    {
     "data": {
      "text/plain": [
       "array([ 0,  1,  2,  3,  4,  5,  6,  7,  8,  9, 10, 11])"
      ]
     },
     "execution_count": 225,
     "metadata": {},
     "output_type": "execute_result"
    }
   ],
   "source": [
    "arr1 = np.arange(12)\n",
    "arr1"
   ]
  },
  {
   "cell_type": "code",
   "execution_count": 232,
   "id": "562f2648-44b1-416c-89cc-7ee33f6feb01",
   "metadata": {},
   "outputs": [
    {
     "ename": "ValueError",
     "evalue": "cannot reshape array of size 6 into shape (5)",
     "output_type": "error",
     "traceback": [
      "\u001b[1;31m---------------------------------------------------------------------------\u001b[0m",
      "\u001b[1;31mValueError\u001b[0m                                Traceback (most recent call last)",
      "Cell \u001b[1;32mIn[232], line 3\u001b[0m\n\u001b[0;32m      1\u001b[0m \u001b[38;5;66;03m# 전설의 식당 백미당...\u001b[39;00m\n\u001b[0;32m      2\u001b[0m \u001b[38;5;66;03m# 줄서야하는 상황 3줄로 4명씩 서세요( 버리는 사람은 없어야한다 )\u001b[39;00m\n\u001b[1;32m----> 3\u001b[0m arr\u001b[38;5;241m.\u001b[39mreshape(\u001b[38;5;241m-\u001b[39m\u001b[38;5;241m1\u001b[39m,\u001b[38;5;241m5\u001b[39m)\n",
      "\u001b[1;31mValueError\u001b[0m: cannot reshape array of size 6 into shape (5)"
     ]
    }
   ],
   "source": [
    "# 전설의 식당 백미당...\n",
    "# 줄서야하는 상황 3줄로 4명씩 서세요( 버리는 사람은 없어야한다 )\n",
    "arr.reshape(-1,5) # 버리는 데이터가 생길경우 에러남!!!!"
   ]
  },
  {
   "cell_type": "markdown",
   "id": "2e3df86c-c29c-4fa9-93df-938886e8ca4a",
   "metadata": {},
   "source": [
    "- 사용하는 원소의 수가 정해져 있기 때무에 reshape 의 형태 원소중하나는 -1 대체\n",
    "\n",
    "- -1 는 컴퓨터가 알아서 계산해서 입력해준다!!!"
   ]
  },
  {
   "cell_type": "code",
   "execution_count": 239,
   "id": "4e0cf8ef-57ca-43a9-92b7-aa2603823282",
   "metadata": {},
   "outputs": [
    {
     "data": {
      "text/plain": [
       "array([[ 0,  1,  2,  3],\n",
       "       [ 4,  5,  6,  7],\n",
       "       [ 8,  9, 10, 11]])"
      ]
     },
     "execution_count": 239,
     "metadata": {},
     "output_type": "execute_result"
    }
   ],
   "source": [
    "arr1.reshape(3,-1) # 알아서 4개 씩 세준다요 / -1 순서 상관없음!!!!"
   ]
  },
  {
   "cell_type": "code",
   "execution_count": 240,
   "id": "341faceb-01cb-4543-872e-b08595eb6a97",
   "metadata": {},
   "outputs": [],
   "source": [
    "# 특정이 안되면 안되기때문에 -1 은 두번 쓸 수없어요\n",
    "# 왜 하필 -1 인가요? 프로그래머가 그렇게 정했어요... 이유는 몰라요..."
   ]
  },
  {
   "cell_type": "code",
   "execution_count": 242,
   "id": "cdf3bc01-9681-47b7-94d9-d8e50478c550",
   "metadata": {},
   "outputs": [],
   "source": [
    "# 왜 이런기능이 필요한가용?\n",
    "# 나누셈 귀찮잖아요"
   ]
  },
  {
   "cell_type": "markdown",
   "id": "667d4a23-b70b-43b0-9a80-a1ec0a0f76d8",
   "metadata": {},
   "source": [
    "# 넘파이 함수의 특징\n",
    "\n",
    "- 벡터화 연산\n",
    "    - 벡터와 행렬의 연산은 구성하는 원소별로 처리하는 것이 보통\n",
    "    - 동일한 인덱스의 원소끼리 계산을 처리하는 것을 벡터화 연산"
   ]
  },
  {
   "cell_type": "code",
   "execution_count": 243,
   "id": "e74eda99-0870-4fb9-bfc5-8028c9d9cba5",
   "metadata": {},
   "outputs": [],
   "source": [
    "# 넘파이 개별 원소를 연산해준다! 우와 필통에서 알아서 연필꺼내서 깎아준다~~~"
   ]
  },
  {
   "cell_type": "markdown",
   "id": "5edb494f-c1a3-4343-87a2-b17d05b0da25",
   "metadata": {},
   "source": [
    "- 유니버설 함수(universal funtion)\n",
    "    - 벡터화 연산을 지원하는 특별한 함수를 유니버셜 함수라고 한다"
   ]
  },
  {
   "cell_type": "code",
   "execution_count": 244,
   "id": "ca38b1f2-aada-4dda-a4ab-d32207d81b45",
   "metadata": {},
   "outputs": [],
   "source": [
    "# 일반 파이썬함수의 타입 확인\n",
    "def test():\n",
    "    pass"
   ]
  },
  {
   "cell_type": "code",
   "execution_count": 245,
   "id": "884dedec-3c75-4616-a65c-50f698ac4fee",
   "metadata": {},
   "outputs": [
    {
     "data": {
      "text/plain": [
       "function"
      ]
     },
     "execution_count": 245,
     "metadata": {},
     "output_type": "execute_result"
    }
   ],
   "source": [
    "type(test)"
   ]
  },
  {
   "cell_type": "code",
   "execution_count": 246,
   "id": "c90aa095-4c96-434d-90b6-d390a3f14d49",
   "metadata": {},
   "outputs": [
    {
     "data": {
      "text/plain": [
       "numpy.ufunc"
      ]
     },
     "execution_count": 246,
     "metadata": {},
     "output_type": "execute_result"
    }
   ],
   "source": [
    "# 유니버설 함수\n",
    "type(np.add)"
   ]
  },
  {
   "cell_type": "code",
   "execution_count": 247,
   "id": "d8f37abe-c18e-45e5-b776-3885356b2b7a",
   "metadata": {},
   "outputs": [
    {
     "data": {
      "text/plain": [
       "numpy._ArrayFunctionDispatcher"
      ]
     },
     "execution_count": 247,
     "metadata": {},
     "output_type": "execute_result"
    }
   ],
   "source": [
    "# 넘파이 모듈에는 유니버설 함수도 있고 일반 함수도 잇음\n",
    "type(np.sort)"
   ]
  },
  {
   "cell_type": "code",
   "execution_count": 250,
   "id": "561aceb2-b5c0-4989-9a3f-7832ac2a5174",
   "metadata": {},
   "outputs": [],
   "source": [
    "# 이게 뭐야? 일단 유니버설 함수는 아님~ 일반 함수임"
   ]
  },
  {
   "cell_type": "code",
   "execution_count": 252,
   "id": "a2e2f944-6d17-4853-8c56-ebf3e9668c9f",
   "metadata": {},
   "outputs": [
    {
     "data": {
      "text/plain": [
       "[[1, 2, 3], [4, 5, 6]]"
      ]
     },
     "execution_count": 252,
     "metadata": {},
     "output_type": "execute_result"
    }
   ],
   "source": [
    "lst2d"
   ]
  },
  {
   "cell_type": "code",
   "execution_count": 253,
   "id": "04923c8e-cb71-458d-b36a-e8a446e243fb",
   "metadata": {},
   "outputs": [
    {
     "data": {
      "text/plain": [
       "[[1, 2, 3], [4, 5, 6], [1, 2, 3], [4, 5, 6]]"
      ]
     },
     "execution_count": 253,
     "metadata": {},
     "output_type": "execute_result"
    }
   ],
   "source": [
    "lst2d + lst2d"
   ]
  },
  {
   "cell_type": "code",
   "execution_count": 255,
   "id": "71f69c32-1307-46aa-b6ae-ae1d3e898c3f",
   "metadata": {},
   "outputs": [
    {
     "data": {
      "text/plain": [
       "array([[ 2,  4,  6],\n",
       "       [ 8, 10, 12]])"
      ]
     },
     "execution_count": 255,
     "metadata": {},
     "output_type": "execute_result"
    }
   ],
   "source": [
    "np.add(lst2d , lst2d)"
   ]
  },
  {
   "cell_type": "markdown",
   "id": "317610bb-276c-44f8-8fe7-372cecb7a3c6",
   "metadata": {},
   "source": [
    "## 벡터화 연산"
   ]
  },
  {
   "cell_type": "markdown",
   "id": "e17af206-abf5-447d-a5dd-153bc2d4d21f",
   "metadata": {},
   "source": [
    "- 벡터화 연산이 필요한 이유\n",
    "- 예) 리스트 내의 각 값에 2를 곱해야하는 경우"
   ]
  },
  {
   "cell_type": "code",
   "execution_count": 256,
   "id": "724ff942-96ae-46e5-a4ef-00da3790d74d",
   "metadata": {},
   "outputs": [
    {
     "data": {
      "text/plain": [
       "[[1, 2, 3], [4, 5, 6]]"
      ]
     },
     "execution_count": 256,
     "metadata": {},
     "output_type": "execute_result"
    }
   ],
   "source": [
    "lst2d"
   ]
  },
  {
   "cell_type": "code",
   "execution_count": 257,
   "id": "c6b47c39-9c12-4e59-aa68-d726cb562a5e",
   "metadata": {},
   "outputs": [
    {
     "data": {
      "text/plain": [
       "[[1, 2, 3], [4, 5, 6], [1, 2, 3], [4, 5, 6]]"
      ]
     },
     "execution_count": 257,
     "metadata": {},
     "output_type": "execute_result"
    }
   ],
   "source": [
    "lst2d * 2"
   ]
  },
  {
   "cell_type": "code",
   "execution_count": 260,
   "id": "ec1b533d-00a2-4df7-b3c0-22c03788e596",
   "metadata": {},
   "outputs": [
    {
     "data": {
      "text/plain": [
       "[0, 1, 2, 3, 4, 5, 6, 7, 8, 9]"
      ]
     },
     "execution_count": 260,
     "metadata": {},
     "output_type": "execute_result"
    }
   ],
   "source": [
    "data = list(range(10))\n",
    "data"
   ]
  },
  {
   "cell_type": "code",
   "execution_count": 261,
   "id": "9333ef24-74b6-4ec7-97f2-59191a6722d0",
   "metadata": {},
   "outputs": [
    {
     "data": {
      "text/plain": [
       "[0, 1, 2, 3, 4, 5, 6, 7, 8, 9, 0, 1, 2, 3, 4, 5, 6, 7, 8, 9]"
      ]
     },
     "execution_count": 261,
     "metadata": {},
     "output_type": "execute_result"
    }
   ],
   "source": [
    "data * 2"
   ]
  },
  {
   "cell_type": "code",
   "execution_count": 262,
   "id": "50915ab4-7c2a-4720-bac4-a13171af2b57",
   "metadata": {},
   "outputs": [],
   "source": [
    "m = np.array(data)"
   ]
  },
  {
   "cell_type": "code",
   "execution_count": 263,
   "id": "6ec63c9c-1feb-4b5c-b35f-6e7c1b54bb60",
   "metadata": {},
   "outputs": [
    {
     "data": {
      "text/plain": [
       "array([ 0,  2,  4,  6,  8, 10, 12, 14, 16, 18])"
      ]
     },
     "execution_count": 263,
     "metadata": {},
     "output_type": "execute_result"
    }
   ],
   "source": [
    "m * 2"
   ]
  },
  {
   "cell_type": "code",
   "execution_count": 264,
   "id": "9e0980da-28f7-4a29-bcbc-a5d4051d1bc8",
   "metadata": {},
   "outputs": [
    {
     "data": {
      "text/plain": [
       "numpy.ndarray"
      ]
     },
     "execution_count": 264,
     "metadata": {},
     "output_type": "execute_result"
    }
   ],
   "source": [
    "type(m*2)"
   ]
  },
  {
   "cell_type": "code",
   "execution_count": 265,
   "id": "c25d622f-03fc-4ed1-aa88-3738a3aefa80",
   "metadata": {},
   "outputs": [],
   "source": [
    "# 간지가 난다~"
   ]
  },
  {
   "cell_type": "code",
   "execution_count": 266,
   "id": "95731933-d9c8-49a2-88f9-35c3bfb57e3a",
   "metadata": {},
   "outputs": [],
   "source": [
    "# 아메리카노는 악세사리이다"
   ]
  },
  {
   "cell_type": "code",
   "execution_count": 267,
   "id": "d252bcdd-fac4-4b40-981a-7b64fd797ac0",
   "metadata": {},
   "outputs": [],
   "source": [
    "# 실제로 코드 생산속도, 메모리 효율적으로 넘파이가 최고다!"
   ]
  },
  {
   "cell_type": "code",
   "execution_count": 269,
   "id": "4ba4277f-119d-4fd6-9ebc-34cbca5ff7b3",
   "metadata": {},
   "outputs": [],
   "source": [
    "# 지루하고 현학적!이지 않게! 바뀌었다!!!!"
   ]
  },
  {
   "cell_type": "markdown",
   "id": "7dac8fd1-7047-445a-803f-084ed61c0a3d",
   "metadata": {},
   "source": [
    "### 넘파이 벡터화 연산\n",
    "- 벡터화연산은 비교 연산과 논리 연산을 포함한 모든 종류의 수학 연산에 대해 적용됨"
   ]
  },
  {
   "cell_type": "code",
   "execution_count": 270,
   "id": "f3fb6a2b-17c1-457d-a7e7-135e5872f441",
   "metadata": {},
   "outputs": [],
   "source": [
    "a = np.array([1,2,3])\n",
    "b = np.array([10,20,30])"
   ]
  },
  {
   "cell_type": "code",
   "execution_count": 272,
   "id": "817c105c-9071-4d8a-ba61-29976a32fbca",
   "metadata": {},
   "outputs": [
    {
     "data": {
      "text/plain": [
       "array([11, 22, 33])"
      ]
     },
     "execution_count": 272,
     "metadata": {},
     "output_type": "execute_result"
    }
   ],
   "source": [
    "np.add(a,b)"
   ]
  },
  {
   "cell_type": "code",
   "execution_count": 273,
   "id": "2c02b67e-5c2f-44d6-ad52-25a496c06623",
   "metadata": {},
   "outputs": [
    {
     "data": {
      "text/plain": [
       "array([10, 40, 90])"
      ]
     },
     "execution_count": 273,
     "metadata": {},
     "output_type": "execute_result"
    }
   ],
   "source": [
    "a * b"
   ]
  },
  {
   "cell_type": "code",
   "execution_count": 275,
   "id": "ee01f326-b8ff-4bb3-ab73-f1c5dfd1b57d",
   "metadata": {},
   "outputs": [
    {
     "data": {
      "text/plain": [
       "array([0.1, 0.1, 0.1])"
      ]
     },
     "execution_count": 275,
     "metadata": {},
     "output_type": "execute_result"
    }
   ],
   "source": [
    "a / b"
   ]
  },
  {
   "cell_type": "code",
   "execution_count": 276,
   "id": "287b7e6a-caae-450d-845f-0701eedaeeec",
   "metadata": {},
   "outputs": [
    {
     "data": {
      "text/plain": [
       "array([1, 2, 3])"
      ]
     },
     "execution_count": 276,
     "metadata": {},
     "output_type": "execute_result"
    }
   ],
   "source": [
    "a % b"
   ]
  },
  {
   "cell_type": "code",
   "execution_count": 278,
   "id": "d41d453c-cd78-4026-bbb9-51149195553f",
   "metadata": {},
   "outputs": [
    {
     "data": {
      "text/plain": [
       "array([11, 22, 29])"
      ]
     },
     "execution_count": 278,
     "metadata": {},
     "output_type": "execute_result"
    }
   ],
   "source": [
    "a ^ b"
   ]
  },
  {
   "cell_type": "code",
   "execution_count": 279,
   "id": "09114516-66cf-4989-bd76-9d266552a401",
   "metadata": {},
   "outputs": [
    {
     "data": {
      "text/plain": [
       "array([0, 0, 2])"
      ]
     },
     "execution_count": 279,
     "metadata": {},
     "output_type": "execute_result"
    }
   ],
   "source": [
    "a & b"
   ]
  },
  {
   "cell_type": "code",
   "execution_count": 286,
   "id": "2705652e-48c1-4b22-99a7-57679c996e4d",
   "metadata": {},
   "outputs": [
    {
     "data": {
      "text/plain": [
       "array([ True,  True,  True])"
      ]
     },
     "execution_count": 286,
     "metadata": {},
     "output_type": "execute_result"
    }
   ],
   "source": [
    "a != b"
   ]
  },
  {
   "cell_type": "code",
   "execution_count": 281,
   "id": "eacc2dfb-0d30-407a-a075-e235a9a6caac",
   "metadata": {},
   "outputs": [],
   "source": [
    "# 머리속에 파이썬 컴파일러가 존재하고 싶다..."
   ]
  },
  {
   "cell_type": "code",
   "execution_count": 282,
   "id": "5c377256-948d-4357-b90d-7bd533b080b8",
   "metadata": {},
   "outputs": [],
   "source": [
    "# 많은 연습...을 해라... 연습을..."
   ]
  },
  {
   "cell_type": "code",
   "execution_count": 283,
   "id": "b16e124d-90a0-4577-a95c-b8869df96b91",
   "metadata": {},
   "outputs": [
    {
     "data": {
      "text/plain": [
       "array([False, False,  True])"
      ]
     },
     "execution_count": 283,
     "metadata": {},
     "output_type": "execute_result"
    }
   ],
   "source": [
    "a == 3"
   ]
  },
  {
   "cell_type": "code",
   "execution_count": 284,
   "id": "bbd86955-56c4-4893-b079-10b6e68c5dae",
   "metadata": {},
   "outputs": [],
   "source": [
    "# 와우 댑악~"
   ]
  },
  {
   "cell_type": "code",
   "execution_count": 287,
   "id": "df7d5643-dc53-4aed-9473-da5fef455389",
   "metadata": {},
   "outputs": [
    {
     "data": {
      "text/plain": [
       "array([False,  True,  True])"
      ]
     },
     "execution_count": 287,
     "metadata": {},
     "output_type": "execute_result"
    }
   ],
   "source": [
    "b > 10"
   ]
  },
  {
   "cell_type": "code",
   "execution_count": 289,
   "id": "dc380592-ced3-47e5-b26f-f4f91e08405f",
   "metadata": {},
   "outputs": [
    {
     "data": {
      "text/plain": [
       "array([False,  True, False])"
      ]
     },
     "execution_count": 289,
     "metadata": {},
     "output_type": "execute_result"
    }
   ],
   "source": [
    "(a == 2) & (b > 10)"
   ]
  },
  {
   "cell_type": "code",
   "execution_count": 290,
   "id": "031358db-d718-4adb-a73b-864b902ae1c0",
   "metadata": {},
   "outputs": [],
   "source": [
    "# array([(False  & False),  (True & True ), (False & true)]) 이기 때문이다~"
   ]
  },
  {
   "cell_type": "code",
   "execution_count": 291,
   "id": "97d18d7d-8da7-4c35-800a-1f0031e89e2e",
   "metadata": {},
   "outputs": [],
   "source": [
    "# 단순한 연산에서는 오히려 성능이 구리게 나온다 %%timeit 으로 찍어보면 유니버설이 늦게나옴"
   ]
  },
  {
   "cell_type": "code",
   "execution_count": 292,
   "id": "6f5051b2-2bd2-4249-8c88-adf5e53c57a7",
   "metadata": {},
   "outputs": [],
   "source": [
    "# 긍정 축하한다! 선 선물\n",
    "# 부정 후 선물.."
   ]
  },
  {
   "cell_type": "markdown",
   "id": "fb101b95-f3d2-4cf8-a347-92071b7f4686",
   "metadata": {},
   "source": [
    "- 배열끼리의 연산"
   ]
  },
  {
   "cell_type": "code",
   "execution_count": 293,
   "id": "0fdf41aa-f649-4c88-b7bd-2fa8ecb47c41",
   "metadata": {},
   "outputs": [],
   "source": [
    "arr1 = np.arange(6,10)"
   ]
  },
  {
   "cell_type": "code",
   "execution_count": 294,
   "id": "ab78d03c-012b-4789-a9ba-23fa417e8831",
   "metadata": {},
   "outputs": [
    {
     "data": {
      "text/plain": [
       "array([6, 7, 8, 9])"
      ]
     },
     "execution_count": 294,
     "metadata": {},
     "output_type": "execute_result"
    }
   ],
   "source": [
    "arr1"
   ]
  },
  {
   "cell_type": "code",
   "execution_count": 295,
   "id": "b6aa7056-08fe-4dea-baeb-c93c1ed7eda2",
   "metadata": {},
   "outputs": [],
   "source": [
    "arr2 = np.arange(10,14)"
   ]
  },
  {
   "cell_type": "code",
   "execution_count": 296,
   "id": "a1106c07-1f73-499b-a68c-0b352911cdbd",
   "metadata": {},
   "outputs": [
    {
     "data": {
      "text/plain": [
       "array([10, 11, 12, 13])"
      ]
     },
     "execution_count": 296,
     "metadata": {},
     "output_type": "execute_result"
    }
   ],
   "source": [
    "arr2"
   ]
  },
  {
   "cell_type": "code",
   "execution_count": 297,
   "id": "56d229ff-46d0-44c8-8d4b-385a839e04f9",
   "metadata": {},
   "outputs": [
    {
     "data": {
      "text/plain": [
       "array([ 60,  77,  96, 117])"
      ]
     },
     "execution_count": 297,
     "metadata": {},
     "output_type": "execute_result"
    }
   ],
   "source": [
    "arr1 * arr2"
   ]
  },
  {
   "cell_type": "code",
   "execution_count": 298,
   "id": "a92b3b41-7b18-49f7-a56f-07f9f8cec52f",
   "metadata": {},
   "outputs": [],
   "source": [
    "# 인덱스가 동일한 인덱스 기리 곱하기~"
   ]
  },
  {
   "cell_type": "code",
   "execution_count": 299,
   "id": "c8ff7107-aa70-49a9-b5a5-8865ed554206",
   "metadata": {},
   "outputs": [],
   "source": [
    "# 두 개의 다차원 곱하면 1개의 차원이 나오지롱"
   ]
  },
  {
   "cell_type": "code",
   "execution_count": 326,
   "id": "404eef3a-105a-40ca-955b-d901f1620624",
   "metadata": {},
   "outputs": [],
   "source": [
    "# arr1 에 차원 추가\n",
    "new_arr1 = arr1.reshape(-1, 1)"
   ]
  },
  {
   "cell_type": "code",
   "execution_count": 327,
   "id": "109c40b9-5b77-4c48-801d-a64d72a408b6",
   "metadata": {},
   "outputs": [
    {
     "data": {
      "text/plain": [
       "array([[6],\n",
       "       [7],\n",
       "       [8],\n",
       "       [9]])"
      ]
     },
     "execution_count": 327,
     "metadata": {},
     "output_type": "execute_result"
    }
   ],
   "source": [
    "new_arr1"
   ]
  },
  {
   "cell_type": "code",
   "execution_count": 312,
   "id": "f89bce78-ae74-4193-9fb2-5390c9580890",
   "metadata": {},
   "outputs": [
    {
     "data": {
      "text/plain": [
       "(4, 1)"
      ]
     },
     "execution_count": 312,
     "metadata": {},
     "output_type": "execute_result"
    }
   ],
   "source": [
    "new_arr1.shape # 1개의 원소를 가지는 4개의 배열"
   ]
  },
  {
   "cell_type": "code",
   "execution_count": 313,
   "id": "e2f480ab-4358-48d3-8090-0c12e9721bb4",
   "metadata": {},
   "outputs": [],
   "source": [
    "# 행 , 열"
   ]
  },
  {
   "cell_type": "code",
   "execution_count": 328,
   "id": "afe98a49-33a5-4add-90e9-3525578ee808",
   "metadata": {},
   "outputs": [],
   "source": [
    "# arr2 에 차원 추가\n",
    "\n",
    "new_arr2 = arr2.reshape(-1, 4)"
   ]
  },
  {
   "cell_type": "code",
   "execution_count": 329,
   "id": "415817fb-133a-4f01-ac26-a352bdd9c1a0",
   "metadata": {},
   "outputs": [
    {
     "data": {
      "text/plain": [
       "array([[10, 11, 12, 13]])"
      ]
     },
     "execution_count": 329,
     "metadata": {},
     "output_type": "execute_result"
    }
   ],
   "source": [
    "new_arr2"
   ]
  },
  {
   "cell_type": "code",
   "execution_count": 316,
   "id": "d68e0f1e-2198-4b12-ad8c-5616e7aae709",
   "metadata": {},
   "outputs": [
    {
     "data": {
      "text/plain": [
       "(1, 4)"
      ]
     },
     "execution_count": 316,
     "metadata": {},
     "output_type": "execute_result"
    }
   ],
   "source": [
    "new_arr2.shape # 잘봐라!!!!!!!!!! 4개의 원소를 가지는 1개의 배열이 나온다..."
   ]
  },
  {
   "cell_type": "code",
   "execution_count": 318,
   "id": "81086840-fca8-42f7-a280-2dfc71d42484",
   "metadata": {},
   "outputs": [
    {
     "data": {
      "text/plain": [
       "array([[16, 17, 18, 19],\n",
       "       [17, 18, 19, 20],\n",
       "       [18, 19, 20, 21],\n",
       "       [19, 20, 21, 22]])"
      ]
     },
     "execution_count": 318,
     "metadata": {},
     "output_type": "execute_result"
    }
   ],
   "source": [
    "np.add(new_arr1,new_arr2) # 반복확장해버린다고??? "
   ]
  },
  {
   "cell_type": "code",
   "execution_count": 319,
   "id": "77f36c52-41e5-49ce-a529-667e5a41b525",
   "metadata": {},
   "outputs": [],
   "source": [
    "# 이런모양새가 된다\n",
    "\n",
    "# 이렇게 확장한다\n",
    "# new_arr1 = [\n",
    "# [6,6,6,6],\n",
    "# [7,7,7,7],\n",
    "# [8,8,8,8],\n",
    "# [9,9,9,9]\n",
    "# ]\n",
    "\n",
    "# new_arr2 = [\n",
    "# [10,11,12,13],\n",
    "# [10,11,12,13],\n",
    "# [10,11,12,13],\n",
    "# [10,11,12,13],\n",
    "# ]"
   ]
  },
  {
   "cell_type": "code",
   "execution_count": 320,
   "id": "17c41967-60b2-4149-b4e7-c16db0154e58",
   "metadata": {},
   "outputs": [],
   "source": [
    "a = np.array([[1,2] , [3,4]])\n",
    "b = np.array([[5,6] , [7,8]])"
   ]
  },
  {
   "cell_type": "code",
   "execution_count": 321,
   "id": "62e4a598-0a8c-4c8b-899f-bc4515e60d88",
   "metadata": {},
   "outputs": [],
   "source": [
    "# 올바른 길..."
   ]
  },
  {
   "cell_type": "code",
   "execution_count": 322,
   "id": "386976b1-a81a-40cf-997a-bf7242098de1",
   "metadata": {},
   "outputs": [
    {
     "data": {
      "text/plain": [
       "array([[ 5, 12],\n",
       "       [21, 32]])"
      ]
     },
     "execution_count": 322,
     "metadata": {},
     "output_type": "execute_result"
    }
   ],
   "source": [
    "# * 연산자는 요소별 곱셈을 수행\n",
    "a * b"
   ]
  },
  {
   "cell_type": "code",
   "execution_count": 323,
   "id": "ca40ec9a-5fca-42f7-a42a-2b1f02dcf403",
   "metadata": {},
   "outputs": [],
   "source": [
    "# 걍 인덱스 같은거 끼리 곱함"
   ]
  },
  {
   "cell_type": "code",
   "execution_count": 324,
   "id": "e1e6d833-a82a-4d38-a1d5-5ccf7c4fd847",
   "metadata": {},
   "outputs": [
    {
     "data": {
      "text/plain": [
       "array([[19, 22],\n",
       "       [43, 50]])"
      ]
     },
     "execution_count": 324,
     "metadata": {},
     "output_type": "execute_result"
    }
   ],
   "source": [
    "# @ 연산자는 행렬 곱셈을 수행 행렬 곱!\n",
    "\n",
    "a @ b"
   ]
  },
  {
   "cell_type": "markdown",
   "id": "6ba923d9-ebc2-4b04-80a0-c46e4c5690d8",
   "metadata": {},
   "source": [
    "## 브로드캐스팅(broadcasting)\n",
    "- 배열끼리 연산을 하기 위해서는 두 배열의 크기 가 같아야함\n",
    "- 서로 다른 크기를 가진 배열의 사칙연산을 하는 경우 넘파이에서는 크기가 작은 배열을 자동으로 반복확장"
   ]
  },
  {
   "cell_type": "code",
   "execution_count": 330,
   "id": "7108547b-3fee-4b46-aa99-a764658b194e",
   "metadata": {},
   "outputs": [
    {
     "data": {
      "text/plain": [
       "array([[16, 17, 18, 19],\n",
       "       [17, 18, 19, 20],\n",
       "       [18, 19, 20, 21],\n",
       "       [19, 20, 21, 22]])"
      ]
     },
     "execution_count": 330,
     "metadata": {},
     "output_type": "execute_result"
    }
   ],
   "source": [
    "new_arr1 + new_arr2"
   ]
  },
  {
   "cell_type": "code",
   "execution_count": 331,
   "id": "479f94b3-c8e9-4dd0-8390-0e96f60001b8",
   "metadata": {},
   "outputs": [],
   "source": [
    "# 인공지능은 어떻게 보여줄거임??"
   ]
  },
  {
   "cell_type": "code",
   "execution_count": 335,
   "id": "6b982965-54a2-4310-b94f-261a3f5bdc96",
   "metadata": {},
   "outputs": [],
   "source": [
    "# 지루하고 현학적인 것을 설명할수있어야...\n",
    "# 지원금도 받고...\n",
    "# 쉽게/어렵게 설명...\n",
    "# 알고 있어야한다...\n",
    "# 업무 평가 역량이다..."
   ]
  },
  {
   "cell_type": "code",
   "execution_count": 336,
   "id": "bbc83f7e-72da-4746-9ae3-aa1e78ee4b4b",
   "metadata": {},
   "outputs": [],
   "source": [
    "# 대충 알고 있으면 망합니다"
   ]
  },
  {
   "cell_type": "code",
   "execution_count": 337,
   "id": "d9225051-f461-4769-9307-9c9b1df3df55",
   "metadata": {},
   "outputs": [],
   "source": [
    "# 용어 + 원리 모두 ..."
   ]
  },
  {
   "cell_type": "markdown",
   "id": "fdb998bc-f2a0-4edb-887c-29a308f86cef",
   "metadata": {},
   "source": [
    "#### 연습문제\n",
    "\n",
    "1. 아래의 배열에서 3의 배수를 찾기\n",
    "\n",
    "2. 아래의 배열에서 4로 나누면 1이 남는 수를 찾기\n",
    "\n",
    "3. 아래의 배열에서 3으로 나누면 나누어지고 4로 나누면 남는 수 찾기"
   ]
  },
  {
   "cell_type": "code",
   "execution_count": 339,
   "id": "8143ebd1-2f61-4c62-8894-6765c9a3bb49",
   "metadata": {},
   "outputs": [],
   "source": [
    "x = np.arange(1, 21)"
   ]
  },
  {
   "cell_type": "code",
   "execution_count": 340,
   "id": "847f0682-cb28-476c-bcea-f38011d82347",
   "metadata": {},
   "outputs": [
    {
     "data": {
      "text/plain": [
       "array([ 1,  2,  3,  4,  5,  6,  7,  8,  9, 10, 11, 12, 13, 14, 15, 16, 17,\n",
       "       18, 19, 20])"
      ]
     },
     "execution_count": 340,
     "metadata": {},
     "output_type": "execute_result"
    }
   ],
   "source": [
    "x"
   ]
  },
  {
   "cell_type": "code",
   "execution_count": 343,
   "id": "25a34804-e584-43c9-bbc6-a944deac553b",
   "metadata": {},
   "outputs": [
    {
     "data": {
      "text/plain": [
       "array([ 3,  6,  9, 12, 15, 18])"
      ]
     },
     "execution_count": 343,
     "metadata": {},
     "output_type": "execute_result"
    }
   ],
   "source": [
    "x[x % 3 == 0]"
   ]
  },
  {
   "cell_type": "code",
   "execution_count": 344,
   "id": "a8c5ee01-5df6-4139-acc2-fc400d50ecee",
   "metadata": {},
   "outputs": [
    {
     "data": {
      "text/plain": [
       "array([ 1,  5,  9, 13, 17])"
      ]
     },
     "execution_count": 344,
     "metadata": {},
     "output_type": "execute_result"
    }
   ],
   "source": [
    "x[x % 4 == 1]"
   ]
  },
  {
   "cell_type": "code",
   "execution_count": 346,
   "id": "28453989-3969-4ee7-9662-b57c6f744aa3",
   "metadata": {},
   "outputs": [
    {
     "data": {
      "text/plain": [
       "array([9])"
      ]
     },
     "execution_count": 346,
     "metadata": {},
     "output_type": "execute_result"
    }
   ],
   "source": [
    "x[(x % 3 == 0) & (x % 4 == 1)]"
   ]
  },
  {
   "cell_type": "code",
   "execution_count": 347,
   "id": "5968b58b-460e-4d2d-b539-940f43532359",
   "metadata": {},
   "outputs": [],
   "source": [
    "# 예!"
   ]
  },
  {
   "cell_type": "markdown",
   "id": "37c74e5e-6591-45bd-ad58-cf23cd2f1dda",
   "metadata": {},
   "source": [
    "## 축에 따른 연산\n",
    "\n",
    "- 동일한 축에 있는 원소들을 계산하기 위해서 필요함"
   ]
  },
  {
   "cell_type": "markdown",
   "id": "c96fceec-44d2-4cfe-9e75-a4845e0b8211",
   "metadata": {},
   "source": [
    "### 1차원 배열"
   ]
  },
  {
   "cell_type": "code",
   "execution_count": 348,
   "id": "9cc79a26-a658-41aa-883a-ab607dcbac8b",
   "metadata": {},
   "outputs": [
    {
     "data": {
      "text/plain": [
       "array([1, 2, 3, 4])"
      ]
     },
     "execution_count": 348,
     "metadata": {},
     "output_type": "execute_result"
    }
   ],
   "source": [
    "arr1 = np.array([1,2,3,4])\n",
    "arr1"
   ]
  },
  {
   "cell_type": "code",
   "execution_count": 349,
   "id": "466ed865-76bb-4029-98e0-fb38df8d3c23",
   "metadata": {},
   "outputs": [
    {
     "data": {
      "text/plain": [
       "np.int64(10)"
      ]
     },
     "execution_count": 349,
     "metadata": {},
     "output_type": "execute_result"
    }
   ],
   "source": [
    "# 합계\n",
    "np.sum(arr1)"
   ]
  },
  {
   "cell_type": "code",
   "execution_count": 350,
   "id": "7784f4a3-8455-404e-9414-ad2155a624c6",
   "metadata": {},
   "outputs": [
    {
     "data": {
      "text/plain": [
       "np.int64(10)"
      ]
     },
     "execution_count": 350,
     "metadata": {},
     "output_type": "execute_result"
    }
   ],
   "source": [
    "arr1.sum()"
   ]
  },
  {
   "cell_type": "code",
   "execution_count": 351,
   "id": "85df94bf-8c1a-4ff9-a8aa-dec4e09a0ea5",
   "metadata": {},
   "outputs": [
    {
     "data": {
      "text/plain": [
       "np.int64(4)"
      ]
     },
     "execution_count": 351,
     "metadata": {},
     "output_type": "execute_result"
    }
   ],
   "source": [
    "# 최댓값\n",
    "arr1.max()"
   ]
  },
  {
   "cell_type": "code",
   "execution_count": 353,
   "id": "d05a8eab-fce7-4b75-9781-2d9727860771",
   "metadata": {},
   "outputs": [
    {
     "data": {
      "text/plain": [
       "np.int64(1)"
      ]
     },
     "execution_count": 353,
     "metadata": {},
     "output_type": "execute_result"
    }
   ],
   "source": [
    "# 최솟값\n",
    "arr1.min()"
   ]
  },
  {
   "cell_type": "code",
   "execution_count": 354,
   "id": "44ccaf54-a7ba-4612-a3f6-11ee70e781c9",
   "metadata": {},
   "outputs": [],
   "source": [
    "# 인공지능이란 녀석은\n",
    "# 복잡한 수식으로 된 녀석\n",
    "# 어떠한 값을 배열로 뭔가 던져줌"
   ]
  },
  {
   "cell_type": "code",
   "execution_count": 356,
   "id": "4fa7b080-a11a-4f4a-9896-237c93861f93",
   "metadata": {},
   "outputs": [],
   "source": [
    "# 확신의 정도... 몇빠센또"
   ]
  },
  {
   "cell_type": "code",
   "execution_count": 357,
   "id": "007818f0-4d77-41e4-ac97-782cfdb13bef",
   "metadata": {},
   "outputs": [],
   "source": [
    "# 확신의 정도가 확률이 높은것을! 예측한다!!!!"
   ]
  },
  {
   "cell_type": "code",
   "execution_count": 358,
   "id": "78540c65-c2b3-432c-bf19-dc2831a7137d",
   "metadata": {},
   "outputs": [
    {
     "data": {
      "text/plain": [
       "np.int64(0)"
      ]
     },
     "execution_count": 358,
     "metadata": {},
     "output_type": "execute_result"
    }
   ],
   "source": [
    "# 값을 뽑아내는게 아니고 \n",
    "# 최대/최솟 값의 위치를 알아내는게 중요! 강아지다!!!!\n",
    "\n",
    "arr1.argmin() # 최솟값의 위치가 0 이니까...\n"
   ]
  },
  {
   "cell_type": "code",
   "execution_count": 359,
   "id": "c6db5121-f46a-4551-8743-eaa2a496308f",
   "metadata": {},
   "outputs": [
    {
     "data": {
      "text/plain": [
       "np.int64(3)"
      ]
     },
     "execution_count": 359,
     "metadata": {},
     "output_type": "execute_result"
    }
   ],
   "source": [
    "arr1.argmax()"
   ]
  },
  {
   "cell_type": "code",
   "execution_count": 361,
   "id": "d01e7400-5bb6-42fe-ba1b-05b00fbac2ac",
   "metadata": {},
   "outputs": [
    {
     "data": {
      "text/plain": [
       "np.float64(2.5)"
      ]
     },
     "execution_count": 361,
     "metadata": {},
     "output_type": "execute_result"
    }
   ],
   "source": [
    "arr1.mean()"
   ]
  },
  {
   "cell_type": "code",
   "execution_count": 363,
   "id": "4238a2f8-ebab-4c83-8281-c3f5a9064a83",
   "metadata": {},
   "outputs": [
    {
     "data": {
      "text/plain": [
       "np.float64(2.5)"
      ]
     },
     "execution_count": 363,
     "metadata": {},
     "output_type": "execute_result"
    }
   ],
   "source": [
    "# 중앙값\n",
    "np.median(arr1) # 뭐여~~~????"
   ]
  },
  {
   "cell_type": "markdown",
   "id": "4bac1849-0384-4bf1-8a9a-91f834d8e09f",
   "metadata": {},
   "source": [
    "#### 2차원 배열\n"
   ]
  },
  {
   "cell_type": "code",
   "execution_count": 364,
   "id": "248788e6-d166-4ed8-90df-db5b8271cf34",
   "metadata": {},
   "outputs": [],
   "source": [
    "arr2 = arr1.reshape(2,2)"
   ]
  },
  {
   "cell_type": "code",
   "execution_count": 365,
   "id": "1fc2414c-91f2-4114-852e-bffcdd842f8d",
   "metadata": {},
   "outputs": [
    {
     "data": {
      "text/plain": [
       "array([[1, 2],\n",
       "       [3, 4]])"
      ]
     },
     "execution_count": 365,
     "metadata": {},
     "output_type": "execute_result"
    }
   ],
   "source": [
    "arr2"
   ]
  },
  {
   "cell_type": "code",
   "execution_count": 366,
   "id": "f9c4ba7a-e44d-4283-a2d0-d496aa554d6d",
   "metadata": {},
   "outputs": [
    {
     "data": {
      "text/plain": [
       "np.int64(10)"
      ]
     },
     "execution_count": 366,
     "metadata": {},
     "output_type": "execute_result"
    }
   ],
   "source": [
    "# 모든 원소를 더한 합\n",
    "np.sum(arr2)"
   ]
  },
  {
   "cell_type": "code",
   "execution_count": 367,
   "id": "f814f4e1-3c3e-49eb-97f2-b7ff214212b8",
   "metadata": {},
   "outputs": [
    {
     "data": {
      "text/plain": [
       "array([3, 7])"
      ]
     },
     "execution_count": 367,
     "metadata": {},
     "output_type": "execute_result"
    }
   ],
   "source": [
    "# 축에 따라 연산을 할 수 있다.\n",
    "np.sum(arr2, axis=1)"
   ]
  },
  {
   "cell_type": "code",
   "execution_count": 368,
   "id": "0ee78d99-7910-4a3c-aebb-df985a3dd793",
   "metadata": {},
   "outputs": [
    {
     "data": {
      "text/plain": [
       "array([4, 6])"
      ]
     },
     "execution_count": 368,
     "metadata": {},
     "output_type": "execute_result"
    }
   ],
   "source": [
    "np.sum(arr2, axis=0)"
   ]
  },
  {
   "cell_type": "code",
   "execution_count": 369,
   "id": "2872be34-986c-4557-aaf6-a75b6584492e",
   "metadata": {},
   "outputs": [],
   "source": [
    "# 집계는 필수적으로 차원이 줄어들어요!\n",
    "# 집계는 필수적으로 차원이 줄어들어요!\n",
    "# 집계는 필수적으로 차원이 줄어들어요!\n",
    "# 집계는 필수적으로 차원이 줄어들어요!\n",
    "# 집계는 필수적으로 차원이 줄어들어요!\n",
    "# 집계는 필수적으로 차원이 줄어들어요!\n",
    "# 집계는 필수적으로 차원이 줄어들어요!"
   ]
  },
  {
   "cell_type": "code",
   "execution_count": 370,
   "id": "6ec69330-1c36-46a8-a415-da2d1076afad",
   "metadata": {},
   "outputs": [],
   "source": [
    "# 어느 축으로 뭉겔꺼임??"
   ]
  },
  {
   "cell_type": "code",
   "execution_count": 373,
   "id": "b0e6bd4c-90b6-4800-b128-a81fc3d7258b",
   "metadata": {},
   "outputs": [],
   "source": [
    "# [[1층, 1호수], [2층, 2호수]] 라고 생각할때\n",
    "\n",
    "# 집계가 되면\n",
    "\n",
    "# axis = 0 이라고 했을때 ( 층을 합친다 )\n",
    "# 2층 아저씨와 1층 아저씨가 합쳐져서 하나의 층으로 만들어집니다..."
   ]
  },
  {
   "cell_type": "code",
   "execution_count": 376,
   "id": "552f2608-7166-489d-8666-46fc6d192a17",
   "metadata": {},
   "outputs": [
    {
     "data": {
      "text/plain": [
       "(2,)"
      ]
     },
     "execution_count": 376,
     "metadata": {},
     "output_type": "execute_result"
    }
   ],
   "source": [
    "np.sum(arr2, axis=0).shape # 2개의 층만이...남는다 호수따윈 없어진다..."
   ]
  },
  {
   "cell_type": "code",
   "execution_count": 378,
   "id": "6a3596cf-e917-48e7-873d-35fe4cb91ce7",
   "metadata": {},
   "outputs": [
    {
     "data": {
      "text/plain": [
       "(2,)"
      ]
     },
     "execution_count": 378,
     "metadata": {},
     "output_type": "execute_result"
    }
   ],
   "source": [
    "np.sum(arr2, axis=1).shape # 2, 2 에서 뒤에 호수라는 개념이 사라지기 때문에 (2, ) 이렇게 뜹니다..."
   ]
  },
  {
   "cell_type": "code",
   "execution_count": 379,
   "id": "bf1e8112-5bb7-4d78-8bc2-d439f8982f88",
   "metadata": {},
   "outputs": [
    {
     "data": {
      "text/plain": [
       "array([[2, 0, 2],\n",
       "       [0, 1, 0]], dtype=int32)"
      ]
     },
     "execution_count": 379,
     "metadata": {},
     "output_type": "execute_result"
    }
   ],
   "source": [
    "arr3 = np.random.randint(0, 3, size = (2,3))\n",
    "arr3"
   ]
  },
  {
   "cell_type": "code",
   "execution_count": 380,
   "id": "8c25fd2d-5640-490d-84fe-84cd443dea59",
   "metadata": {},
   "outputs": [
    {
     "data": {
      "text/plain": [
       "array([2, 1, 2])"
      ]
     },
     "execution_count": 380,
     "metadata": {},
     "output_type": "execute_result"
    }
   ],
   "source": [
    "np.sum(arr3, axis=0)"
   ]
  },
  {
   "cell_type": "code",
   "execution_count": 381,
   "id": "0e860d78-9fc3-4cee-ac6d-db3541d6c8c3",
   "metadata": {},
   "outputs": [
    {
     "data": {
      "text/plain": [
       "(3,)"
      ]
     },
     "execution_count": 381,
     "metadata": {},
     "output_type": "execute_result"
    }
   ],
   "source": [
    "np.sum(arr3, axis=0).shape"
   ]
  },
  {
   "cell_type": "code",
   "execution_count": 382,
   "id": "dcfb64fa-1f2c-4ca9-98dc-30c1f2841226",
   "metadata": {},
   "outputs": [
    {
     "data": {
      "text/plain": [
       "array([[0, 7, 9],\n",
       "       [1, 4, 4]], dtype=int32)"
      ]
     },
     "execution_count": 382,
     "metadata": {},
     "output_type": "execute_result"
    }
   ],
   "source": [
    "arr4 = np.random.randint(0, 12, size = (2,3))\n",
    "arr4"
   ]
  },
  {
   "cell_type": "markdown",
   "id": "015b90a8-4f76-424c-9f3d-3b090d3ca7bb",
   "metadata": {},
   "source": [
    "- 이거 sum axis 를 축 1이라고 했으면\n",
    "- 대충 값이 [16,9] 가 될것이고\n",
    "- shape 가 (2,) 가 되겠지용"
   ]
  },
  {
   "cell_type": "code",
   "execution_count": 383,
   "id": "d452585e-c15a-4173-98fe-e0d924b5e776",
   "metadata": {},
   "outputs": [
    {
     "data": {
      "text/plain": [
       "array([16,  9])"
      ]
     },
     "execution_count": 383,
     "metadata": {},
     "output_type": "execute_result"
    }
   ],
   "source": [
    "np.sum(arr4 , axis=1)"
   ]
  },
  {
   "cell_type": "code",
   "execution_count": 384,
   "id": "6f92f1ce-c22c-479c-bcca-da38b2892cd2",
   "metadata": {},
   "outputs": [
    {
     "data": {
      "text/plain": [
       "(2,)"
      ]
     },
     "execution_count": 384,
     "metadata": {},
     "output_type": "execute_result"
    }
   ],
   "source": [
    "np.sum(arr4 , axis=1).shape"
   ]
  },
  {
   "cell_type": "markdown",
   "id": "1f248003-6ee2-4bab-8d18-2499baee3a32",
   "metadata": {},
   "source": [
    "### 3차원 배열"
   ]
  },
  {
   "cell_type": "code",
   "execution_count": 414,
   "id": "09d8f5e0-a766-4a68-9a3c-1b7ce95905ae",
   "metadata": {},
   "outputs": [],
   "source": [
    "arr4 = np.arange(1,9).reshape(2,2,2)"
   ]
  },
  {
   "cell_type": "code",
   "execution_count": 415,
   "id": "2955838e-a9c7-459c-9070-0fbd356774b7",
   "metadata": {},
   "outputs": [
    {
     "data": {
      "text/plain": [
       "array([[[1, 2],\n",
       "        [3, 4]],\n",
       "\n",
       "       [[5, 6],\n",
       "        [7, 8]]])"
      ]
     },
     "execution_count": 415,
     "metadata": {},
     "output_type": "execute_result"
    }
   ],
   "source": [
    "arr4"
   ]
  },
  {
   "cell_type": "code",
   "execution_count": 391,
   "id": "898e6fa3-7e0d-449a-b40f-21cc8a91100d",
   "metadata": {},
   "outputs": [
    {
     "data": {
      "text/plain": [
       "array([[ 6,  8],\n",
       "       [10, 12]])"
      ]
     },
     "execution_count": 391,
     "metadata": {},
     "output_type": "execute_result"
    }
   ],
   "source": [
    "# 두 개의 행렬의 동일한 인덱스의 원소를 합한값\n",
    "np.sum(arr4, axis=0)"
   ]
  },
  {
   "cell_type": "code",
   "execution_count": 389,
   "id": "49bdafa4-af52-41f8-a6dd-d48daf344812",
   "metadata": {},
   "outputs": [
    {
     "data": {
      "text/plain": [
       "(2, 2)"
      ]
     },
     "execution_count": 389,
     "metadata": {},
     "output_type": "execute_result"
    }
   ],
   "source": [
    "np.sum(arr4, axis=0).shape "
   ]
  },
  {
   "cell_type": "code",
   "execution_count": 392,
   "id": "4c6dc010-8a4e-4f70-a501-d2e8dc2ea03e",
   "metadata": {},
   "outputs": [
    {
     "data": {
      "text/plain": [
       "array([[ 4,  6],\n",
       "       [12, 14]])"
      ]
     },
     "execution_count": 392,
     "metadata": {},
     "output_type": "execute_result"
    }
   ],
   "source": [
    "# 각 2차원 배열의 열의 합\n",
    "np.sum(arr4, axis=1)"
   ]
  },
  {
   "cell_type": "code",
   "execution_count": 393,
   "id": "f35bc8d5-4cac-4ec9-90ef-25c5a11a06fd",
   "metadata": {
    "scrolled": true
   },
   "outputs": [
    {
     "data": {
      "text/plain": [
       "(2, 2)"
      ]
     },
     "execution_count": 393,
     "metadata": {},
     "output_type": "execute_result"
    }
   ],
   "source": [
    "np.sum(arr4, axis=1).shape"
   ]
  },
  {
   "cell_type": "code",
   "execution_count": 395,
   "id": "08fa0661-d095-4195-b0e6-8039e188e2ff",
   "metadata": {},
   "outputs": [
    {
     "data": {
      "text/plain": [
       "(2, 2)"
      ]
     },
     "execution_count": 395,
     "metadata": {},
     "output_type": "execute_result"
    }
   ],
   "source": [
    "np.sum(arr4, axis=2).shape # (2,2,<2>)  => <> 의 축의 개념이 사라짐 "
   ]
  },
  {
   "cell_type": "code",
   "execution_count": 399,
   "id": "affac1b4-5bde-458c-9f66-b7cbcdf59cc4",
   "metadata": {},
   "outputs": [
    {
     "data": {
      "text/plain": [
       "array([16, 20])"
      ]
     },
     "execution_count": 399,
     "metadata": {},
     "output_type": "execute_result"
    }
   ],
   "source": [
    "np.sum(arr4, axis=(0,1)) # 0 번째 축과 1번째 축!!!! 을이용해서 sum 이 될수도 있다!!!!! "
   ]
  },
  {
   "cell_type": "code",
   "execution_count": 400,
   "id": "c5559da8-d447-4d6b-9914-95cebb8b786d",
   "metadata": {},
   "outputs": [
    {
     "data": {
      "text/plain": [
       "(2,)"
      ]
     },
     "execution_count": 400,
     "metadata": {},
     "output_type": "execute_result"
    }
   ],
   "source": [
    "np.sum(arr4, axis=(0,1)).shape"
   ]
  },
  {
   "cell_type": "code",
   "execution_count": 416,
   "id": "647f6105-7746-41b0-819e-ce81157aaf06",
   "metadata": {},
   "outputs": [],
   "source": [
    "arr5 = np.random.randint(0,3, size = (2,3,4))"
   ]
  },
  {
   "cell_type": "code",
   "execution_count": 417,
   "id": "e3aa6b2d-ad2e-4d6e-aa87-00aba6589494",
   "metadata": {},
   "outputs": [
    {
     "data": {
      "text/plain": [
       "array([[[0, 0, 0, 2],\n",
       "        [0, 2, 1, 1],\n",
       "        [0, 0, 1, 0]],\n",
       "\n",
       "       [[0, 2, 0, 2],\n",
       "        [2, 2, 1, 0],\n",
       "        [0, 1, 1, 0]]], dtype=int32)"
      ]
     },
     "execution_count": 417,
     "metadata": {},
     "output_type": "execute_result"
    }
   ],
   "source": [
    "arr5"
   ]
  },
  {
   "cell_type": "code",
   "execution_count": 403,
   "id": "3aac2d63-e117-4045-94fe-b21027a3c4d0",
   "metadata": {},
   "outputs": [
    {
     "data": {
      "text/plain": [
       "(2, 3, 4)"
      ]
     },
     "execution_count": 403,
     "metadata": {},
     "output_type": "execute_result"
    }
   ],
   "source": [
    "arr5.shape"
   ]
  },
  {
   "cell_type": "markdown",
   "id": "651d4437-6e86-4827-8e31-603301a9101b",
   "metadata": {},
   "source": [
    " 0 번째 axis (<2>, 3, 4) 요개념이 사라지니께~ "
   ]
  },
  {
   "cell_type": "code",
   "execution_count": 418,
   "id": "d250e870-fc24-4162-9df6-e3c955bea07f",
   "metadata": {},
   "outputs": [
    {
     "data": {
      "text/plain": [
       "array([[0, 2, 0, 4],\n",
       "       [2, 4, 2, 1],\n",
       "       [0, 1, 2, 0]])"
      ]
     },
     "execution_count": 418,
     "metadata": {},
     "output_type": "execute_result"
    }
   ],
   "source": [
    "np.sum(arr5, axis=0)"
   ]
  },
  {
   "cell_type": "code",
   "execution_count": 404,
   "id": "92c0f4bd-85fe-42e4-a639-fae3f27dbb2b",
   "metadata": {},
   "outputs": [
    {
     "data": {
      "text/plain": [
       "(3, 4)"
      ]
     },
     "execution_count": 404,
     "metadata": {},
     "output_type": "execute_result"
    }
   ],
   "source": [
    "np.sum(arr5, axis=0).shape"
   ]
  },
  {
   "cell_type": "code",
   "execution_count": 420,
   "id": "e5e77a3e-db51-4f89-85f1-54a4cd58bcd6",
   "metadata": {},
   "outputs": [
    {
     "data": {
      "text/plain": [
       "array([ 7, 11])"
      ]
     },
     "execution_count": 420,
     "metadata": {},
     "output_type": "execute_result"
    }
   ],
   "source": [
    "np.sum(arr5, axis=(1,2))"
   ]
  },
  {
   "cell_type": "code",
   "execution_count": 419,
   "id": "c2c7d862-c5f6-44d5-9f67-d6ee7ede9fad",
   "metadata": {},
   "outputs": [
    {
     "data": {
      "text/plain": [
       "(2,)"
      ]
     },
     "execution_count": 419,
     "metadata": {},
     "output_type": "execute_result"
    }
   ],
   "source": [
    "np.sum(arr5, axis=(1,2)).shape"
   ]
  },
  {
   "cell_type": "code",
   "execution_count": 405,
   "id": "4a1caecb-d2ca-4b87-8774-aef8b19ae4dd",
   "metadata": {},
   "outputs": [
    {
     "data": {
      "text/plain": [
       "(2, 3)"
      ]
     },
     "execution_count": 405,
     "metadata": {},
     "output_type": "execute_result"
    }
   ],
   "source": [
    "np.sum(arr5, axis=2).shape"
   ]
  },
  {
   "cell_type": "code",
   "execution_count": 421,
   "id": "fb5d1811-3479-4a42-895a-cc94f991c870",
   "metadata": {},
   "outputs": [],
   "source": [
    "# 차원을 늘려서 생각해보자~\n",
    "arr6 = np.random.randint(0,2, size = (2,3,4,2))"
   ]
  },
  {
   "cell_type": "code",
   "execution_count": 424,
   "id": "35e519b9-8bfe-4310-92c7-0ffd676c2f6c",
   "metadata": {},
   "outputs": [
    {
     "data": {
      "text/plain": [
       "(2, 3, 4, 2)"
      ]
     },
     "execution_count": 424,
     "metadata": {},
     "output_type": "execute_result"
    }
   ],
   "source": [
    "arr6.shape # 4차원 배열이 ㄴ오죵"
   ]
  },
  {
   "cell_type": "code",
   "execution_count": 422,
   "id": "9a6c657d-2939-416d-ad81-51fe2836c903",
   "metadata": {},
   "outputs": [
    {
     "data": {
      "text/plain": [
       "array([[[[1, 0],\n",
       "         [1, 0],\n",
       "         [1, 1],\n",
       "         [0, 1]],\n",
       "\n",
       "        [[0, 0],\n",
       "         [1, 0],\n",
       "         [1, 0],\n",
       "         [0, 1]],\n",
       "\n",
       "        [[0, 1],\n",
       "         [1, 0],\n",
       "         [1, 0],\n",
       "         [0, 1]]],\n",
       "\n",
       "\n",
       "       [[[1, 0],\n",
       "         [0, 0],\n",
       "         [0, 0],\n",
       "         [0, 0]],\n",
       "\n",
       "        [[1, 1],\n",
       "         [0, 1],\n",
       "         [1, 0],\n",
       "         [1, 0]],\n",
       "\n",
       "        [[0, 0],\n",
       "         [0, 0],\n",
       "         [0, 0],\n",
       "         [0, 1]]]], dtype=int32)"
      ]
     },
     "execution_count": 422,
     "metadata": {},
     "output_type": "execute_result"
    }
   ],
   "source": [
    "arr6"
   ]
  },
  {
   "cell_type": "code",
   "execution_count": 425,
   "id": "0096a1c1-bc18-40da-99d3-282382f1aeee",
   "metadata": {},
   "outputs": [
    {
     "data": {
      "text/plain": [
       "array([[[2, 0],\n",
       "        [1, 0],\n",
       "        [1, 1],\n",
       "        [0, 1]],\n",
       "\n",
       "       [[1, 1],\n",
       "        [1, 1],\n",
       "        [2, 0],\n",
       "        [1, 1]],\n",
       "\n",
       "       [[0, 1],\n",
       "        [1, 0],\n",
       "        [1, 0],\n",
       "        [0, 2]]])"
      ]
     },
     "execution_count": 425,
     "metadata": {},
     "output_type": "execute_result"
    }
   ],
   "source": [
    "np.sum(arr6, axis=0) "
   ]
  },
  {
   "cell_type": "code",
   "execution_count": 427,
   "id": "a449b6e4-64ec-4c79-85d4-c7f016e13567",
   "metadata": {},
   "outputs": [
    {
     "data": {
      "text/plain": [
       "array([[3, 2],\n",
       "       [3, 1],\n",
       "       [4, 1],\n",
       "       [1, 4]])"
      ]
     },
     "execution_count": 427,
     "metadata": {},
     "output_type": "execute_result"
    }
   ],
   "source": [
    "np.sum(arr6, axis=(0,1))"
   ]
  },
  {
   "cell_type": "markdown",
   "id": "869f07db-0c84-417b-9d26-33a35019e1fe",
   "metadata": {},
   "source": [
    "#### 연습문제\n",
    "\n",
    "1. 전체의 최댓값\n",
    "\n",
    "2. 각 행의 합\n",
    "\n",
    "3. 각 행의 최댓값 # 각 행끼리 최댓값 ...\n",
    "\n",
    "4. 각 열의 평균\n",
    "\n",
    "5. 각 열의 최솟값"
   ]
  },
  {
   "cell_type": "code",
   "execution_count": 2,
   "id": "e0c80e85-7167-42c8-8a50-97d52a1ca2f8",
   "metadata": {},
   "outputs": [],
   "source": [
    "x = np.random.random((5,6))"
   ]
  },
  {
   "cell_type": "code",
   "execution_count": 4,
   "id": "0744a078-3656-4b65-91bb-e86cb03ae228",
   "metadata": {},
   "outputs": [
    {
     "data": {
      "text/plain": [
       "array([[0.94259502, 0.77852077, 0.09071808, 0.03099093, 0.54586839,\n",
       "        0.2550863 ],\n",
       "       [0.88716575, 0.55095921, 0.76546542, 0.45753749, 0.6740621 ,\n",
       "        0.47433043],\n",
       "       [0.85661054, 0.62822856, 0.05572276, 0.14213665, 0.44700152,\n",
       "        0.38899373],\n",
       "       [0.40988826, 0.29942401, 0.74673872, 0.86697371, 0.46161476,\n",
       "        0.13014523],\n",
       "       [0.43554413, 0.51556662, 0.96190366, 0.00692975, 0.06045128,\n",
       "        0.48433079]])"
      ]
     },
     "execution_count": 4,
     "metadata": {},
     "output_type": "execute_result"
    }
   ],
   "source": [
    "x"
   ]
  },
  {
   "cell_type": "code",
   "execution_count": 27,
   "id": "9f6b06ea-bf65-4743-8cda-0983f2d6f740",
   "metadata": {},
   "outputs": [
    {
     "data": {
      "text/plain": [
       "np.float64(0.9619036613872695)"
      ]
     },
     "execution_count": 27,
     "metadata": {},
     "output_type": "execute_result"
    }
   ],
   "source": [
    "# 1.\n",
    "np.max(x)"
   ]
  },
  {
   "cell_type": "code",
   "execution_count": 24,
   "id": "06081483-453e-48ea-900a-b66eb9aa28b9",
   "metadata": {},
   "outputs": [
    {
     "data": {
      "text/plain": [
       "(5, 6)"
      ]
     },
     "execution_count": 24,
     "metadata": {},
     "output_type": "execute_result"
    }
   ],
   "source": [
    "x.shape \n",
    "# 행끼리 집계 해버리는거니까 열을 합쳐야함!!!! axis = 1\n",
    "# (5,) 이렇게 나오겠쥬...ㅠ"
   ]
  },
  {
   "cell_type": "code",
   "execution_count": 19,
   "id": "2a242ee7-fe91-4c96-92ff-2da68412c7c5",
   "metadata": {},
   "outputs": [
    {
     "data": {
      "text/plain": [
       "array([2.64377948, 3.8095204 , 2.51869377, 2.91478469, 2.46472623])"
      ]
     },
     "execution_count": 19,
     "metadata": {},
     "output_type": "execute_result"
    }
   ],
   "source": [
    "# 2.\n",
    "np.sum(x, axis=1)"
   ]
  },
  {
   "cell_type": "code",
   "execution_count": 25,
   "id": "cd1f4393-8fb5-423f-8b02-eae697a936aa",
   "metadata": {},
   "outputs": [
    {
     "data": {
      "text/plain": [
       "(5,)"
      ]
     },
     "execution_count": 25,
     "metadata": {},
     "output_type": "execute_result"
    }
   ],
   "source": [
    "np.sum(x, axis=1).shape"
   ]
  },
  {
   "cell_type": "code",
   "execution_count": 20,
   "id": "4046c1f3-0b59-499a-8b53-1c3a76a736f3",
   "metadata": {},
   "outputs": [
    {
     "data": {
      "text/plain": [
       "array([0.94259502, 0.88716575, 0.85661054, 0.86697371, 0.96190366])"
      ]
     },
     "execution_count": 20,
     "metadata": {},
     "output_type": "execute_result"
    }
   ],
   "source": [
    "# 3.\n",
    "np.max(x, axis=1)"
   ]
  },
  {
   "cell_type": "code",
   "execution_count": 21,
   "id": "00092020-65cd-4b6c-b5f2-41175c93299e",
   "metadata": {},
   "outputs": [
    {
     "data": {
      "text/plain": [
       "array([0.70636074, 0.55453983, 0.52410973, 0.3009137 , 0.43779961,\n",
       "       0.3465773 ])"
      ]
     },
     "execution_count": 21,
     "metadata": {},
     "output_type": "execute_result"
    }
   ],
   "source": [
    "# 4.\n",
    "np.mean(x, axis=0)"
   ]
  },
  {
   "cell_type": "code",
   "execution_count": 22,
   "id": "627ceaf2-4cc1-4ebf-ab50-0ed67df244a4",
   "metadata": {},
   "outputs": [
    {
     "data": {
      "text/plain": [
       "array([0.40988826, 0.29942401, 0.05572276, 0.00692975, 0.06045128,\n",
       "       0.13014523])"
      ]
     },
     "execution_count": 22,
     "metadata": {},
     "output_type": "execute_result"
    }
   ],
   "source": [
    "# 5.\n",
    "np.min(x, axis=0)"
   ]
  },
  {
   "cell_type": "code",
   "execution_count": 26,
   "id": "97f14a30-0a86-427a-a5aa-31d3796ccf8d",
   "metadata": {},
   "outputs": [
    {
     "data": {
      "text/plain": [
       "(6,)"
      ]
     },
     "execution_count": 26,
     "metadata": {},
     "output_type": "execute_result"
    }
   ],
   "source": [
    "np.min(x, axis=0).shape"
   ]
  },
  {
   "cell_type": "code",
   "execution_count": 28,
   "id": "47cf07da-dffb-480f-8d46-fea3a30f9cc2",
   "metadata": {},
   "outputs": [],
   "source": [
    "# 문장을 잘 읽어야한다... 잘... 읽어야한다... 잘..."
   ]
  },
  {
   "cell_type": "code",
   "execution_count": 31,
   "id": "9ff42f7b-76f1-42fa-9bd5-582bb77afcab",
   "metadata": {},
   "outputs": [],
   "source": [
    "# 파이썬... 낫 능숙 \n",
    "# 숙지하세요..."
   ]
  },
  {
   "cell_type": "markdown",
   "id": "86b0095a-ec90-4cc0-a179-b25f3c6548cf",
   "metadata": {},
   "source": [
    "1. 각 2차원 배열에서의 최댓값\n",
    "\n",
    "2. 각 2차원 배열에서의 행의 합\n",
    "\n",
    "3. 각 2차원 배열에서의 각 행의 최댓값\n",
    "\n",
    "4. 전체 열의 평균\n",
    "\n",
    "5. 각 2차원 배열에서의 열의 평균\n",
    "\n",
    "6. 각 2차원 배열에서의 각 열의 최솟값"
   ]
  },
  {
   "cell_type": "code",
   "execution_count": 50,
   "id": "c015488c-a3a6-4515-8c17-e983788e21c4",
   "metadata": {},
   "outputs": [
    {
     "data": {
      "text/plain": [
       "array([[[0.59938821, 0.49186906, 0.95836676, 0.92942762, 0.99950924,\n",
       "         0.62017688],\n",
       "        [0.1608043 , 0.05525767, 0.11795142, 0.48645949, 0.50495868,\n",
       "         0.3396713 ],\n",
       "        [0.86325954, 0.62520906, 0.5826992 , 0.735402  , 0.16532537,\n",
       "         0.70776515],\n",
       "        [0.41521452, 0.22764648, 0.64088311, 0.01973315, 0.29980738,\n",
       "         0.52524485],\n",
       "        [0.68336321, 0.10194859, 0.66531204, 0.26455021, 0.51879074,\n",
       "         0.49124016]],\n",
       "\n",
       "       [[0.19953938, 0.16604405, 0.01859563, 0.55127659, 0.91547192,\n",
       "         0.25936799],\n",
       "        [0.61142172, 0.05081308, 0.07124961, 0.54307322, 0.22490152,\n",
       "         0.25263291],\n",
       "        [0.39557664, 0.94070217, 0.63753176, 0.10450512, 0.98633836,\n",
       "         0.62771659],\n",
       "        [0.45403609, 0.62341055, 0.6526566 , 0.06582982, 0.82008577,\n",
       "         0.98411417],\n",
       "        [0.94195425, 0.68770903, 0.95317162, 0.83689849, 0.543124  ,\n",
       "         0.64673776]],\n",
       "\n",
       "       [[0.61073757, 0.68829707, 0.36180414, 0.45305423, 0.76071434,\n",
       "         0.9434648 ],\n",
       "        [0.73263687, 0.28813483, 0.82711326, 0.59001008, 0.92332764,\n",
       "         0.66273621],\n",
       "        [0.76027798, 0.24713799, 0.53839044, 0.5326451 , 0.98550748,\n",
       "         0.93536989],\n",
       "        [0.81690001, 0.84414572, 0.22603557, 0.1110597 , 0.98525835,\n",
       "         0.91370299],\n",
       "        [0.51124306, 0.62940621, 0.55549429, 0.25024571, 0.01195233,\n",
       "         0.32315697]]])"
      ]
     },
     "execution_count": 50,
     "metadata": {},
     "output_type": "execute_result"
    }
   ],
   "source": [
    "data_3d = np.random.random((3,5,6))\n",
    "data_3d"
   ]
  },
  {
   "cell_type": "code",
   "execution_count": 68,
   "id": "b84825c6-e5ab-4412-89d7-d7b3ba93a9f5",
   "metadata": {},
   "outputs": [
    {
     "data": {
      "text/plain": [
       "array([0.99950924, 0.98633836, 0.98550748])"
      ]
     },
     "execution_count": 68,
     "metadata": {},
     "output_type": "execute_result"
    }
   ],
   "source": [
    "# 1. 각 2차원 배열에서의 최댓값\n",
    "np.max(data_3d , axis=(1,2))"
   ]
  },
  {
   "cell_type": "code",
   "execution_count": 69,
   "id": "14615ef5-9693-4234-a364-b59cd84e215b",
   "metadata": {},
   "outputs": [
    {
     "data": {
      "text/plain": [
       "array([[4.59873778, 1.66510286, 3.67966031, 2.12852949, 2.72520495],\n",
       "       [2.11029556, 1.75409206, 3.69237064, 3.60013299, 4.60959513],\n",
       "       [3.81807217, 4.02395889, 3.99932888, 3.89710234, 2.28149857]])"
      ]
     },
     "execution_count": 69,
     "metadata": {},
     "output_type": "execute_result"
    }
   ],
   "source": [
    "# 2.각 2차원 배열에서의 행의 합\n",
    "np.sum(data_3d, axis=2)"
   ]
  },
  {
   "cell_type": "code",
   "execution_count": 64,
   "id": "afb679c9-bb59-45d7-aa11-76e2e6dec913",
   "metadata": {},
   "outputs": [
    {
     "data": {
      "text/plain": [
       "array([[0.99950924, 0.50495868, 0.86325954, 0.64088311, 0.68336321],\n",
       "       [0.91547192, 0.61142172, 0.98633836, 0.98411417, 0.95317162],\n",
       "       [0.9434648 , 0.92332764, 0.98550748, 0.98525835, 0.62940621]])"
      ]
     },
     "execution_count": 64,
     "metadata": {},
     "output_type": "execute_result"
    }
   ],
   "source": [
    "# 3. 각 2차원 배열에서의 각 행의 최댓값\n",
    "np.max(data_3d, axis=2)"
   ]
  },
  {
   "cell_type": "code",
   "execution_count": 61,
   "id": "5666b8d2-e958-4a6d-b099-6a9c764e7c09",
   "metadata": {},
   "outputs": [
    {
     "data": {
      "text/plain": [
       "array([0.58375689, 0.44451544, 0.5204837 , 0.43161137, 0.64300487,\n",
       "       0.61553991])"
      ]
     },
     "execution_count": 61,
     "metadata": {},
     "output_type": "execute_result"
    }
   ],
   "source": [
    "# 4.전체 열의 평균\n",
    "np.mean(data_3d, axis=(0,1))"
   ]
  },
  {
   "cell_type": "code",
   "execution_count": 62,
   "id": "8b48fd73-df64-4050-ad07-8552f08e5b28",
   "metadata": {},
   "outputs": [
    {
     "data": {
      "text/plain": [
       "array([[0.54440596, 0.30038617, 0.59304251, 0.48711449, 0.49767828,\n",
       "        0.53681967],\n",
       "       [0.52050562, 0.49373577, 0.46664104, 0.42031665, 0.69798431,\n",
       "        0.55411388],\n",
       "       [0.6863591 , 0.53942437, 0.50176754, 0.38740297, 0.73335203,\n",
       "        0.75568617]])"
      ]
     },
     "execution_count": 62,
     "metadata": {},
     "output_type": "execute_result"
    }
   ],
   "source": [
    "# 5. 각 2차원 배열에서의 열의 평균\n",
    "np.mean(data_3d, axis=1)"
   ]
  },
  {
   "cell_type": "code",
   "execution_count": 63,
   "id": "d92cdd5f-eb88-42e0-b794-5a5e682b0dc4",
   "metadata": {},
   "outputs": [
    {
     "data": {
      "text/plain": [
       "array([[0.1608043 , 0.05525767, 0.11795142, 0.01973315, 0.16532537,\n",
       "        0.3396713 ],\n",
       "       [0.19953938, 0.05081308, 0.01859563, 0.06582982, 0.22490152,\n",
       "        0.25263291],\n",
       "       [0.51124306, 0.24713799, 0.22603557, 0.1110597 , 0.01195233,\n",
       "        0.32315697]])"
      ]
     },
     "execution_count": 63,
     "metadata": {},
     "output_type": "execute_result"
    }
   ],
   "source": [
    "# 6. 각 2차원 배열에서의 각 열의 최솟값\n",
    "np.min(data_3d, axis=1)"
   ]
  },
  {
   "cell_type": "markdown",
   "id": "01844836-0bb8-444b-bab7-123b5cb8d912",
   "metadata": {},
   "source": [
    "[생각하는 순서]\n",
    "1. 각 2차원 배열에서의 각 열의 최솟값 이라는 글을 읽었을때\n",
    "2. shape 가 3,5,6 일때 6개의 데이터가 5개의 열이 있는 차원인 3개 있음 => 생략\n",
    "3. 열의 최솟값 아 열을 남겨야하는구나\n",
    "4. 행삭제 axis = 1 \n",
    "5. \n",
    "\n",
    "- 예시는 년도별, 월별 데이터 뽑을때 이런거 평균 구할때"
   ]
  },
  {
   "cell_type": "markdown",
   "id": "5d531429-6d7e-4d02-ac3f-85f183853c72",
   "metadata": {},
   "source": [
    "# Inf 와 nan\n",
    "\n",
    "- 넘파이에서는 무한대를 표기하기 위한 np.inf 와 정의할 수 없는 숫자를 나타내는 np.nan 이있음"
   ]
  },
  {
   "cell_type": "code",
   "execution_count": 72,
   "id": "0b166a46-3df9-42b5-bf7f-9323689e76e8",
   "metadata": {},
   "outputs": [
    {
     "data": {
      "text/plain": [
       "1.0"
      ]
     },
     "execution_count": 72,
     "metadata": {},
     "output_type": "execute_result"
    }
   ],
   "source": [
    "1/1"
   ]
  },
  {
   "cell_type": "code",
   "execution_count": 73,
   "id": "1af4fc77-cfb3-4e15-9876-8af216de6b6a",
   "metadata": {},
   "outputs": [
    {
     "ename": "ZeroDivisionError",
     "evalue": "division by zero",
     "output_type": "error",
     "traceback": [
      "\u001b[1;31m---------------------------------------------------------------------------\u001b[0m",
      "\u001b[1;31mZeroDivisionError\u001b[0m                         Traceback (most recent call last)",
      "Cell \u001b[1;32mIn[73], line 1\u001b[0m\n\u001b[1;32m----> 1\u001b[0m \u001b[38;5;241m1\u001b[39m\u001b[38;5;241m/\u001b[39m\u001b[38;5;241m0\u001b[39m\n",
      "\u001b[1;31mZeroDivisionError\u001b[0m: division by zero"
     ]
    }
   ],
   "source": [
    "1/0"
   ]
  },
  {
   "cell_type": "code",
   "execution_count": 74,
   "id": "88278b84-ac5e-47b9-b062-a6cbfc295995",
   "metadata": {},
   "outputs": [],
   "source": [
    "# 넘파이에서는 무한대/값이존재하지않음 에러를 내뱉지 않기위해서"
   ]
  },
  {
   "cell_type": "code",
   "execution_count": 77,
   "id": "3d7b89f6-6853-4834-b545-3446c50a0ceb",
   "metadata": {},
   "outputs": [
    {
     "name": "stderr",
     "output_type": "stream",
     "text": [
      "C:\\Users\\ITSC\\AppData\\Local\\Temp\\ipykernel_1172\\3402227685.py:1: RuntimeWarning: divide by zero encountered in divide\n",
      "  np.array([0,1,-1,0]) /np.array([1,0,-0,0]) # 벡터와 연산//벡터와 연산/벡터와 연산/벡터와 연산\n",
      "C:\\Users\\ITSC\\AppData\\Local\\Temp\\ipykernel_1172\\3402227685.py:1: RuntimeWarning: invalid value encountered in divide\n",
      "  np.array([0,1,-1,0]) /np.array([1,0,-0,0]) # 벡터와 연산//벡터와 연산/벡터와 연산/벡터와 연산\n"
     ]
    },
    {
     "data": {
      "text/plain": [
       "array([  0.,  inf, -inf,  nan])"
      ]
     },
     "execution_count": 77,
     "metadata": {},
     "output_type": "execute_result"
    }
   ],
   "source": [
    "np.array([0,1,-1,0]) /np.array([1,0,-0,0]) # 벡터와 연산//벡터와 연산/벡터와 연산/벡터와 연산"
   ]
  },
  {
   "cell_type": "code",
   "execution_count": 78,
   "id": "b9ce9d7a-87a6-4607-9c0b-63154d64187c",
   "metadata": {},
   "outputs": [],
   "source": [
    "# 모든 Nan 은 같은것으로 취급함"
   ]
  },
  {
   "cell_type": "code",
   "execution_count": null,
   "id": "f8e5d2ae-d692-4f3f-acf3-24cebb2cd5ca",
   "metadata": {},
   "outputs": [],
   "source": []
  },
  {
   "cell_type": "code",
   "execution_count": null,
   "id": "2c277ac3-fb49-4174-be07-812286586791",
   "metadata": {},
   "outputs": [],
   "source": []
  }
 ],
 "metadata": {
  "kernelspec": {
   "display_name": "Python 3 (ipykernel)",
   "language": "python",
   "name": "python3"
  },
  "language_info": {
   "codemirror_mode": {
    "name": "ipython",
    "version": 3
   },
   "file_extension": ".py",
   "mimetype": "text/x-python",
   "name": "python",
   "nbconvert_exporter": "python",
   "pygments_lexer": "ipython3",
   "version": "3.13.5"
  }
 },
 "nbformat": 4,
 "nbformat_minor": 5
}
