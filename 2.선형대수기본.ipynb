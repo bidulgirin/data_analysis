{
 "cells": [
  {
   "cell_type": "code",
   "execution_count": 1,
   "id": "53bab223-a01b-4198-ad36-7f06bb9281c0",
   "metadata": {},
   "outputs": [],
   "source": [
    "import numpy as np"
   ]
  },
  {
   "cell_type": "code",
   "execution_count": 2,
   "id": "21b412fd-349f-4226-8ab8-f496ea53191b",
   "metadata": {},
   "outputs": [],
   "source": [
    "# 논문을 읽어야한다...?"
   ]
  },
  {
   "cell_type": "markdown",
   "id": "df29fbf7-3e01-4446-b197-981a85a44a68",
   "metadata": {},
   "source": [
    "# 스칼라와 벡터\n",
    "\n",
    "- 벡터와 행렬은 특정 텐서(tensor) 를 부르는 이름\n",
    "\n",
    "- 텐서의 이름을 부여하는 원칙은 차원인 축 (axis)을 기준으로 지정\n",
    "\n",
    "    - 텐서가 0 차원인 경우(축이 없는경우) : 스칼라\n",
    "    - 1차원인 하나의 축을 가진 경우: 벡터\n",
    "    - 2차원인 2개의 축을 가진경우 : 행렬\n",
    "    - 3차원인 3개의 축을 가진 경우 : 큐브 또는 3차원 텐서\n",
    "    - 더 차원이 높은 경우는 차원을 기준으로 n차원 텐서라고 부름"
   ]
  },
  {
   "cell_type": "markdown",
   "id": "6ca156f4-0377-4403-b175-09a3da049f08",
   "metadata": {},
   "source": [
    "## 스칼라\n",
    "\n",
    "- 0 차원 배열\n",
    "- 크기를 표현\n",
    "- 가장 기본적인 값\n",
    "- 수학에서 배운 정수나 실수는 하나의 물리량인 크기를 표현하는데, 이 값을 스칼라라고 함"
   ]
  },
  {
   "cell_type": "code",
   "execution_count": 3,
   "id": "4fe7b8d9-8d74-4c10-89c3-5f4fa10449fe",
   "metadata": {},
   "outputs": [],
   "source": [
    "scalar_arr = np.array(11)"
   ]
  },
  {
   "cell_type": "code",
   "execution_count": 6,
   "id": "c8765043-464e-4be3-a13c-723b7e492569",
   "metadata": {},
   "outputs": [
    {
     "data": {
      "text/plain": [
       "array(11)"
      ]
     },
     "execution_count": 6,
     "metadata": {},
     "output_type": "execute_result"
    }
   ],
   "source": [
    "scalar_arr # 대괄호가 없쥬?"
   ]
  },
  {
   "cell_type": "code",
   "execution_count": 7,
   "id": "4c54207d-6dd6-4990-bc46-ced8c410b7fc",
   "metadata": {},
   "outputs": [],
   "source": [
    "# array 에서 스칼라는 대괄호 없이 숫자만 표시\n",
    "# 대괄호 는 벡터부터 사용"
   ]
  },
  {
   "cell_type": "code",
   "execution_count": 8,
   "id": "32be9da9-8cab-4248-9fdf-c4e1a9514f4a",
   "metadata": {},
   "outputs": [
    {
     "data": {
      "text/plain": [
       "0"
      ]
     },
     "execution_count": 8,
     "metadata": {},
     "output_type": "execute_result"
    }
   ],
   "source": [
    "# 스칼라는 0차원\n",
    "scalar_arr.ndim"
   ]
  },
  {
   "cell_type": "code",
   "execution_count": 11,
   "id": "05582e81-a785-48bc-9803-89bf49d10120",
   "metadata": {},
   "outputs": [
    {
     "data": {
      "text/plain": [
       "()"
      ]
     },
     "execution_count": 11,
     "metadata": {},
     "output_type": "execute_result"
    }
   ],
   "source": [
    "# 축이 없어서! 안나온다!!!!!! 빈 튜플\n",
    "scalar_arr.shape"
   ]
  },
  {
   "cell_type": "code",
   "execution_count": 12,
   "id": "25a6e95e-2748-4e4f-964c-f16194a97fbb",
   "metadata": {},
   "outputs": [
    {
     "data": {
      "text/plain": [
       "dtype('int64')"
      ]
     },
     "execution_count": 12,
     "metadata": {},
     "output_type": "execute_result"
    }
   ],
   "source": [
    "# array로 스칼라를 만들어도 dtype을 가짐\n",
    "scalar_arr.dtype"
   ]
  },
  {
   "cell_type": "markdown",
   "id": "dc04bc80-eccc-4c22-8ed5-e4b9090e673d",
   "metadata": {},
   "source": [
    "## 벡터\n",
    "\n",
    "- 1차원 배열"
   ]
  },
  {
   "cell_type": "code",
   "execution_count": 13,
   "id": "caad693b-392b-45ec-a520-10ceb5179533",
   "metadata": {},
   "outputs": [],
   "source": [
    "vector = np.array([24]) # 화장실에 1명이 서있는것을 생각해라..."
   ]
  },
  {
   "cell_type": "code",
   "execution_count": 14,
   "id": "36412b18-a05a-4b69-b784-ae11c7653beb",
   "metadata": {},
   "outputs": [
    {
     "data": {
      "text/plain": [
       "array([24])"
      ]
     },
     "execution_count": 14,
     "metadata": {},
     "output_type": "execute_result"
    }
   ],
   "source": [
    "vector"
   ]
  },
  {
   "cell_type": "code",
   "execution_count": 15,
   "id": "226b8eba-2625-4d66-ba42-cd1ee8afea64",
   "metadata": {},
   "outputs": [
    {
     "data": {
      "text/plain": [
       "dtype('int64')"
      ]
     },
     "execution_count": 15,
     "metadata": {},
     "output_type": "execute_result"
    }
   ],
   "source": [
    "vector.dtype"
   ]
  },
  {
   "cell_type": "code",
   "execution_count": 16,
   "id": "7675e0e3-fc9f-43e9-bd33-1e85fd96dcc7",
   "metadata": {},
   "outputs": [
    {
     "data": {
      "text/plain": [
       "numpy.ndarray"
      ]
     },
     "execution_count": 16,
     "metadata": {},
     "output_type": "execute_result"
    }
   ],
   "source": [
    "type(vector)"
   ]
  },
  {
   "cell_type": "code",
   "execution_count": 21,
   "id": "96dcad82-dfca-4980-a3ba-f1e4d0bbec83",
   "metadata": {},
   "outputs": [
    {
     "data": {
      "text/plain": [
       "1"
      ]
     },
     "execution_count": 21,
     "metadata": {},
     "output_type": "execute_result"
    }
   ],
   "source": [
    "# 1차원 배열\n",
    "vector.ndim"
   ]
  },
  {
   "cell_type": "code",
   "execution_count": 22,
   "id": "0a95b3a7-597f-4ffd-b208-13680245441f",
   "metadata": {},
   "outputs": [
    {
     "data": {
      "text/plain": [
       "(1,)"
      ]
     },
     "execution_count": 22,
     "metadata": {},
     "output_type": "execute_result"
    }
   ],
   "source": [
    "vector.shape"
   ]
  },
  {
   "cell_type": "code",
   "execution_count": 23,
   "id": "a7296034-d205-42c7-89a4-a813d8d9778d",
   "metadata": {},
   "outputs": [],
   "source": [
    "# () 안에 튜플을 표현하기 위해서는 , 로 표현한다..."
   ]
  },
  {
   "cell_type": "markdown",
   "id": "c4b4c95c-dbfb-4bed-a9f4-3f40dbd19539",
   "metadata": {},
   "source": [
    "## 배열 생성 함수"
   ]
  },
  {
   "cell_type": "markdown",
   "id": "a60d468e-821a-46a6-b7db-adb655426942",
   "metadata": {},
   "source": [
    "### zeros\n",
    "\n",
    "- 크기가 정해져 있고 모든 값이 0 인 배열 생성\n",
    "\n",
    "- 인수로는 배열의 크기를 전달"
   ]
  },
  {
   "cell_type": "code",
   "execution_count": 25,
   "id": "8aea3a3d-2ccd-4d5c-a6b6-90dc866f1a63",
   "metadata": {},
   "outputs": [],
   "source": [
    "# 0 으로 이루어진 배열이 있어야 계산하는데있어서 기준값을 정할수있다!!!\n",
    "# 초기값 만들때"
   ]
  },
  {
   "cell_type": "code",
   "execution_count": 27,
   "id": "b02ff5b7-00f8-49c8-a702-d7b601df36db",
   "metadata": {},
   "outputs": [],
   "source": [
    "# 1차원 배열\n",
    "zero_arr = np.zeros(5)"
   ]
  },
  {
   "cell_type": "code",
   "execution_count": 28,
   "id": "51797d48-257a-4df9-b2d9-0d721d0bba1d",
   "metadata": {},
   "outputs": [
    {
     "data": {
      "text/plain": [
       "array([0., 0., 0., 0., 0.])"
      ]
     },
     "execution_count": 28,
     "metadata": {},
     "output_type": "execute_result"
    }
   ],
   "source": [
    "zero_arr"
   ]
  },
  {
   "cell_type": "code",
   "execution_count": 29,
   "id": "53664930-c652-41d2-b415-9bd09dfeeadd",
   "metadata": {},
   "outputs": [
    {
     "data": {
      "text/plain": [
       "dtype('float64')"
      ]
     },
     "execution_count": 29,
     "metadata": {},
     "output_type": "execute_result"
    }
   ],
   "source": [
    "zero_arr.dtype"
   ]
  },
  {
   "cell_type": "code",
   "execution_count": 30,
   "id": "b21cec01-9a24-488f-a154-484aa104c00d",
   "metadata": {},
   "outputs": [],
   "source": [
    "# 2차원 배열\n",
    "zero_arr2 = np.zeros((2,3))"
   ]
  },
  {
   "cell_type": "code",
   "execution_count": 31,
   "id": "b7d607b5-4544-475b-adb8-35267121c02d",
   "metadata": {},
   "outputs": [
    {
     "data": {
      "text/plain": [
       "array([[0., 0., 0.],\n",
       "       [0., 0., 0.]])"
      ]
     },
     "execution_count": 31,
     "metadata": {},
     "output_type": "execute_result"
    }
   ],
   "source": [
    "zero_arr2"
   ]
  },
  {
   "cell_type": "markdown",
   "id": "d2918bbe-b274-4af6-8bc3-d619476a0f3d",
   "metadata": {},
   "source": [
    "- dtype 인수를 명시하면 해당 자료형 원소 배열을 생성"
   ]
  },
  {
   "cell_type": "code",
   "execution_count": 35,
   "id": "6f796fd9-a82b-4dc1-a6b9-bb6be2d932d3",
   "metadata": {},
   "outputs": [],
   "source": [
    "zero_arr3 = np.zeros((2,3,4), dtype= int)"
   ]
  },
  {
   "cell_type": "code",
   "execution_count": 36,
   "id": "f7864187-cfe5-4515-80b1-f9612a480908",
   "metadata": {},
   "outputs": [
    {
     "data": {
      "text/plain": [
       "array([[[0, 0, 0, 0],\n",
       "        [0, 0, 0, 0],\n",
       "        [0, 0, 0, 0]],\n",
       "\n",
       "       [[0, 0, 0, 0],\n",
       "        [0, 0, 0, 0],\n",
       "        [0, 0, 0, 0]]])"
      ]
     },
     "execution_count": 36,
     "metadata": {},
     "output_type": "execute_result"
    }
   ],
   "source": [
    "zero_arr3"
   ]
  },
  {
   "cell_type": "markdown",
   "id": "b32d6a47-0783-4e0a-9c77-cc1d70bc0ce9",
   "metadata": {},
   "source": [
    "### ones\n",
    "\n",
    "- 모든 값이 1인 배열 생성\n",
    "- 주로 곱셉연산때 초기값으로 설정할때 씀"
   ]
  },
  {
   "cell_type": "code",
   "execution_count": 44,
   "id": "cc705d4f-2cad-4566-ac84-ea9ed592636b",
   "metadata": {},
   "outputs": [],
   "source": [
    "one_arr = np.ones((2,3,4), dtype = int)"
   ]
  },
  {
   "cell_type": "code",
   "execution_count": 45,
   "id": "5f61daa5-275b-4d5e-b336-b0aa2bc5dbdc",
   "metadata": {},
   "outputs": [
    {
     "data": {
      "text/plain": [
       "array([[[1, 1, 1, 1],\n",
       "        [1, 1, 1, 1],\n",
       "        [1, 1, 1, 1]],\n",
       "\n",
       "       [[1, 1, 1, 1],\n",
       "        [1, 1, 1, 1],\n",
       "        [1, 1, 1, 1]]])"
      ]
     },
     "execution_count": 45,
     "metadata": {},
     "output_type": "execute_result"
    }
   ],
   "source": [
    "one_arr"
   ]
  },
  {
   "cell_type": "code",
   "execution_count": 46,
   "id": "aab758b3-48f5-4221-a13a-53f8f6e6ad93",
   "metadata": {},
   "outputs": [],
   "source": [
    "# 필요할때 꺼내쓸 수 있게 좀 외워둬라!"
   ]
  },
  {
   "cell_type": "markdown",
   "id": "34667fcb-6afe-496f-a8a7-224f76419977",
   "metadata": {},
   "source": [
    "### zeros_like, ones_like\n",
    "\n",
    "- 다른 배열과 같은 크기의 배열을 생성"
   ]
  },
  {
   "cell_type": "code",
   "execution_count": 47,
   "id": "f8d1c369-845d-4046-9156-c88bd27fda2c",
   "metadata": {},
   "outputs": [
    {
     "data": {
      "text/plain": [
       "array([[[0, 0, 0, 0],\n",
       "        [0, 0, 0, 0],\n",
       "        [0, 0, 0, 0]],\n",
       "\n",
       "       [[0, 0, 0, 0],\n",
       "        [0, 0, 0, 0],\n",
       "        [0, 0, 0, 0]]])"
      ]
     },
     "execution_count": 47,
     "metadata": {},
     "output_type": "execute_result"
    }
   ],
   "source": [
    "zero_arr4 = np.zeros_like(one_arr)\n",
    "\n",
    "zero_arr4"
   ]
  },
  {
   "cell_type": "code",
   "execution_count": 50,
   "id": "3b7c6548-e1a8-4eb9-bde9-e177872fe217",
   "metadata": {},
   "outputs": [
    {
     "data": {
      "text/plain": [
       "array([[[0., 0., 0., 0.],\n",
       "        [0., 0., 0., 0.],\n",
       "        [0., 0., 0., 0.]],\n",
       "\n",
       "       [[0., 0., 0., 0.],\n",
       "        [0., 0., 0., 0.],\n",
       "        [0., 0., 0., 0.]]])"
      ]
     },
     "execution_count": 50,
     "metadata": {},
     "output_type": "execute_result"
    }
   ],
   "source": [
    "np.zeros_like(zero_arr2) # type 도 같이 ..."
   ]
  },
  {
   "cell_type": "code",
   "execution_count": 51,
   "id": "df18783c-a3e9-49a6-b4df-ed39b75f9b1a",
   "metadata": {},
   "outputs": [],
   "source": [
    "one_arr2 = np.ones_like(zero_arr3)"
   ]
  },
  {
   "cell_type": "code",
   "execution_count": 52,
   "id": "dde90c4d-b8fe-4358-b3fe-b3a2751d9601",
   "metadata": {},
   "outputs": [
    {
     "data": {
      "text/plain": [
       "array([[[1, 1, 1, 1],\n",
       "        [1, 1, 1, 1],\n",
       "        [1, 1, 1, 1]],\n",
       "\n",
       "       [[1, 1, 1, 1],\n",
       "        [1, 1, 1, 1],\n",
       "        [1, 1, 1, 1]]])"
      ]
     },
     "execution_count": 52,
     "metadata": {},
     "output_type": "execute_result"
    }
   ],
   "source": [
    "one_arr2"
   ]
  },
  {
   "cell_type": "code",
   "execution_count": 53,
   "id": "180be524-aab7-457f-a007-ae2a0dd1c6f2",
   "metadata": {},
   "outputs": [],
   "source": [
    "one_arr2_1 = np.ones_like(zero_arr2, dtype= float)"
   ]
  },
  {
   "cell_type": "code",
   "execution_count": 54,
   "id": "e9c6bb11-2e28-43b5-b3ea-0dbf032cb8ef",
   "metadata": {},
   "outputs": [
    {
     "data": {
      "text/plain": [
       "array([[[1., 1., 1., 1.],\n",
       "        [1., 1., 1., 1.],\n",
       "        [1., 1., 1., 1.]],\n",
       "\n",
       "       [[1., 1., 1., 1.],\n",
       "        [1., 1., 1., 1.],\n",
       "        [1., 1., 1., 1.]]])"
      ]
     },
     "execution_count": 54,
     "metadata": {},
     "output_type": "execute_result"
    }
   ],
   "source": [
    "one_arr2_1"
   ]
  },
  {
   "cell_type": "markdown",
   "id": "33e107d9-3cf1-4ff6-96c8-8f0cb95129bf",
   "metadata": {},
   "source": [
    "### arange\n",
    "\n",
    "- 파이썬의 range 와 유사한 함수\n",
    "    - range 와 같이 시작점,종료점, 증감값을 인자로 전달\n",
    "    - 종료점은 필수"
   ]
  },
  {
   "cell_type": "code",
   "execution_count": 55,
   "id": "8b73a4a4-1e89-4c8e-8684-e10d02bd38f1",
   "metadata": {},
   "outputs": [],
   "source": [
    "vector = np.arange(10)"
   ]
  },
  {
   "cell_type": "code",
   "execution_count": 56,
   "id": "0b9c17ae-315d-49fa-9253-00dc3423b9e6",
   "metadata": {},
   "outputs": [
    {
     "data": {
      "text/plain": [
       "array([0, 1, 2, 3, 4, 5, 6, 7, 8, 9])"
      ]
     },
     "execution_count": 56,
     "metadata": {},
     "output_type": "execute_result"
    }
   ],
   "source": [
    "vector"
   ]
  },
  {
   "cell_type": "code",
   "execution_count": 57,
   "id": "2b0e94a9-86be-44c0-ae24-3cc6146d156c",
   "metadata": {},
   "outputs": [
    {
     "data": {
      "text/plain": [
       "dtype('int64')"
      ]
     },
     "execution_count": 57,
     "metadata": {},
     "output_type": "execute_result"
    }
   ],
   "source": [
    "vector.dtype"
   ]
  },
  {
   "cell_type": "markdown",
   "id": "edf90a24-7b6c-4ed7-9225-969d286c3703",
   "metadata": {},
   "source": [
    "##### 이거 왜 쓰냐??\n",
    "- range 는 실수형 못드감 ㅇㅇ"
   ]
  },
  {
   "cell_type": "code",
   "execution_count": 61,
   "id": "d2b1b766-3c4f-449e-b242-ffa25de0b41c",
   "metadata": {},
   "outputs": [],
   "source": [
    "vector1 = np.arange(10.5, 20.5, 2)"
   ]
  },
  {
   "cell_type": "code",
   "execution_count": 62,
   "id": "6cc71702-91cd-4831-948e-1c8930a775a4",
   "metadata": {},
   "outputs": [
    {
     "data": {
      "text/plain": [
       "array([10.5, 12.5, 14.5, 16.5, 18.5])"
      ]
     },
     "execution_count": 62,
     "metadata": {},
     "output_type": "execute_result"
    }
   ],
   "source": [
    "vector1"
   ]
  },
  {
   "cell_type": "code",
   "execution_count": 65,
   "id": "d0440fc9-1543-482b-8177-c2a71dae1f24",
   "metadata": {},
   "outputs": [
    {
     "data": {
      "text/plain": [
       "dtype('float64')"
      ]
     },
     "execution_count": 65,
     "metadata": {},
     "output_type": "execute_result"
    }
   ],
   "source": [
    "vector1.dtype"
   ]
  },
  {
   "cell_type": "code",
   "execution_count": 66,
   "id": "deddc4f2-d8e2-47b4-a434-c58232ed5cae",
   "metadata": {},
   "outputs": [
    {
     "data": {
      "text/plain": [
       "5"
      ]
     },
     "execution_count": 66,
     "metadata": {},
     "output_type": "execute_result"
    }
   ],
   "source": [
    "# 원소의 개수\n",
    "\n",
    "vector1.size"
   ]
  },
  {
   "cell_type": "code",
   "execution_count": 68,
   "id": "c2aa8ea6-1ee6-470a-8530-1c39670067b7",
   "metadata": {},
   "outputs": [],
   "source": [
    "# 1차원 배열을 생성하면서 바로 2차원 배열로 형상변경\n",
    "\n",
    "vector2 = np.arange(60)"
   ]
  },
  {
   "cell_type": "code",
   "execution_count": 69,
   "id": "55a28ff6-f974-406d-9eeb-eb5755b76407",
   "metadata": {},
   "outputs": [
    {
     "data": {
      "text/plain": [
       "array([ 0,  1,  2,  3,  4,  5,  6,  7,  8,  9, 10, 11, 12, 13, 14, 15, 16,\n",
       "       17, 18, 19, 20, 21, 22, 23, 24, 25, 26, 27, 28, 29, 30, 31, 32, 33,\n",
       "       34, 35, 36, 37, 38, 39, 40, 41, 42, 43, 44, 45, 46, 47, 48, 49, 50,\n",
       "       51, 52, 53, 54, 55, 56, 57, 58, 59])"
      ]
     },
     "execution_count": 69,
     "metadata": {},
     "output_type": "execute_result"
    }
   ],
   "source": [
    "vector2"
   ]
  },
  {
   "cell_type": "code",
   "execution_count": 72,
   "id": "9e916326-bed6-4610-98a5-34a75bba878a",
   "metadata": {},
   "outputs": [],
   "source": [
    "vector2_reshape = vector2.reshape(10,6)"
   ]
  },
  {
   "cell_type": "code",
   "execution_count": 73,
   "id": "c1410168-2299-495e-98ac-4a987e55220a",
   "metadata": {},
   "outputs": [
    {
     "data": {
      "text/plain": [
       "(10, 6)"
      ]
     },
     "execution_count": 73,
     "metadata": {},
     "output_type": "execute_result"
    }
   ],
   "source": [
    "vector2_reshape.shape"
   ]
  },
  {
   "cell_type": "code",
   "execution_count": 74,
   "id": "a85e0f02-b1d1-477f-88b7-2e0afe66afbe",
   "metadata": {},
   "outputs": [],
   "source": [
    "vector2_reshape2 = vector2.reshape(-1,3,10)"
   ]
  },
  {
   "cell_type": "code",
   "execution_count": 75,
   "id": "558fbc59-4c90-4d39-b086-da1aed4d6a06",
   "metadata": {},
   "outputs": [
    {
     "data": {
      "text/plain": [
       "array([[[ 0,  1,  2,  3,  4,  5,  6,  7,  8,  9],\n",
       "        [10, 11, 12, 13, 14, 15, 16, 17, 18, 19],\n",
       "        [20, 21, 22, 23, 24, 25, 26, 27, 28, 29]],\n",
       "\n",
       "       [[30, 31, 32, 33, 34, 35, 36, 37, 38, 39],\n",
       "        [40, 41, 42, 43, 44, 45, 46, 47, 48, 49],\n",
       "        [50, 51, 52, 53, 54, 55, 56, 57, 58, 59]]])"
      ]
     },
     "execution_count": 75,
     "metadata": {},
     "output_type": "execute_result"
    }
   ],
   "source": [
    "vector2_reshape2"
   ]
  },
  {
   "cell_type": "code",
   "execution_count": 76,
   "id": "5b850764-a78c-4b23-9cdb-9915e4ea9fcb",
   "metadata": {},
   "outputs": [
    {
     "data": {
      "text/plain": [
       "(2, 3, 10)"
      ]
     },
     "execution_count": 76,
     "metadata": {},
     "output_type": "execute_result"
    }
   ],
   "source": [
    "vector2_reshape2.shape"
   ]
  },
  {
   "cell_type": "markdown",
   "id": "6a3d6f35-68fa-4750-805b-61cd69baea19",
   "metadata": {},
   "source": [
    "### linspace\n",
    "\n",
    "- arange와의 차이점\n",
    "- 종료점도 포함해서 원소를 생성\n",
    "- 세번째 인자로 간격 대신 원소의 개수를 전달\n",
    "- 초기값은 50\n",
    "- 기본으로 실수를 가진 원소를 만듦"
   ]
  },
  {
   "cell_type": "code",
   "execution_count": 84,
   "id": "34fbf29b-030e-45bf-b091-5510a673b050",
   "metadata": {},
   "outputs": [],
   "source": [
    "space_arr =np.linspace(1,10,10) # 1 부터 10까지의 수를 10개로 표현"
   ]
  },
  {
   "cell_type": "code",
   "execution_count": 85,
   "id": "df654cc4-0fa6-4ed8-8bf0-69f348990777",
   "metadata": {},
   "outputs": [
    {
     "data": {
      "text/plain": [
       "array([ 1.,  2.,  3.,  4.,  5.,  6.,  7.,  8.,  9., 10.])"
      ]
     },
     "execution_count": 85,
     "metadata": {},
     "output_type": "execute_result"
    }
   ],
   "source": [
    "space_arr"
   ]
  },
  {
   "cell_type": "code",
   "execution_count": 96,
   "id": "0b63a2dc-e32f-41a9-8694-313bdf0d7e95",
   "metadata": {},
   "outputs": [],
   "source": [
    "# 증분을 표시할수도있다\n",
    "# 값의 간격을 표시하는 증분을 학인 할수있음\n",
    "lin2 = np.linspace(1,2,10, retstep = True) # 증분이 배열의 [1] 에 출력된다"
   ]
  },
  {
   "cell_type": "code",
   "execution_count": 97,
   "id": "d5f2b47a-af70-41ec-8795-8cb51fa7d4b4",
   "metadata": {},
   "outputs": [
    {
     "data": {
      "text/plain": [
       "(array([1.        , 1.11111111, 1.22222222, 1.33333333, 1.44444444,\n",
       "        1.55555556, 1.66666667, 1.77777778, 1.88888889, 2.        ]),\n",
       " np.float64(0.1111111111111111))"
      ]
     },
     "execution_count": 97,
     "metadata": {},
     "output_type": "execute_result"
    }
   ],
   "source": [
    "lin2"
   ]
  },
  {
   "cell_type": "code",
   "execution_count": 98,
   "id": "b643b24d-0889-40c6-9110-8ca511c2ae9b",
   "metadata": {},
   "outputs": [
    {
     "data": {
      "text/plain": [
       "array([1.        , 1.11111111, 1.22222222, 1.33333333, 1.44444444,\n",
       "       1.55555556, 1.66666667, 1.77777778, 1.88888889, 2.        ])"
      ]
     },
     "execution_count": 98,
     "metadata": {},
     "output_type": "execute_result"
    }
   ],
   "source": [
    "lin2[0] # 배열을 조작하고 싶다면 이렇게 들어가야한다!!!"
   ]
  },
  {
   "cell_type": "code",
   "execution_count": 99,
   "id": "304c1e31-f5c9-463e-87d4-c5064919f1c6",
   "metadata": {},
   "outputs": [],
   "source": [
    "# 종료값을 제외하기 (endpoint)\n",
    "lin3 = np.linspace(1,10,10, endpoint = False, retstep = True)"
   ]
  },
  {
   "cell_type": "code",
   "execution_count": 100,
   "id": "c4aca664-9c96-4cd1-8e2a-40e2c0d6c228",
   "metadata": {},
   "outputs": [
    {
     "data": {
      "text/plain": [
       "(array([1. , 1.9, 2.8, 3.7, 4.6, 5.5, 6.4, 7.3, 8.2, 9.1]), np.float64(0.9))"
      ]
     },
     "execution_count": 100,
     "metadata": {},
     "output_type": "execute_result"
    }
   ],
   "source": [
    "lin3"
   ]
  },
  {
   "cell_type": "code",
   "execution_count": 101,
   "id": "846a4e30-ab07-438e-bbf3-4423da485f40",
   "metadata": {},
   "outputs": [],
   "source": [
    "# 우매함의 봉오리의 극점일때 남의 코드를 본다..."
   ]
  },
  {
   "cell_type": "markdown",
   "id": "f882c7c2-e948-455b-9e8f-3dbd09be90b0",
   "metadata": {},
   "source": [
    "## 벡터의 크기 및 단위 벡터 구하기\n",
    "\n",
    "- 선형 대수의 벡터는 크기와 방향을 가짐\n",
    "\n",
    "- 벡터의 크기는 노름 이라고 부름\n",
    "\n",
    "- 벡터는 평면 좌표의 점을 표시하듯이 2개의 원소를 가진 것을 대표적으로 사용\n",
    "\n",
    "- 벡터의 크기는 피타고라스의 정리를 사용"
   ]
  },
  {
   "cell_type": "markdown",
   "id": "f657ef0f-776d-4a29-b3f9-b31428479345",
   "metadata": {},
   "source": [
    "### 벡터의 크기 계산"
   ]
  },
  {
   "cell_type": "code",
   "execution_count": 102,
   "id": "950438f2-9542-4f8b-bc5f-c36af039833f",
   "metadata": {},
   "outputs": [],
   "source": [
    "# 두 개의 원소를 가지는 1차원 배열 생성\n",
    "\n",
    "arr = np.arange(3,5)"
   ]
  },
  {
   "cell_type": "code",
   "execution_count": 103,
   "id": "bb99b37c-a22a-4667-a034-e150cfaca33a",
   "metadata": {},
   "outputs": [
    {
     "data": {
      "text/plain": [
       "array([3, 4])"
      ]
     },
     "execution_count": 103,
     "metadata": {},
     "output_type": "execute_result"
    }
   ],
   "source": [
    "arr"
   ]
  },
  {
   "cell_type": "code",
   "execution_count": 105,
   "id": "c74678f1-1970-47d8-9bfc-9fa0d9fd5186",
   "metadata": {},
   "outputs": [],
   "source": [
    "# 벡터의 크기를 구하기 위해 각 원소를 제곱하여 합산한 후 제곱근 계산\n",
    "v_p = np.power(arr,2)"
   ]
  },
  {
   "cell_type": "code",
   "execution_count": 106,
   "id": "a7d8b94e-0007-4cd7-9cd7-3159ba676304",
   "metadata": {},
   "outputs": [
    {
     "data": {
      "text/plain": [
       "array([ 9, 16])"
      ]
     },
     "execution_count": 106,
     "metadata": {},
     "output_type": "execute_result"
    }
   ],
   "source": [
    "v_p"
   ]
  },
  {
   "cell_type": "code",
   "execution_count": 117,
   "id": "ba4fc796-b1f0-4fed-9746-238cbcaefe3a",
   "metadata": {},
   "outputs": [
    {
     "data": {
      "text/plain": [
       "np.float64(5.0)"
      ]
     },
     "execution_count": 117,
     "metadata": {},
     "output_type": "execute_result"
    }
   ],
   "source": [
    "np.sqrt(sum(v_p)) # squre root"
   ]
  },
  {
   "cell_type": "code",
   "execution_count": 118,
   "id": "03082b2c-3755-4976-9ae7-1390f269535e",
   "metadata": {},
   "outputs": [
    {
     "data": {
      "text/plain": [
       "np.float64(5.0)"
      ]
     },
     "execution_count": 118,
     "metadata": {},
     "output_type": "execute_result"
    }
   ],
   "source": [
    "# 피타고라스 정리를 구하는 hypot 함수를 사용가능\n",
    "np.hypot(arr[0], arr[1]) "
   ]
  },
  {
   "cell_type": "code",
   "execution_count": 119,
   "id": "49c36d23-e6e2-4d80-b7a5-05fa03f8f812",
   "metadata": {},
   "outputs": [
    {
     "data": {
      "text/plain": [
       "np.float64(5.0)"
      ]
     },
     "execution_count": 119,
     "metadata": {},
     "output_type": "execute_result"
    }
   ],
   "source": [
    "# 더 많은 원소를 가진 벡터를 가지고 크기를 구할때는 np.linalg.norm 함수를 사용ㅇ\n",
    "np.linalg.norm(arr)"
   ]
  },
  {
   "cell_type": "markdown",
   "id": "1527bfff-3e31-4adc-873e-468734e2156a",
   "metadata": {},
   "source": [
    "### 단위 벡터(unit vector)"
   ]
  },
  {
   "cell_type": "markdown",
   "id": "5f2ba5e5-db38-4ead-8b9b-9b364a1f562b",
   "metadata": {},
   "source": [
    "- 벡터의 크기가 항상 1인 경우를 단위 벡터라고 함\n",
    "\n",
    "- 표준 단위벡터(standard unit vector) 는 원소 중에 하나가 1이고 나머지 원소가 0인경우"
   ]
  },
  {
   "cell_type": "code",
   "execution_count": 120,
   "id": "747a796f-da95-4467-b6b3-a20a6b49cfa3",
   "metadata": {},
   "outputs": [
    {
     "name": "stdout",
     "output_type": "stream",
     "text": [
      "1.0\n"
     ]
    }
   ],
   "source": [
    "# 표준 단위 벡터 예시\n",
    "\n",
    "e1 = np.array([1,0,0])\n",
    "\n",
    "print(np.linalg.norm(e1))"
   ]
  },
  {
   "cell_type": "code",
   "execution_count": 121,
   "id": "c267ce11-2047-4e46-a793-964e5c866314",
   "metadata": {},
   "outputs": [
    {
     "name": "stdout",
     "output_type": "stream",
     "text": [
      "1.0\n"
     ]
    }
   ],
   "source": [
    "# 표준 단위 벡터 예시\n",
    "\n",
    "e2 = np.array([0,1,0])\n",
    "\n",
    "print(np.linalg.norm(e2))"
   ]
  },
  {
   "cell_type": "code",
   "execution_count": 122,
   "id": "de872b92-4910-4d9d-a5b2-d8720adfbb32",
   "metadata": {},
   "outputs": [
    {
     "name": "stdout",
     "output_type": "stream",
     "text": [
      "1.0\n"
     ]
    }
   ],
   "source": [
    "e2 = np.array([0,0,1])\n",
    "print(np.linalg.norm(e2))"
   ]
  },
  {
   "cell_type": "markdown",
   "id": "ecb58cc4-6726-4011-a391-c0c2b1ba8d9e",
   "metadata": {},
   "source": [
    "- 일반적인 단위 벡터를 구할 때는 벡터의 크기를 구하고 각 언소를 벡터의 크기로 나누어서 구함"
   ]
  },
  {
   "cell_type": "code",
   "execution_count": 125,
   "id": "e3d239b7-7abe-4024-bb79-d9e58ce3434b",
   "metadata": {},
   "outputs": [
    {
     "data": {
      "text/plain": [
       "array([1, 2, 3])"
      ]
     },
     "execution_count": 125,
     "metadata": {},
     "output_type": "execute_result"
    }
   ],
   "source": [
    "# 1차원 배열을 생성하고 이 배열의 크기를 계산\n",
    "v_3= np.array([1,2,3]) # 이것 또한 피타고라스 정리이다 (1제곱 + 2제곱 + 3제곱 ) 루트\n",
    "v_3"
   ]
  },
  {
   "cell_type": "code",
   "execution_count": 126,
   "id": "469d65cc-8a19-457d-a2ee-ea67cc6db2d9",
   "metadata": {},
   "outputs": [],
   "source": [
    "v_3_n = np.linalg.norm(v_3)"
   ]
  },
  {
   "cell_type": "code",
   "execution_count": 127,
   "id": "653fd04b-ff2a-472c-827d-c12656b3345c",
   "metadata": {},
   "outputs": [
    {
     "data": {
      "text/plain": [
       "np.float64(3.7416573867739413)"
      ]
     },
     "execution_count": 127,
     "metadata": {},
     "output_type": "execute_result"
    }
   ],
   "source": [
    "v_3_n"
   ]
  },
  {
   "cell_type": "code",
   "execution_count": 128,
   "id": "1c6c416c-d135-4362-a04a-5ca311df3463",
   "metadata": {},
   "outputs": [
    {
     "data": {
      "text/plain": [
       "array([0.26726124, 0.53452248, 0.80178373])"
      ]
     },
     "execution_count": 128,
     "metadata": {},
     "output_type": "execute_result"
    }
   ],
   "source": [
    "v_3_u = v_3 / v_3_n\n",
    "# 단위 벡터이다...! 기존 배열에다가 norm 값 나누면 단위벡터가 나온다!!!\n",
    "v_3_u"
   ]
  },
  {
   "cell_type": "code",
   "execution_count": 130,
   "id": "2bbf955c-92e2-46f4-bb61-3c45863d78db",
   "metadata": {},
   "outputs": [
    {
     "data": {
      "text/plain": [
       "np.float64(1.0)"
      ]
     },
     "execution_count": 130,
     "metadata": {},
     "output_type": "execute_result"
    }
   ],
   "source": [
    "np.linalg.norm(v_3_u) # 짜잔~"
   ]
  },
  {
   "cell_type": "markdown",
   "id": "0e324c5d-c93d-4d56-9f1b-e5b67ec49708",
   "metadata": {},
   "source": [
    "### 왜 기존 배열에서 norm 값을 나누면 단위 벡터가 되는지 유도식\n",
    "\n",
    "1. 1차원 배열 arr = [a,b,c] 가있음\n",
    "2. 1차원 배열의 벡터값 d 가 있음\n",
    "3. 1차원 배열의 벡터값을 공식으로 구하면 arr_1 = 루트(a^2+b^2+c^2) 가 됨\n",
    "4. 1차원 배열 arr 를 벡터값 d 로 나누셈 arr_2 = [a/d , b/d, c/d] 이게되죵?\n",
    "5. arr_2 를 피타고라스 공식을 이용해서 벡터값을 구한뒤 요리조리 풀면 값이 1이 됨"
   ]
  },
  {
   "cell_type": "markdown",
   "id": "b73c8b78-e8fe-40a7-b6a3-dc13eaa31854",
   "metadata": {},
   "source": [
    "## 벡터 상등과 벡터간 거리\n",
    "\n",
    "- 벡터의 상등(equality) : 벡터의 크기와 방향이 같은 경우\n",
    "- 크기는 같지만 방향이 다른 경우는 상등 아님"
   ]
  },
  {
   "cell_type": "code",
   "execution_count": 133,
   "id": "ecfbf1a2-b0f8-4cac-80c7-1d935264ad56",
   "metadata": {},
   "outputs": [],
   "source": [
    "# 두 벡터가 동일한 경우\n",
    "a = np.arange(3,5)\n",
    "b = np.arange(3,5)"
   ]
  },
  {
   "cell_type": "code",
   "execution_count": 138,
   "id": "2269fe71-de54-4ae2-ad35-d9bb674dc4f4",
   "metadata": {},
   "outputs": [
    {
     "data": {
      "text/plain": [
       "array([3, 4])"
      ]
     },
     "execution_count": 138,
     "metadata": {},
     "output_type": "execute_result"
    }
   ],
   "source": [
    "a"
   ]
  },
  {
   "cell_type": "code",
   "execution_count": 134,
   "id": "3ce03d5b-aab6-4097-a26b-7d11fd3d6b2d",
   "metadata": {},
   "outputs": [
    {
     "data": {
      "text/plain": [
       "True"
      ]
     },
     "execution_count": 134,
     "metadata": {},
     "output_type": "execute_result"
    }
   ],
   "source": [
    "# np.array_equal() : 두 배열이 동일한 지 확인하는 함수\n",
    "np.array_equal(a,b)"
   ]
  },
  {
   "cell_type": "code",
   "execution_count": 135,
   "id": "7483c5ce-da39-4840-b74a-a5e2295f7788",
   "metadata": {},
   "outputs": [],
   "source": [
    "# 동일한 두 개의 배열의 크기를 구하여 크기가 동일한지 비교\n",
    "\n",
    "a_1 = np.linalg.norm(a)\n",
    "b_1 = np.linalg.norm(b)"
   ]
  },
  {
   "cell_type": "code",
   "execution_count": 136,
   "id": "2e824aea-0bd6-448c-9fc7-b585fa93bea0",
   "metadata": {},
   "outputs": [
    {
     "data": {
      "text/plain": [
       "np.True_"
      ]
     },
     "execution_count": 136,
     "metadata": {},
     "output_type": "execute_result"
    }
   ],
   "source": [
    "a_1 == b_1"
   ]
  },
  {
   "cell_type": "code",
   "execution_count": 137,
   "id": "654e3a6d-7a02-4b48-853a-7e9be1331c98",
   "metadata": {},
   "outputs": [],
   "source": [
    "# 방향이 반대일 경우에는 -1 곱하여 방향을 바꿈"
   ]
  },
  {
   "cell_type": "code",
   "execution_count": 142,
   "id": "46443943-3801-4196-8b7e-7e13736ef6d2",
   "metadata": {},
   "outputs": [],
   "source": [
    "b_1_2 = np.linalg.norm(-b)"
   ]
  },
  {
   "cell_type": "code",
   "execution_count": 143,
   "id": "f24cc1f4-d265-4e02-8086-a4ee950b9e7a",
   "metadata": {},
   "outputs": [
    {
     "data": {
      "text/plain": [
       "np.float64(5.0)"
      ]
     },
     "execution_count": 143,
     "metadata": {},
     "output_type": "execute_result"
    }
   ],
   "source": [
    "b_1_2"
   ]
  },
  {
   "cell_type": "code",
   "execution_count": 145,
   "id": "3bce057e-fd2d-4268-a4e5-823782374e35",
   "metadata": {},
   "outputs": [
    {
     "data": {
      "text/plain": [
       "np.True_"
      ]
     },
     "execution_count": 145,
     "metadata": {},
     "output_type": "execute_result"
    }
   ],
   "source": [
    "# 크기는 같음\n",
    "a_1 == b_1_2"
   ]
  },
  {
   "cell_type": "code",
   "execution_count": 146,
   "id": "86f66d1d-14ce-4a26-9330-e986a0f289fd",
   "metadata": {},
   "outputs": [
    {
     "data": {
      "text/plain": [
       "False"
      ]
     },
     "execution_count": 146,
     "metadata": {},
     "output_type": "execute_result"
    }
   ],
   "source": [
    "# 하지만 방향이 반대임!!!\n",
    "np.array_equal(a,-b)"
   ]
  },
  {
   "cell_type": "markdown",
   "id": "220eb6ad-0243-4e71-93ac-26b7ec303601",
   "metadata": {},
   "source": [
    "- 두 벡터의 거리는 두 벡터 간의 차를 계산한 후에 제곱을 합산한 후 제곱근 계산"
   ]
  },
  {
   "cell_type": "code",
   "execution_count": 147,
   "id": "6fe4891f-dc01-43ff-9a98-3482ea57e0e2",
   "metadata": {},
   "outputs": [],
   "source": [
    "# 두 개의 벡터인 1차원 배열을 생성\n",
    "c = np.arange(10,13)\n",
    "d = np.arange(0,3)"
   ]
  },
  {
   "cell_type": "code",
   "execution_count": 148,
   "id": "f3a8cdf4-98fa-45ea-bdfe-c4af37abd9ab",
   "metadata": {},
   "outputs": [
    {
     "data": {
      "text/plain": [
       "array([10, 11, 12])"
      ]
     },
     "execution_count": 148,
     "metadata": {},
     "output_type": "execute_result"
    }
   ],
   "source": [
    "c"
   ]
  },
  {
   "cell_type": "code",
   "execution_count": 149,
   "id": "6b9683ee-c2c9-4f2d-9e73-bd76719e6ae7",
   "metadata": {},
   "outputs": [
    {
     "data": {
      "text/plain": [
       "array([0, 1, 2])"
      ]
     },
     "execution_count": 149,
     "metadata": {},
     "output_type": "execute_result"
    }
   ],
   "source": [
    "d"
   ]
  },
  {
   "cell_type": "code",
   "execution_count": 153,
   "id": "8b596bd0-c629-412c-8de8-1a663497e1c9",
   "metadata": {},
   "outputs": [
    {
     "data": {
      "text/plain": [
       "np.float64(17.320508075688775)"
      ]
     },
     "execution_count": 153,
     "metadata": {},
     "output_type": "execute_result"
    }
   ],
   "source": [
    "np.sqrt(np.sum(np.square(c - d))) # 벡터간의 차이~~ c 와 d 를 빼든 d -c 독같이 거리구하죵"
   ]
  },
  {
   "cell_type": "code",
   "execution_count": 155,
   "id": "f22168fe-7b61-4172-a999-323d6b6d3d13",
   "metadata": {},
   "outputs": [
    {
     "data": {
      "text/plain": [
       "np.float64(17.320508075688775)"
      ]
     },
     "execution_count": 155,
     "metadata": {},
     "output_type": "execute_result"
    }
   ],
   "source": [
    "# norm 함수에 두 벡터의 차를 인자로 전달하는 방법도 있다!!!\n",
    "np.linalg.norm(c - d) # 거리만!"
   ]
  },
  {
   "cell_type": "markdown",
   "id": "65cdad90-cde1-434f-be87-264568ed6594",
   "metadata": {},
   "source": [
    "# 행렬\n",
    "\n",
    "- 벡터는 하나의 차원이 축을 가져서 1차원 배열로 표시했지만 행렬은 두개의 축인 차원을 가짐\n",
    "- 이차원의 수평 방향을 행(row), 수직 방향을 열(column) 이라고 함\n",
    "\n",
    "- 보통 선형 대수는 대괄호 내에 행과 열의 인덱스 위치에 숫자를 나열해서 표시\n",
    "- 행렬을 부를 때는 보통 m 개행, n 개 열로 이루어져 m * n 행렬이라고 부름"
   ]
  },
  {
   "cell_type": "code",
   "execution_count": 156,
   "id": "6114dbc7-74be-4c4e-a04f-3553c8bde4dc",
   "metadata": {},
   "outputs": [],
   "source": [
    "# 항상 향상심을 가져야한다 고인물이 되면 안됩니다..."
   ]
  },
  {
   "cell_type": "code",
   "execution_count": 157,
   "id": "8c31018d-32e8-4d4e-8159-42454750560d",
   "metadata": {},
   "outputs": [
    {
     "data": {
      "text/plain": [
       "array([[43],\n",
       "       [44]])"
      ]
     },
     "execution_count": 157,
     "metadata": {},
     "output_type": "execute_result"
    }
   ],
   "source": [
    "a = np.array([[43], [44]])\n",
    "a"
   ]
  },
  {
   "cell_type": "code",
   "execution_count": 158,
   "id": "ecc18bbf-d624-476e-af4f-e89ba5d4246e",
   "metadata": {},
   "outputs": [
    {
     "data": {
      "text/plain": [
       "2"
      ]
     },
     "execution_count": 158,
     "metadata": {},
     "output_type": "execute_result"
    }
   ],
   "source": [
    "a.ndim"
   ]
  },
  {
   "cell_type": "code",
   "execution_count": 159,
   "id": "4a48e41e-ba75-4113-8d95-29c9b55db2ad",
   "metadata": {},
   "outputs": [
    {
     "data": {
      "text/plain": [
       "dtype('int64')"
      ]
     },
     "execution_count": 159,
     "metadata": {},
     "output_type": "execute_result"
    }
   ],
   "source": [
    "# 행렬도 하나의 배열이므로 하나의 자료형을 가짐\n",
    "a.dtype"
   ]
  },
  {
   "cell_type": "code",
   "execution_count": 160,
   "id": "1f54ac04-c6d4-498b-9c77-1947118ba32c",
   "metadata": {},
   "outputs": [
    {
     "data": {
      "text/plain": [
       "(2, 1)"
      ]
     },
     "execution_count": 160,
     "metadata": {},
     "output_type": "execute_result"
    }
   ],
   "source": [
    "a.shape"
   ]
  },
  {
   "cell_type": "code",
   "execution_count": 161,
   "id": "242e6d8a-8c5a-47ee-8776-68ec8c185dd5",
   "metadata": {},
   "outputs": [],
   "source": [
    "# np.full(형상, 채워질 값, 자료형) : 다차원 배열의 원소의 값을 동일하게 채움"
   ]
  },
  {
   "cell_type": "code",
   "execution_count": 168,
   "id": "8a2c8c0f-8611-47a3-a592-1797481c81bd",
   "metadata": {},
   "outputs": [
    {
     "data": {
      "text/plain": [
       "array([[7, 7, 7, 7],\n",
       "       [7, 7, 7, 7],\n",
       "       [7, 7, 7, 7]])"
      ]
     },
     "execution_count": 168,
     "metadata": {},
     "output_type": "execute_result"
    }
   ],
   "source": [
    "np.full((3,4), 7, int)"
   ]
  },
  {
   "cell_type": "markdown",
   "id": "5f577d0e-30ec-4892-b167-28518f164a11",
   "metadata": {},
   "source": [
    "## 축(Axis)\n",
    "\n",
    "- 텐서 (Tensor) 는 다양한 차원을 가지는 벡터와 행렬의 추상적인 명칭\n",
    "\n",
    "- 선형대수에서는 텐서 중에 벡터와 행렬을 별도의 명칭으로 부름\n",
    "- 하지만 벡터와 행렬도 텐서의 차원으로 확인하면 1차원, 2차원\n",
    "\n",
    "- 차원을 다른 표현으로는 축이라고 함"
   ]
  },
  {
   "cell_type": "markdown",
   "id": "b98c1959-0b75-4831-90de-eced31c765bb",
   "metadata": {},
   "source": [
    "### 배열 축\n",
    "- 1차원 배열은 1개 축에 원소들이 나열됨\n",
    "- 1차원 배열은 하나의 축만 있어서 0 번 축만 구성\n",
    "    - 축의 번호도 0 부터 시작"
   ]
  },
  {
   "cell_type": "code",
   "execution_count": 170,
   "id": "505c2480-f51f-4529-b8eb-7de5e47f1806",
   "metadata": {},
   "outputs": [],
   "source": [
    "a = np.arange(1,10)"
   ]
  },
  {
   "cell_type": "code",
   "execution_count": 171,
   "id": "2d39ce90-049d-4264-b300-191dd6e30f9f",
   "metadata": {},
   "outputs": [
    {
     "data": {
      "text/plain": [
       "array([1, 2, 3, 4, 5, 6, 7, 8, 9])"
      ]
     },
     "execution_count": 171,
     "metadata": {},
     "output_type": "execute_result"
    }
   ],
   "source": [
    "a"
   ]
  },
  {
   "cell_type": "code",
   "execution_count": 173,
   "id": "549e9a9a-6d09-4718-b6fd-a97446be8de8",
   "metadata": {},
   "outputs": [
    {
     "name": "stdout",
     "output_type": "stream",
     "text": [
      "45\n",
      "45\n"
     ]
    }
   ],
   "source": [
    "# 전체 원소들의 합\n",
    "print(a.sum())\n",
    "print(np.sum(a))"
   ]
  },
  {
   "cell_type": "code",
   "execution_count": 175,
   "id": "154636e8-df03-4024-b6a1-d7682385cf8d",
   "metadata": {},
   "outputs": [
    {
     "name": "stdout",
     "output_type": "stream",
     "text": [
      "45\n",
      "45\n"
     ]
    }
   ],
   "source": [
    "# sum 메소드의 매개변수에 축의 정보 0 을 전달\n",
    "# 벡터는 0번 축만 있어서 전달하지 않은 것과 동일한 값을 반환\n",
    "print(a.sum(axis=0), )\n",
    "print(np.sum(a, axis=0))"
   ]
  },
  {
   "cell_type": "code",
   "execution_count": 176,
   "id": "3aafd7ae-2dfd-4374-9893-b1586e8982ad",
   "metadata": {},
   "outputs": [],
   "source": [
    "# 2차원 배열 생성\n",
    "\n",
    "a = np.array([[2,3], [4,5]])"
   ]
  },
  {
   "cell_type": "code",
   "execution_count": 177,
   "id": "24b19953-acff-4da5-aa62-8dc779322da2",
   "metadata": {},
   "outputs": [
    {
     "data": {
      "text/plain": [
       "array([[2, 3],\n",
       "       [4, 5]])"
      ]
     },
     "execution_count": 177,
     "metadata": {},
     "output_type": "execute_result"
    }
   ],
   "source": [
    "a"
   ]
  },
  {
   "cell_type": "code",
   "execution_count": 178,
   "id": "c8bcc311-ea9f-4308-811a-e920e5097f72",
   "metadata": {},
   "outputs": [
    {
     "data": {
      "text/plain": [
       "np.int64(14)"
      ]
     },
     "execution_count": 178,
     "metadata": {},
     "output_type": "execute_result"
    }
   ],
   "source": [
    "# 원소들의 값을 전부 합산\n",
    "a.sum()"
   ]
  },
  {
   "cell_type": "code",
   "execution_count": 182,
   "id": "b0b299ae-c560-4c66-8530-1604cef9199e",
   "metadata": {},
   "outputs": [
    {
     "data": {
      "text/plain": [
       "array([6, 8])"
      ]
     },
     "execution_count": 182,
     "metadata": {},
     "output_type": "execute_result"
    }
   ],
   "source": [
    "# 0 번 축을 기준으로 원소 계산\n",
    "a.sum(axis=0) # 행 방향 (=행을 관통하는 방향!)"
   ]
  },
  {
   "cell_type": "code",
   "execution_count": 183,
   "id": "9bd3d52c-19ac-4c60-8964-935f477b52e9",
   "metadata": {},
   "outputs": [
    {
     "data": {
      "text/plain": [
       "array([5, 9])"
      ]
     },
     "execution_count": 183,
     "metadata": {},
     "output_type": "execute_result"
    }
   ],
   "source": [
    "a.sum(axis=1) # 열 방향 (=열을 관통하는 방향)"
   ]
  },
  {
   "cell_type": "markdown",
   "id": "bcbaa262-d393-4936-9535-16674bc4745a",
   "metadata": {},
   "source": [
    "- 3차원 배열은 축이 3개\n",
    "    - 2차원 배열이 0 번 축인 깊이를 기준으로 누적된 구조\n",
    "    - 1번 축과 2번 축은 실제 2차원인 행렬"
   ]
  },
  {
   "cell_type": "code",
   "execution_count": 184,
   "id": "046ed820-72e8-455f-aea9-f47eebfc3fd9",
   "metadata": {},
   "outputs": [],
   "source": [
    "c = np.array([[[1,2],[3,4]] , [[5,6],[7,8]]])"
   ]
  },
  {
   "cell_type": "code",
   "execution_count": 185,
   "id": "512f2d47-3567-4dfe-b3e1-5156e9190e28",
   "metadata": {},
   "outputs": [
    {
     "data": {
      "text/plain": [
       "array([[[1, 2],\n",
       "        [3, 4]],\n",
       "\n",
       "       [[5, 6],\n",
       "        [7, 8]]])"
      ]
     },
     "execution_count": 185,
     "metadata": {},
     "output_type": "execute_result"
    }
   ],
   "source": [
    "c"
   ]
  },
  {
   "cell_type": "code",
   "execution_count": 186,
   "id": "eb072e83-85ed-46b9-8c7f-abee9c3cb4ba",
   "metadata": {},
   "outputs": [
    {
     "data": {
      "text/plain": [
       "(2, 2, 2)"
      ]
     },
     "execution_count": 186,
     "metadata": {},
     "output_type": "execute_result"
    }
   ],
   "source": [
    "c.shape"
   ]
  },
  {
   "cell_type": "code",
   "execution_count": 190,
   "id": "6db0c1fc-b9bc-4134-86fc-4f0b9b46656d",
   "metadata": {},
   "outputs": [
    {
     "data": {
      "text/plain": [
       "array([[1, 2],\n",
       "       [3, 4]])"
      ]
     },
     "execution_count": 190,
     "metadata": {},
     "output_type": "execute_result"
    }
   ],
   "source": [
    "# 3차원 배열의 0 번 축을 기준으로 인덱싱하면 두개의 2차원 배열을 조회할 수 있음\n",
    "c[0]"
   ]
  },
  {
   "cell_type": "code",
   "execution_count": 191,
   "id": "c199e0dd-5675-43e2-961f-91b3652e54dc",
   "metadata": {},
   "outputs": [],
   "source": [
    "# 0 번 축을 기준으로 계산을 하면 두 행렬의 동일한 위치의 원소를 계산하라는 뜻"
   ]
  },
  {
   "cell_type": "code",
   "execution_count": 192,
   "id": "9c0b94ea-3b92-4622-88d1-fff21979c431",
   "metadata": {},
   "outputs": [
    {
     "data": {
      "text/plain": [
       "array([[ 6,  8],\n",
       "       [10, 12]])"
      ]
     },
     "execution_count": 192,
     "metadata": {},
     "output_type": "execute_result"
    }
   ],
   "source": [
    "np.sum(c,axis=0)"
   ]
  },
  {
   "cell_type": "code",
   "execution_count": 197,
   "id": "195622c5-2195-4535-bf2a-24ee83844cc8",
   "metadata": {},
   "outputs": [
    {
     "data": {
      "text/plain": [
       "array([[ 4,  6],\n",
       "       [12, 14]])"
      ]
     },
     "execution_count": 197,
     "metadata": {},
     "output_type": "execute_result"
    }
   ],
   "source": [
    "# 1번 축으로 계산하면 행렬 내의 수직 방향으로 계산\n",
    "np.sum(c,axis=1)"
   ]
  },
  {
   "cell_type": "code",
   "execution_count": 198,
   "id": "af95cadf-0148-4735-bba0-b56414c61e1a",
   "metadata": {},
   "outputs": [
    {
     "data": {
      "text/plain": [
       "array([[ 3,  7],\n",
       "       [11, 15]])"
      ]
     },
     "execution_count": 198,
     "metadata": {},
     "output_type": "execute_result"
    }
   ],
   "source": [
    "# 2번 축으로 계산하면 행렬의 수평 방향으로 계산\n",
    "np.sum(c,axis=2)"
   ]
  },
  {
   "cell_type": "code",
   "execution_count": null,
   "id": "a4d5f63a-d576-4168-8dc3-88401f49223c",
   "metadata": {},
   "outputs": [],
   "source": []
  },
  {
   "cell_type": "code",
   "execution_count": null,
   "id": "9836a1ae-2521-4d6e-ad2c-94a8c72f0e1a",
   "metadata": {},
   "outputs": [],
   "source": []
  }
 ],
 "metadata": {
  "kernelspec": {
   "display_name": "Python 3 (ipykernel)",
   "language": "python",
   "name": "python3"
  },
  "language_info": {
   "codemirror_mode": {
    "name": "ipython",
    "version": 3
   },
   "file_extension": ".py",
   "mimetype": "text/x-python",
   "name": "python",
   "nbconvert_exporter": "python",
   "pygments_lexer": "ipython3",
   "version": "3.13.5"
  }
 },
 "nbformat": 4,
 "nbformat_minor": 5
}
