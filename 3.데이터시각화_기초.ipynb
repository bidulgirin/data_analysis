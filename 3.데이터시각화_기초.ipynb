{
 "cells": [
  {
   "cell_type": "code",
   "execution_count": 2,
   "id": "a9f0829b-6261-4472-95d7-7d308f63784d",
   "metadata": {},
   "outputs": [],
   "source": [
    "# 10월 27일 시험(구두발표30,체크리스트70) 구두발표 30 base"
   ]
  },
  {
   "cell_type": "markdown",
   "id": "89490f9e-2ed1-4a74-90bb-0618b8a92c1a",
   "metadata": {},
   "source": [
    "# 프롤로그\n",
    "### 시각화의 필요성\n",
    "- 데이터의 이해\n",
    "- 설득력 \n",
    "\n",
    "### 좋은 그래프\n",
    "- 청중들이 딱 보면 데이터를 이해함!\n",
    "\n",
    "### 예시\n",
    "- 나이팅게일 로즈 다이어그램\n",
    "- 낙진님의 회사 연봉 협상 대작전"
   ]
  },
  {
   "cell_type": "markdown",
   "id": "2c5dc5ec-5b12-448d-9d7f-469cc4bf7f98",
   "metadata": {},
   "source": [
    "# 데이터 시각화\n",
    "\n",
    "- 데이터를 분석한 결과를 쉽게 이해할 수 있도록 표현한여 전달하는 것\n",
    "\n",
    "- 데이터 시각화가 필요한 이유\n",
    "    - 많은 양의 데이터를 한 눈에 살펴볼 수 있음\n",
    "    - 전문 지식이 없더라도 누구나 쉽게 데이터를 인지하고 사용할 수 있음\n",
    "    - 단순한 데이터의 요약이나 나열보다 더 정확한 데이터 분석 결과를 얻을 수 있음\n",
    "    - 단순한 데이터에서는 알 수 없었던 중요한 정보를 파악할 수 있음"
   ]
  },
  {
   "cell_type": "markdown",
   "id": "b9948337-2fa2-4c11-a78c-8ab40477f7d0",
   "metadata": {},
   "source": [
    "- 더 좋은 시각화를 볼 줄 알게 되는것이 목표\n",
    "- 분석 보고서를 보는것... <b style=\"color:red\">주식 유튜브를 봐라! 분석을 기깔나게 한다.</b>"
   ]
  },
  {
   "cell_type": "markdown",
   "id": "8abe5664-bea8-4b8f-86cc-6a8f3e1442d9",
   "metadata": {},
   "source": [
    "- 파이썬의 시각화 라이브러리\n",
    "    - matplotlib ( 주력! )\n",
    "        - 파이썬에서 가장 많이 사용하는 시각화 라이브러리\n",
    "        - 판다스의 데이터프레임을 바로 시각화할 때도 내부적으로 matplotlib 을 사용\n",
    "        - 데이터 분석 이전의 데이터 이해를 위한 시각화 또는 데이터 분석 이후의 결과를 시각화하기 위해 사용\n",
    "    - seaborn (씨에본/씨본 : 어감이 그렇다, stand alone 확장팩 같은 녀석이다)\n",
    "        - matplotlib 을 기반으로 색 테마, 차트 기능 등을 추가해주는 라이브러리\n",
    "        - matplotlib 과 함께 사용하며 히트맵, 카운트 플롯 등을 제공\n",
    "    - folium (지도성애자 story)\n",
    "        - 지도 데이터를 이용하여 위치 정보를 시각화하는 라이브러리\n",
    "        - 자바스크립트 기반의 인터랙티브 그래프(상호작용이 된다!)를 그릴 수 있음\n",
    "    - plotly ( 3d로 빙글빙글 돌릴수있음 )\n",
    "        - 인터랙티브 그래프를 그려주는 라이브러리\n",
    "     \n",
    "    - wordcloud\n",
    "        - 글자와글와글"
   ]
  },
  {
   "cell_type": "markdown",
   "id": "29e93a7c-90ad-49bd-b0a8-328c61ad3432",
   "metadata": {},
   "source": [
    "# 시각화 단계\n",
    "\n",
    "1. 시각화 라이브러리 불러오기\n",
    "    - 어떤 라이브러리 쓸꺼임?\n",
    "2. x축, y축에 표시할 데이터 정하기\n",
    "    - 어떤 형태의 그림을 그리고 싶은지 정하고 들어가는 거에요~\n",
    "3. plot() 함수에 데이터 입력하기\n",
    "    - 함수에 집중하는게 아니라! 데이터에 집중하세요\n",
    "    - 데이터 전처리가 더 중요합니다 ( 몽골대학생 : 나 대학생 논문 봐줘 돈. 가능 )\n",
    "4. 그래프 보여주기"
   ]
  },
  {
   "cell_type": "code",
   "execution_count": 3,
   "id": "b854f784-fc11-4b6f-aaad-7fad54d81c3e",
   "metadata": {},
   "outputs": [],
   "source": [
    "import matplotlib.pyplot as plt\n",
    "import numpy as np\n",
    "import pandas as pd\n",
    "import seaborn as sns"
   ]
  },
  {
   "cell_type": "code",
   "execution_count": 4,
   "id": "04f473dd-8407-44f7-8347-6622dd518443",
   "metadata": {},
   "outputs": [],
   "source": [
    "# windows 용 한글 폰트 오류 해결\n",
    "from matplotlib import font_manager, rc\n",
    "\n",
    "font_path = \"C:/Windows/Fonts/malgun.ttf\"\n",
    "font_name = font_manager.FontProperties(fname = font_path).get_name()\n",
    "rc(\"font\", family = font_name)"
   ]
  },
  {
   "cell_type": "code",
   "execution_count": null,
   "id": "d413d323-f169-4efe-ad45-a5f2ccafd30c",
   "metadata": {},
   "outputs": [],
   "source": [
    "# mac os 용 한글 폰트 오류 해결 (실행하지마!!!!!)\n",
    "# from matplotlib import rc\n",
    "# rc(\"font\", family = \"AppleGothic\")"
   ]
  },
  {
   "cell_type": "code",
   "execution_count": 5,
   "id": "60ef6c8d-612b-48e1-b983-0dbefaebaa0d",
   "metadata": {},
   "outputs": [],
   "source": [
    "# 발표할때는 한국말로 변경하는게 좋다"
   ]
  },
  {
   "cell_type": "markdown",
   "id": "c5edac4c-c66f-417a-a3d9-390d548ae6e5",
   "metadata": {},
   "source": [
    "# 그래프란\n",
    "\n",
    "- 서로 연관성 있는 1개 또는 그 이상의 양에 대한 상대값을 도형으로 나타내느 것\n",
    "\n",
    "### 그래프 사용시 반박시 니말맞음 하지만 일반적으로 사용하는 그래프가 있으니...(시인성 + 프로젝트의주제)에 따라달라짐\n",
    "- 데이터의 갯수, 종류에 따른 그래프의 종류\n",
    "    - 일변량(컬럼이 한개) : \n",
    "        - 연속형\n",
    "             - 히스토그램(histogram) : 분포를 나타낼때 기본적으로 사용\n",
    "             - 상자수염 그래프(boxplot) \n",
    "             - 바이올린 그래프(violin) : 창사용그래프에서 개선\n",
    "             - 커널 밀도 그래프(kernel density curve)\n",
    "        - 범주형\n",
    "            - 막대 그래프(bar chart)\n",
    "            - 파이 그래프(pie chart)\n",
    "    - 다변량(컬럼이 2개이상)\n",
    "        - 연속형\n",
    "              - 산점도(scatter plot) : 관계를 나타낼때 기본적으로 사용\n",
    "              - 선 그래프(line) : x축에는 시간이 주로 들어갈때 쓴다(시계열그래프예제)\n",
    "\n",
    "        - 범주형\n",
    "            -  "
   ]
  },
  {
   "cell_type": "code",
   "execution_count": null,
   "id": "7cbf8a1b-fdb5-479a-8a9b-5c9da218900e",
   "metadata": {},
   "outputs": [],
   "source": []
  }
 ],
 "metadata": {
  "kernelspec": {
   "display_name": "Python 3 (ipykernel)",
   "language": "python",
   "name": "python3"
  },
  "language_info": {
   "codemirror_mode": {
    "name": "ipython",
    "version": 3
   },
   "file_extension": ".py",
   "mimetype": "text/x-python",
   "name": "python",
   "nbconvert_exporter": "python",
   "pygments_lexer": "ipython3",
   "version": "3.13.5"
  }
 },
 "nbformat": 4,
 "nbformat_minor": 5
}
