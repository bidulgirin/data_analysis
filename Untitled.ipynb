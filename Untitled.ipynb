{
 "cells": [
  {
   "cell_type": "code",
   "execution_count": 19,
   "id": "acdbc35e-77d7-4134-888e-59764d4f51d5",
   "metadata": {},
   "outputs": [],
   "source": [
    "import numpy as np"
   ]
  },
  {
   "cell_type": "code",
   "execution_count": 20,
   "id": "dc499133-c219-40f7-afa8-5eb793b66b9b",
   "metadata": {},
   "outputs": [],
   "source": [
    "arr = np.random.randint(2,4, size = (2,3,2,7))"
   ]
  },
  {
   "cell_type": "code",
   "execution_count": 21,
   "id": "9c8cce6a-4225-4e84-bff5-eccf6b4d2277",
   "metadata": {},
   "outputs": [
    {
     "data": {
      "text/plain": [
       "array([[[[2, 2, 3, 2, 2, 3, 2],\n",
       "         [3, 2, 2, 3, 3, 3, 3]],\n",
       "\n",
       "        [[3, 3, 3, 2, 2, 2, 2],\n",
       "         [3, 3, 3, 2, 2, 2, 3]],\n",
       "\n",
       "        [[3, 2, 3, 2, 3, 2, 2],\n",
       "         [3, 2, 3, 3, 3, 2, 2]]],\n",
       "\n",
       "\n",
       "       [[[2, 3, 2, 3, 3, 2, 2],\n",
       "         [2, 3, 2, 3, 2, 3, 2]],\n",
       "\n",
       "        [[2, 3, 2, 2, 2, 2, 3],\n",
       "         [2, 3, 2, 3, 3, 3, 3]],\n",
       "\n",
       "        [[3, 3, 2, 2, 2, 2, 3],\n",
       "         [3, 2, 2, 2, 2, 2, 2]]]], dtype=int32)"
      ]
     },
     "execution_count": 21,
     "metadata": {},
     "output_type": "execute_result"
    }
   ],
   "source": [
    "arr"
   ]
  },
  {
   "cell_type": "code",
   "execution_count": 24,
   "id": "2a16ca32-cbe3-48e2-8b07-d867a5f171b0",
   "metadata": {},
   "outputs": [
    {
     "data": {
      "text/plain": [
       "array([2.58333333, 2.58333333, 2.41666667, 2.41666667, 2.41666667,\n",
       "       2.33333333, 2.41666667])"
      ]
     },
     "execution_count": 24,
     "metadata": {},
     "output_type": "execute_result"
    }
   ],
   "source": [
    "# 전체 열들의 평균\n",
    "# 열들을 모두 합쳐야하니까 행기준 axis = 1\n",
    "# 차원이 4차원, 3차원은 뭉게야함\n",
    "\n",
    "np.mean(arr, axis=(0,1,2))"
   ]
  },
  {
   "cell_type": "code",
   "execution_count": 25,
   "id": "69bcb179-f65c-4d8f-bee1-76eaf0c193c3",
   "metadata": {},
   "outputs": [
    {
     "data": {
      "text/plain": [
       "(7,)"
      ]
     },
     "execution_count": 25,
     "metadata": {},
     "output_type": "execute_result"
    }
   ],
   "source": [
    "np.mean(arr, axis=(0,1,2)).shape"
   ]
  },
  {
   "cell_type": "code",
   "execution_count": 26,
   "id": "557d36be-037e-4405-bbea-1595e874b3a3",
   "metadata": {},
   "outputs": [
    {
     "data": {
      "text/plain": [
       "array([0.48562091, 0.49943278])"
      ]
     },
     "execution_count": 26,
     "metadata": {},
     "output_type": "execute_result"
    }
   ],
   "source": [
    "# 전체 행들의 표준편차를 구해라\n",
    "np.std(arr, axis=(0,1,3))"
   ]
  },
  {
   "cell_type": "code",
   "execution_count": null,
   "id": "6fddff9f-6fda-4ec3-97ab-64a902fb89ae",
   "metadata": {},
   "outputs": [],
   "source": []
  }
 ],
 "metadata": {
  "kernelspec": {
   "display_name": "Python 3 (ipykernel)",
   "language": "python",
   "name": "python3"
  },
  "language_info": {
   "codemirror_mode": {
    "name": "ipython",
    "version": 3
   },
   "file_extension": ".py",
   "mimetype": "text/x-python",
   "name": "python",
   "nbconvert_exporter": "python",
   "pygments_lexer": "ipython3",
   "version": "3.13.5"
  }
 },
 "nbformat": 4,
 "nbformat_minor": 5
}
